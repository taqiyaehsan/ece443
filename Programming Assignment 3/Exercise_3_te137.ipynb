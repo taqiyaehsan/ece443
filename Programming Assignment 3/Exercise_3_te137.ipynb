{
  "nbformat": 4,
  "nbformat_minor": 0,
  "metadata": {
    "kernelspec": {
      "display_name": "Python 3",
      "language": "python",
      "name": "python3"
    },
    "language_info": {
      "codemirror_mode": {
        "name": "ipython",
        "version": 3
      },
      "file_extension": ".py",
      "mimetype": "text/x-python",
      "name": "python",
      "nbconvert_exporter": "python",
      "pygments_lexer": "ipython3",
      "version": "3.7.9"
    },
    "colab": {
      "provenance": [],
      "collapsed_sections": []
    }
  },
  "cells": [
    {
      "cell_type": "markdown",
      "source": [
        "# Taqiya Ehsan\n",
        "# Programming Exercise \\#3\n",
        "---"
      ],
      "metadata": {
        "id": "DAO8AZsc266y"
      }
    },
    {
      "cell_type": "markdown",
      "source": [
        "# Preamble"
      ],
      "metadata": {
        "id": "rJOtXeNg38_u"
      }
    },
    {
      "cell_type": "code",
      "source": [
        "# optional code cell when using Google Colab with Google Drive\n",
        "\n",
        "# remove the docstring comment block below in order to mount Google Drive\n",
        "\n",
        "# mount Google Drive in Google Colab\n",
        "from google.colab import drive\n",
        "drive.mount('/content/drive')\n",
        "\n",
        "# change directory using the magic command %cd\n",
        "### replace [MY PATH] below with your own path in Google Drive ###\n",
        "# %cd /content/drive/My\\ Drive/[MY PATH] ###"
      ],
      "metadata": {
        "id": "Ldu0WSDK4IjA",
        "colab": {
          "base_uri": "https://localhost:8080/",
          "height": 0
        },
        "outputId": "12643942-d38c-4bdc-f83d-d795c76efe7e"
      },
      "execution_count": 1,
      "outputs": [
        {
          "output_type": "stream",
          "name": "stdout",
          "text": [
            "Mounted at /content/drive\n"
          ]
        }
      ]
    },
    {
      "cell_type": "code",
      "source": [
        "# import relevant Python libraries\n",
        "### Your import commands go here ###\n",
        "import numpy as np\n",
        "import pandas as pd\n",
        "from scipy import stats as sps\n",
        "from matplotlib import pyplot as plt\n",
        "from mpl_toolkits.mplot3d import Axes3D\n",
        "from IPython.display import display, Latex"
      ],
      "metadata": {
        "id": "rjUKWdVD_Eqh"
      },
      "execution_count": 1,
      "outputs": []
    },
    {
      "cell_type": "markdown",
      "metadata": {
        "id": "RO2Ki83J2niP"
      },
      "source": [
        "# **1. Non-centered Data and Principal Component Analysis (PCA)**"
      ]
    },
    {
      "cell_type": "markdown",
      "metadata": {
        "id": "aikIRGtr2niQ"
      },
      "source": [
        "## 1.1"
      ]
    },
    {
      "cell_type": "code",
      "metadata": {
        "id": "Lfh4yXOk2niW",
        "colab": {
          "base_uri": "https://localhost:8080/",
          "height": 0
        },
        "outputId": "38b5935b-eb69-4bae-b6eb-f8ac824ab5b6"
      },
      "source": [
        "### Your code for 1.1 goes here ###\n",
        "A = np.random.randn(3, 2)\n",
        "c = np.random.normal(0, np.sqrt(3), (3, 1))\n",
        "print(f'A = {A}')\n",
        "print(f'c = {c}')"
      ],
      "execution_count": 3,
      "outputs": [
        {
          "output_type": "stream",
          "name": "stdout",
          "text": [
            "A = [[ 1.2347528  -2.1653595 ]\n",
            " [-0.96538906 -2.79529882]\n",
            " [-1.1283164  -1.42341097]]\n",
            "c = [[ 2.37600741]\n",
            " [-0.08630486]\n",
            " [-0.27212963]]\n"
          ]
        }
      ]
    },
    {
      "cell_type": "markdown",
      "metadata": {
        "id": "Z0L4G8C-2nid"
      },
      "source": [
        "## 1.2"
      ]
    },
    {
      "cell_type": "code",
      "metadata": {
        "id": "K5oAuY1E2nie"
      },
      "source": [
        "### Your code for 1.2 goes here ###\n",
        "X_T = np.zeros([3, 250])\n",
        "\n",
        "for ctr in range(250):\n",
        "  b_i = np.random.randn(2, 1)\n",
        "  X_T[:, [ctr]] = (np.matmul(A, b_i)) + c\n",
        "\n",
        "X = np.transpose(X_T)\n",
        "# X (250, 3) --> each row is a data sample"
      ],
      "execution_count": 4,
      "outputs": []
    },
    {
      "cell_type": "markdown",
      "metadata": {
        "id": "bx9KXie42nik"
      },
      "source": [
        "## 1.3"
      ]
    },
    {
      "cell_type": "code",
      "metadata": {
        "id": "4uhYkSmY2nil",
        "colab": {
          "base_uri": "https://localhost:8080/",
          "height": 0
        },
        "outputId": "ff4a7b4a-9f1c-4e11-e8ca-933c5737b335"
      },
      "source": [
        "### Your code for 1.3 goes here ###\n",
        "np.linalg.matrix_rank(X)"
      ],
      "execution_count": 5,
      "outputs": [
        {
          "output_type": "execute_result",
          "data": {
            "text/plain": [
              "3"
            ]
          },
          "metadata": {},
          "execution_count": 5
        }
      ]
    },
    {
      "cell_type": "markdown",
      "metadata": {
        "id": "BoUIuPe62nir"
      },
      "source": [
        "## 1.4"
      ]
    },
    {
      "cell_type": "markdown",
      "metadata": {
        "id": "rvrjy0LR2nit"
      },
      "source": [
        "_[Your answer for 1.4 goes here]_\n",
        "\n",
        "1. **c** = **-[mean vector of X]** could be a possible vector that guarantees centered data matrix **X**. This **c** is the mean of the matrix generated by doing A*b_i as before. So, we're essentially subtracting the mean from X, hence centering it.\n",
        "\n",
        "2. Another potential **c** = **-[median vector of X]**. Here, too, like before we are essentially subtracting the median of **X**=A*b_i, hence guaranteeing that it is centered."
      ]
    },
    {
      "cell_type": "markdown",
      "metadata": {
        "id": "vsxCNaMf2niu"
      },
      "source": [
        "## 1.5"
      ]
    },
    {
      "cell_type": "markdown",
      "metadata": {
        "id": "J6Q4Oz8M2niv"
      },
      "source": [
        "### (a)"
      ]
    },
    {
      "cell_type": "code",
      "metadata": {
        "id": "YRmWdR5-2niw",
        "colab": {
          "base_uri": "https://localhost:8080/",
          "height": 0
        },
        "outputId": "3032ca5e-88bd-4491-d549-bfaa16d1bfac"
      },
      "source": [
        "### Your code for 1.5(a) goes here ###\n",
        "\n",
        "# top 2 principal components V = [v1 v2]\n",
        "U, E, V_T = np.linalg.svd(X)\n",
        "V = np.transpose(V_T)\n",
        "Vk = V[:, 0:2]\n",
        "Vk_T = np.transpose(Vk)\n",
        "Vk.shape"
      ],
      "execution_count": 6,
      "outputs": [
        {
          "output_type": "execute_result",
          "data": {
            "text/plain": [
              "(3, 2)"
            ]
          },
          "metadata": {},
          "execution_count": 6
        }
      ]
    },
    {
      "cell_type": "markdown",
      "metadata": {
        "id": "nG1SNKdB2ni2"
      },
      "source": [
        "### (b)"
      ]
    },
    {
      "cell_type": "code",
      "metadata": {
        "id": "H2HLmmEI2ni3",
        "colab": {
          "base_uri": "https://localhost:8080/",
          "height": 0
        },
        "outputId": "6b3f76f5-0455-4623-f406-ba16064d546c"
      },
      "source": [
        "### Your code for 1.5(b) goes here ###\n",
        "# data reconstruction\n",
        "VV_T = np.matmul(Vk, Vk_T)\n",
        "X_proj =  np.transpose(np.matmul(VV_T, X_T))\n",
        "X_proj.shape"
      ],
      "execution_count": 7,
      "outputs": [
        {
          "output_type": "execute_result",
          "data": {
            "text/plain": [
              "(250, 3)"
            ]
          },
          "metadata": {},
          "execution_count": 7
        }
      ]
    },
    {
      "cell_type": "markdown",
      "metadata": {
        "id": "l1kONbKq2ni_"
      },
      "source": [
        "### (c)"
      ]
    },
    {
      "cell_type": "code",
      "metadata": {
        "id": "QPDry3E42njA",
        "colab": {
          "base_uri": "https://localhost:8080/",
          "height": 0
        },
        "outputId": "85e00b1f-10a4-427f-f371-77efea61ed29"
      },
      "source": [
        "### Your code for 1.5(c) goes here ###\n",
        "# PCA error\n",
        "error = (np.linalg.norm(np.subtract(X, X_proj), 'fro')) ** 2\n",
        "error"
      ],
      "execution_count": 8,
      "outputs": [
        {
          "output_type": "execute_result",
          "data": {
            "text/plain": [
              "17.123723164290986"
            ]
          },
          "metadata": {},
          "execution_count": 8
        }
      ]
    },
    {
      "cell_type": "markdown",
      "metadata": {
        "id": "s__yrlj22njG"
      },
      "source": [
        "## 1.6"
      ]
    },
    {
      "cell_type": "code",
      "metadata": {
        "id": "ifUebBkn2njH",
        "colab": {
          "base_uri": "https://localhost:8080/",
          "height": 0
        },
        "outputId": "901d02c0-c55f-4438-c888-f3d2988f3324"
      },
      "source": [
        "### Your code for 1.6 goes here ###\n",
        "# centering data\n",
        "m = X.mean(axis = 0, keepdims = True)\n",
        "mean = np.tile(m, (250, 1)) \n",
        "X_cent = np.subtract(X, mean)\n",
        "# X_cent.shape\n",
        "\n",
        "# top 2 principal components V = [v1 v2]\n",
        "U_cent, E_cent, V_T_cent = np.linalg.svd(X_cent)\n",
        "V_cent = np.transpose(V_T_cent)\n",
        "Vk_cent = V_cent[:, 0:2]\n",
        "Vk_T_cent = np.transpose(Vk_cent)\n",
        "\n",
        "# # data reconstruction\n",
        "VV_T_cent = np.matmul(Vk_cent, Vk_T_cent)\n",
        "X_cent_proj =  np.transpose(np.matmul(VV_T_cent, np.transpose(X_cent))) \n",
        "\n",
        "X_cent_proj = np.add(X_cent_proj, mean)\n",
        "# print(X_cent_proj.shape)\n",
        "\n",
        "# PCA error\n",
        "centered_error = np.linalg.norm(np.subtract(X, X_cent_proj), 'fro') ** 2\n",
        "centered_error"
      ],
      "execution_count": 9,
      "outputs": [
        {
          "output_type": "execute_result",
          "data": {
            "text/plain": [
              "7.689812637420523e-28"
            ]
          },
          "metadata": {},
          "execution_count": 9
        }
      ]
    },
    {
      "cell_type": "markdown",
      "metadata": {
        "id": "1B64Dam_2njM"
      },
      "source": [
        "# **2. Preprocessing (Centering) and PCA Using `scikit learn`**"
      ]
    },
    {
      "cell_type": "code",
      "source": [
        "from sklearn import preprocessing as sklpp\n",
        "from sklearn import decomposition as skldecomp"
      ],
      "metadata": {
        "id": "3alT1UGAku1-"
      },
      "execution_count": 9,
      "outputs": []
    },
    {
      "cell_type": "markdown",
      "metadata": {
        "id": "g4Erb1pA2njN"
      },
      "source": [
        "## 2.1"
      ]
    },
    {
      "cell_type": "code",
      "metadata": {
        "id": "sV3E9aWS2njO"
      },
      "source": [
        "### Your code for 2.1 goes here ###\n",
        "# create an instance of the StandardScaler() object\n",
        "mean_datascaler = sklpp.StandardScaler(with_mean = True, with_std = False)\n",
        "# use the fit_transform API to simultaneously compute mean and center data\n",
        "skl_centered_X = mean_datascaler.fit_transform(X)"
      ],
      "execution_count": 11,
      "outputs": []
    },
    {
      "cell_type": "markdown",
      "metadata": {
        "id": "YRfUYPOb2njU"
      },
      "source": [
        "## 2.2"
      ]
    },
    {
      "cell_type": "code",
      "metadata": {
        "id": "kIPLtSr42njV",
        "colab": {
          "base_uri": "https://localhost:8080/",
          "height": 0
        },
        "outputId": "7c2e19ec-10b6-4377-a41c-a966dd10e837"
      },
      "source": [
        "### Your code for 2.2 goes here ###\n",
        "print(f'From skicit-learn: {mean_datascaler.mean_}')\n",
        "print(f'From 1.6: {m}')"
      ],
      "execution_count": 12,
      "outputs": [
        {
          "output_type": "stream",
          "name": "stdout",
          "text": [
            "From skicit-learn: [ 2.61091133 -0.09447292 -0.35376251]\n",
            "From 1.6: [[ 2.61091133 -0.09447292 -0.35376251]]\n"
          ]
        }
      ]
    },
    {
      "cell_type": "markdown",
      "metadata": {
        "id": "IGiCMhZq2nja"
      },
      "source": [
        "## 2.3"
      ]
    },
    {
      "cell_type": "code",
      "metadata": {
        "id": "RlYPjB2d2njb",
        "colab": {
          "base_uri": "https://localhost:8080/",
          "height": 0
        },
        "outputId": "c2942483-0103-4371-9e9d-002207095dcd"
      },
      "source": [
        "### Your code for 2.3 goes here ###\n",
        "skl_error = np.linalg.norm(np.subtract(X_cent, skl_centered_X), 'fro') ** 2\n",
        "skl_error"
      ],
      "execution_count": 13,
      "outputs": [
        {
          "output_type": "execute_result",
          "data": {
            "text/plain": [
              "0.0"
            ]
          },
          "metadata": {},
          "execution_count": 13
        }
      ]
    },
    {
      "cell_type": "markdown",
      "metadata": {
        "id": "Igvz0Dgi2njg"
      },
      "source": [
        "## 2.4"
      ]
    },
    {
      "cell_type": "code",
      "metadata": {
        "id": "J09w_97V2njh"
      },
      "source": [
        "### Your code for 2.4 goes here ###\n",
        "# create an instance of the PCA() object\n",
        "pca = skldecomp.PCA(n_components = 2, svd_solver = 'full')\n",
        "# use fit_transform API to simultaneously compute PCA features & directions\n",
        "skl_features = pca.fit_transform(skl_centered_X)"
      ],
      "execution_count": 14,
      "outputs": []
    },
    {
      "cell_type": "markdown",
      "metadata": {
        "id": "_5-vsu242njl"
      },
      "source": [
        "## 2.5"
      ]
    },
    {
      "cell_type": "code",
      "metadata": {
        "id": "S9ToKqSC2njm",
        "colab": {
          "base_uri": "https://localhost:8080/",
          "height": 0
        },
        "outputId": "2a4f4d18-57df-4027-ad4f-f5aedbe11aca"
      },
      "source": [
        "### Your code for 2.5 goes here ###\n",
        "print(f'data_pca.components = {pca.components_}')\n",
        "print(f'Vk = {Vk_T_cent}')"
      ],
      "execution_count": 15,
      "outputs": [
        {
          "output_type": "stream",
          "name": "stdout",
          "text": [
            "data_pca.components = [[-0.46474404 -0.77109395 -0.43523224]\n",
            " [-0.85002023  0.25088751  0.4631642 ]]\n",
            "Vk = [[ 0.46474404  0.77109395  0.43523224]\n",
            " [-0.85002023  0.25088751  0.4631642 ]]\n"
          ]
        }
      ]
    },
    {
      "cell_type": "markdown",
      "metadata": {
        "id": "ZZxfhD2n2njq"
      },
      "source": [
        "## 2.6"
      ]
    },
    {
      "cell_type": "code",
      "metadata": {
        "id": "XyAVb2Rm2njr"
      },
      "source": [
        "### Your code for 2.6 goes here ###\n",
        "skl_projections = pca.inverse_transform(skl_features)\n",
        "skl_mean = np.tile(mean_datascaler.mean_, (250, 1))\n",
        "\n",
        "skl_projections = np.add(skl_projections, skl_mean)"
      ],
      "execution_count": 16,
      "outputs": []
    },
    {
      "cell_type": "markdown",
      "metadata": {
        "id": "u2LuReKq2nju"
      },
      "source": [
        "## 2.7"
      ]
    },
    {
      "cell_type": "code",
      "metadata": {
        "id": "TBI9wR2m2njv",
        "colab": {
          "base_uri": "https://localhost:8080/",
          "height": 0
        },
        "outputId": "44f6c323-d504-477d-986e-748f7988a650"
      },
      "source": [
        "### Your code for 2.7 goes here ###\n",
        "sk_proj_error = np.linalg.norm(np.subtract(X_cent_proj, skl_projections), 'fro') ** 2\n",
        "sk_proj_error"
      ],
      "execution_count": 17,
      "outputs": [
        {
          "output_type": "execute_result",
          "data": {
            "text/plain": [
              "1.4046277974287514e-27"
            ]
          },
          "metadata": {},
          "execution_count": 17
        }
      ]
    },
    {
      "cell_type": "markdown",
      "source": [
        "# **3. PCA on a Real-world Dataset**"
      ],
      "metadata": {
        "id": "L14EyEh7UVbm"
      }
    },
    {
      "cell_type": "code",
      "source": [
        "### Your code for loading the dataset using load_digits goes here ###\n",
        "from sklearn.datasets import load_digits\n",
        "X_img_vec, _ = load_digits(n_class=1, return_X_y=True)"
      ],
      "metadata": {
        "id": "7No3qTvxUuSo"
      },
      "execution_count": 2,
      "outputs": []
    },
    {
      "cell_type": "markdown",
      "source": [
        "## 3.1"
      ],
      "metadata": {
        "id": "Fdlp4NmpUh0E"
      }
    },
    {
      "cell_type": "markdown",
      "source": [
        "_[Your answer for 3.1 goes here]_\n",
        "\n",
        "n = 178,\n",
        "p = 64"
      ],
      "metadata": {
        "id": "clkf__1PVK3T"
      }
    },
    {
      "cell_type": "code",
      "source": [
        "### Your code for 3.1 goes here ###\n",
        "print(X_img_vec.shape)\n",
        "plt.gray()\n",
        "plt.imshow(X_img_vec[15].reshape(8, 8));"
      ],
      "metadata": {
        "id": "OfpTjts7VLor",
        "colab": {
          "base_uri": "https://localhost:8080/",
          "height": 283
        },
        "outputId": "cbd5fbf6-2e91-485f-e104-94980f9b20a8"
      },
      "execution_count": 3,
      "outputs": [
        {
          "output_type": "stream",
          "name": "stdout",
          "text": [
            "(178, 64)\n"
          ]
        },
        {
          "output_type": "display_data",
          "data": {
            "text/plain": [
              "<Figure size 432x288 with 1 Axes>"
            ],
            "image/png": "[encoded data removed]"
          },
          "metadata": {
            "needs_background": "light"
          }
        }
      ]
    },
    {
      "cell_type": "markdown",
      "source": [
        "## 3.2"
      ],
      "metadata": {
        "id": "FL0LSn1AVEGA"
      }
    },
    {
      "cell_type": "code",
      "source": [
        "### Your code for 3.2 goes here ###\n",
        "scaler = sklpp.StandardScaler(with_mean = True, with_std = False)\n",
        "X_image_cent = scaler.fit_transform(X_img_vec)\n",
        "image_means = scaler.mean_.reshape(8, 8)\n",
        "plt.imshow(image_means);\n",
        "# image_means"
      ],
      "metadata": {
        "id": "Em95ZPPLVX5p",
        "colab": {
          "base_uri": "https://localhost:8080/",
          "height": 265
        },
        "outputId": "9050c6e2-ed5f-48eb-84b2-a66f77203887"
      },
      "execution_count": 11,
      "outputs": [
        {
          "output_type": "display_data",
          "data": {
            "text/plain": [
              "<Figure size 432x288 with 1 Axes>"
            ],
            "image/png": "[encoded data removed]"
          },
          "metadata": {
            "needs_background": "light"
          }
        }
      ]
    },
    {
      "cell_type": "markdown",
      "source": [
        "## 3.3"
      ],
      "metadata": {
        "id": "suU7yWSEUhrv"
      }
    },
    {
      "cell_type": "code",
      "source": [
        "### Your code for 3.3 goes here ###\n",
        "U_img, E_img, V_T_img = np.linalg.svd(X_image_cent)\n",
        "V_img = np.transpose(V_T_img)"
      ],
      "metadata": {
        "id": "pZ5B71QhVdy4"
      },
      "execution_count": 12,
      "outputs": []
    },
    {
      "cell_type": "markdown",
      "source": [
        "## 3.4"
      ],
      "metadata": {
        "id": "R2MwdEnSUhj2"
      }
    },
    {
      "cell_type": "code",
      "source": [
        "### Your code for 3.4 goes here ###\n",
        "plt.yscale(\"log\")\n",
        "plt.plot(E_img);"
      ],
      "metadata": {
        "id": "_zZoIw31VkII",
        "colab": {
          "base_uri": "https://localhost:8080/",
          "height": 265
        },
        "outputId": "276c3712-57d8-4091-86f1-cb4132a9b493"
      },
      "execution_count": 13,
      "outputs": [
        {
          "output_type": "display_data",
          "data": {
            "text/plain": [
              "<Figure size 432x288 with 1 Axes>"
            ],
            "image/png": "[encoded data removed]"
          },
          "metadata": {
            "needs_background": "light"
          }
        }
      ]
    },
    {
      "cell_type": "markdown",
      "source": [
        "## 3.5"
      ],
      "metadata": {
        "id": "ndse6DpaUhcz"
      }
    },
    {
      "cell_type": "code",
      "source": [
        "### Your code for 3.5 goes here ###\n",
        "total_energy = 0\n",
        "for sval in E_img:\n",
        "  total_energy = total_energy + (sval**2)\n",
        "\n",
        "k = 0\n",
        "pve = 0\n",
        "for kval in E_img:\n",
        "  pve = pve + (kval**2)\n",
        "  k += 1\n",
        "  if (pve >= (0.9*total_energy)): break\n",
        "\n",
        "print(k)\n",
        "print(pve)\n",
        "print(total_energy)"
      ],
      "metadata": {
        "id": "0BvH2da4VnRD",
        "colab": {
          "base_uri": "https://localhost:8080/"
        },
        "outputId": "e341f076-67c8-4686-bb8d-6ee2781342f0"
      },
      "execution_count": 14,
      "outputs": [
        {
          "output_type": "stream",
          "name": "stdout",
          "text": [
            "18\n",
            "63873.42667528412\n",
            "70550.37640449432\n"
          ]
        }
      ]
    },
    {
      "cell_type": "markdown",
      "source": [
        "## 3.6"
      ],
      "metadata": {
        "id": "LU-D7nvOUhVO"
      }
    },
    {
      "cell_type": "code",
      "source": [
        "### Your code for 3.6 goes here ###\n",
        "image_pca = skldecomp.PCA(n_components=0.90, svd_solver='full')\n",
        "k_skl = image_pca.fit(X_image_cent)\n",
        "k_skl.n_components_"
      ],
      "metadata": {
        "id": "KXEu7oHTVvtH",
        "colab": {
          "base_uri": "https://localhost:8080/"
        },
        "outputId": "79ab693c-e0b5-4ea2-f30e-b7d4f720d8dc"
      },
      "execution_count": 15,
      "outputs": [
        {
          "output_type": "execute_result",
          "data": {
            "text/plain": [
              "18"
            ]
          },
          "metadata": {},
          "execution_count": 15
        }
      ]
    },
    {
      "cell_type": "markdown",
      "source": [
        "## 3.7"
      ],
      "metadata": {
        "id": "jfnkwWxpUhNq"
      }
    },
    {
      "cell_type": "code",
      "source": [
        "### Your code for 3.7 goes here ###\n",
        "fig, axs = plt.subplots(3)\n",
        "axs[0].imshow(k_skl.components_[0].reshape(8, 8))\n",
        "axs[1].imshow(k_skl.components_[1].reshape(8, 8))\n",
        "axs[2].imshow(k_skl.components_[2].reshape(8, 8))\n",
        "plt.show();"
      ],
      "metadata": {
        "id": "0BqpENx5VzdT",
        "colab": {
          "base_uri": "https://localhost:8080/",
          "height": 265
        },
        "outputId": "ff9e6f20-1257-4f4e-ca0a-f4c3b596a526"
      },
      "execution_count": 22,
      "outputs": [
        {
          "output_type": "display_data",
          "data": {
            "text/plain": [
              "<Figure size 432x288 with 3 Axes>"
            ],
            "image/png": "[encoded data removed]"
          },
          "metadata": {
            "needs_background": "light"
          }
        }
      ]
    },
    {
      "cell_type": "markdown",
      "source": [
        "## 3.8"
      ],
      "metadata": {
        "id": "NHFoSDosUhGl"
      }
    },
    {
      "cell_type": "code",
      "source": [
        "### Your code for 3.8 goes here ###\n",
        "k_pca = skldecomp.PCA(n_components=3, svd_solver='full')\n",
        "k_fit = k_pca.fit(X_image_cent)\n",
        "Xf_image = np.transpose(k_pca.transform(X_image_cent))\n",
        "Xf_image.shape"
      ],
      "metadata": {
        "id": "64G_WIrJV41d",
        "colab": {
          "base_uri": "https://localhost:8080/"
        },
        "outputId": "d0d3468b-178c-4d8f-d3c5-e0f9095cc960"
      },
      "execution_count": 23,
      "outputs": [
        {
          "output_type": "execute_result",
          "data": {
            "text/plain": [
              "(3, 178)"
            ]
          },
          "metadata": {},
          "execution_count": 23
        }
      ]
    },
    {
      "cell_type": "markdown",
      "source": [
        "## 3.9"
      ],
      "metadata": {
        "id": "ocVSrvXdUg-7"
      }
    },
    {
      "cell_type": "code",
      "source": [
        "### Your code for 3.9 goes here ###\n",
        "fig = plt.figure()\n",
        "\n",
        "# original data matrix\n",
        "ax = fig.add_subplot(111, projection='3d')\n",
        "\n",
        "X = Xf_image[0]\n",
        "Y = Xf_image[1]\n",
        "Z = Xf_image[2]\n",
        "\n",
        "surf1 = ax.scatter(X, Y, Z, c='purple', marker=\"s\", label='original datapoints')\n",
        "plt.title('Scatterplot of 178 3D feature vectors obtained in Problem 3.8.')\n",
        "\n",
        "ax.set_xlabel('feature 1')\n",
        "ax.set_ylabel('feature 2')\n",
        "ax.set_zlabel('feature 3')\n",
        "\n",
        "plt.show();"
      ],
      "metadata": {
        "id": "XXUNU_D0V7X2",
        "colab": {
          "base_uri": "https://localhost:8080/",
          "height": 248
        },
        "outputId": "02d52a55-8329-4749-883a-890044583451"
      },
      "execution_count": 24,
      "outputs": [
        {
          "output_type": "display_data",
          "data": {
            "text/plain": [
              "<Figure size 432x288 with 1 Axes>"
            ],
            "image/png": "[encoded data removed]"
          },
          "metadata": {
            "needs_background": "light"
          }
        }
      ]
    },
    {
      "cell_type": "markdown",
      "source": [
        "## 3.10"
      ],
      "metadata": {
        "id": "OGvcGkXlUg2c"
      }
    },
    {
      "cell_type": "code",
      "source": [
        "### Your code for 3.10 goes here ###\n",
        "X_img_proj = k_pca.inverse_transform(np.transpose(Xf_image))\n",
        "mean_vec = np.tile(np.transpose(scaler.mean_), (178, 1))\n",
        "X_img_proj = np.add(X_img_proj, mean_vec)\n",
        "X_img_proj.shape"
      ],
      "metadata": {
        "id": "hlG4iC0IV-2K",
        "colab": {
          "base_uri": "https://localhost:8080/"
        },
        "outputId": "98da126c-1cb1-4943-d998-e65fb2bd0356"
      },
      "execution_count": 25,
      "outputs": [
        {
          "output_type": "execute_result",
          "data": {
            "text/plain": [
              "(178, 64)"
            ]
          },
          "metadata": {},
          "execution_count": 25
        }
      ]
    },
    {
      "cell_type": "markdown",
      "source": [
        "## 3.11"
      ],
      "metadata": {
        "id": "TgS0bvIlUgpo"
      }
    },
    {
      "cell_type": "code",
      "source": [
        "### Your code for 3.11 goes here ###\n",
        "error_image = np.linalg.norm(np.subtract(X_img_vec, X_img_proj), 'fro') ** 2\n",
        "error_image/178"
      ],
      "metadata": {
        "id": "-tdTk35RWDP7",
        "colab": {
          "base_uri": "https://localhost:8080/"
        },
        "outputId": "8bb8a860-dd87-4c1b-cbcf-4d45209038e6"
      },
      "execution_count": 26,
      "outputs": [
        {
          "output_type": "execute_result",
          "data": {
            "text/plain": [
              "202.52814947043325"
            ]
          },
          "metadata": {},
          "execution_count": 26
        }
      ]
    },
    {
      "cell_type": "code",
      "source": [
        "_, svals, _ = np.linalg.svd(X_image_cent)\n",
        "error_svals = 0\n",
        "for s in svals[3:]:\n",
        "  error_svals += s**2\n",
        "error_svals/178"
      ],
      "metadata": {
        "colab": {
          "base_uri": "https://localhost:8080/"
        },
        "id": "7kWmCC4rQEmI",
        "outputId": "80e6f037-7460-44e4-99d0-1dab5d1fc80d"
      },
      "execution_count": 27,
      "outputs": [
        {
          "output_type": "execute_result",
          "data": {
            "text/plain": [
              "202.5281494704331"
            ]
          },
          "metadata": {},
          "execution_count": 27
        }
      ]
    },
    {
      "cell_type": "markdown",
      "source": [
        "## 3.12"
      ],
      "metadata": {
        "id": "cg9Wo8QyUgO5"
      }
    },
    {
      "cell_type": "code",
      "source": [
        "### Your code for 3.12 goes here ###\n",
        "plt.gray()\n",
        "plt.imshow(X_img_proj[15].reshape(8, 8));"
      ],
      "metadata": {
        "id": "-dvcgqXrWH3w",
        "colab": {
          "base_uri": "https://localhost:8080/",
          "height": 265
        },
        "outputId": "276f1a88-0586-4e64-d78f-57ccdbe852de"
      },
      "execution_count": 28,
      "outputs": [
        {
          "output_type": "display_data",
          "data": {
            "text/plain": [
              "<Figure size 432x288 with 1 Axes>"
            ],
            "image/png": "[encoded data removed]"
          },
          "metadata": {
            "needs_background": "light"
          }
        }
      ]
    },
    {
      "cell_type": "markdown",
      "metadata": {
        "id": "KZzWBJSQ2njz"
      },
      "source": [
        "# **4. PCA as a Denoising Tool**"
      ]
    },
    {
      "cell_type": "markdown",
      "metadata": {
        "id": "7Zc9CUp02njz"
      },
      "source": [
        "## 4.1"
      ]
    },
    {
      "cell_type": "code",
      "metadata": {
        "id": "dQL_dqav2nj3",
        "colab": {
          "base_uri": "https://localhost:8080/",
          "height": 0
        },
        "outputId": "3ae84b7a-7ffa-424b-920c-7483bdf70ae4"
      },
      "source": [
        "### Your code for 4.1 goes here ###\n",
        "a = np.random.randn(3, 1)\n",
        "a"
      ],
      "execution_count": 32,
      "outputs": [
        {
          "output_type": "execute_result",
          "data": {
            "text/plain": [
              "array([[-0.07331779],\n",
              "       [ 1.01549675],\n",
              "       [-1.45591531]])"
            ]
          },
          "metadata": {},
          "execution_count": 32
        }
      ]
    },
    {
      "cell_type": "markdown",
      "metadata": {
        "id": "Eh0exYZd2nj7"
      },
      "source": [
        "## 4.2"
      ]
    },
    {
      "cell_type": "code",
      "metadata": {
        "id": "snKbdp7d2nj8"
      },
      "source": [
        "### Your code for 4.2 goes here ###\n",
        "X_4 = np.zeros([100, 3])\n",
        "\n",
        "for ctr in range(100):\n",
        "  b_i = np.random.normal(0, 2)\n",
        "  x1 = b_i*a[0, 0]\n",
        "  x2 = b_i*a[1, 0]\n",
        "  x3 = b_i*a[2, 0]\n",
        "\n",
        "  X_4[ctr, 0] = x1\n",
        "  X_4[ctr, 1] = x2\n",
        "  X_4[ctr, 2] = x3\n",
        "\n",
        "X_4_T = np.transpose(X_4)"
      ],
      "execution_count": 33,
      "outputs": []
    },
    {
      "cell_type": "markdown",
      "metadata": {
        "id": "kgzCrcfy2nkB"
      },
      "source": [
        "## 4.3"
      ]
    },
    {
      "cell_type": "code",
      "metadata": {
        "id": "jx5SsNim2nkC",
        "colab": {
          "base_uri": "https://localhost:8080/",
          "height": 0
        },
        "outputId": "06e361bf-fcec-41c6-acfd-82d41c41430f"
      },
      "source": [
        "### Your code for 4.3 goes here ###\n",
        "n = np.random.normal(0, np.sqrt(0.05), size=(1, 3))\n",
        "Y = np.zeros_like(X_4)\n",
        "for i in range(X_4.shape[0]):\n",
        "  Y[i, :] = np.add(X_4[i, :], n)\n",
        "Y.shape"
      ],
      "execution_count": 34,
      "outputs": [
        {
          "output_type": "execute_result",
          "data": {
            "text/plain": [
              "(100, 3)"
            ]
          },
          "metadata": {},
          "execution_count": 34
        }
      ]
    },
    {
      "cell_type": "markdown",
      "metadata": {
        "id": "LP-z7h6M2nkH"
      },
      "source": [
        "## 4.4"
      ]
    },
    {
      "cell_type": "code",
      "metadata": {
        "id": "Mzu0PSrc2nkI",
        "colab": {
          "base_uri": "https://localhost:8080/",
          "height": 248
        },
        "outputId": "c41538c5-490e-4c1d-abdf-65b8fd5e19aa"
      },
      "source": [
        "### Your code for 4.4 goes here ###\n",
        "fig = plt.figure()\n",
        "ax = fig.add_subplot(111, projection='3d')\n",
        "Y_T = np.transpose(Y)\n",
        "\n",
        "X_org = X_4_T[0]\n",
        "Y_org = X_4_T[1]\n",
        "Z_org = X_4_T[2]\n",
        "\n",
        "X_n = Y_T[0]\n",
        "Y_n = Y_T[1]\n",
        "Z_n = Y_T[2]\n",
        "\n",
        "ax.scatter(X_org, Y_org, Z_org, c='b', marker=\"s\", label='original data')\n",
        "ax.scatter(X_n, Y_n, Z_n, c='r', marker=\"o\", label='noisy data')\n",
        "plt.legend(loc='upper left')\n",
        "plt.show();"
      ],
      "execution_count": 35,
      "outputs": [
        {
          "output_type": "display_data",
          "data": {
            "text/plain": [
              "<Figure size 432x288 with 1 Axes>"
            ],
            "image/png": "[encoded data removed]"
          },
          "metadata": {
            "needs_background": "light"
          }
        }
      ]
    },
    {
      "cell_type": "markdown",
      "metadata": {
        "id": "cZgDlwVr2nkM"
      },
      "source": [
        "## 4.5"
      ]
    },
    {
      "cell_type": "code",
      "metadata": {
        "id": "mqYu9pZH2nkN",
        "colab": {
          "base_uri": "https://localhost:8080/",
          "height": 0
        },
        "outputId": "1c54bea4-0834-4045-80bd-69c4a334af2a"
      },
      "source": [
        "### Your code for 4.5 goes here ###\n",
        "U_n, E_n, V_n_T = np.linalg.svd(Y)\n",
        "V_n = np.transpose(V_n_T)\n",
        "Vk_n = V_n[:, 0:1]\n",
        "\n",
        "Yf = np.matmul(np.transpose(Vk_n), Y_T)\n",
        "X_denoised = np.matmul(Vk_n, Yf)\n",
        "X_denoised.shape"
      ],
      "execution_count": 36,
      "outputs": [
        {
          "output_type": "execute_result",
          "data": {
            "text/plain": [
              "(3, 100)"
            ]
          },
          "metadata": {},
          "execution_count": 36
        }
      ]
    },
    {
      "cell_type": "markdown",
      "metadata": {
        "id": "osx6PPwe2nkT"
      },
      "source": [
        "## 4.6"
      ]
    },
    {
      "cell_type": "code",
      "metadata": {
        "id": "jFwHyJAR2nkU",
        "colab": {
          "base_uri": "https://localhost:8080/",
          "height": 248
        },
        "outputId": "6dffc96d-20d4-4885-dc52-96f05f045743"
      },
      "source": [
        "### Your code for 4.6 goes here ###\n",
        "fig = plt.figure()\n",
        "ax = fig.add_subplot(111, projection='3d')\n",
        "Y_T = np.transpose(Y)\n",
        "\n",
        "X_org = X_4_T[0]\n",
        "Y_org = X_4_T[1]\n",
        "Z_org = X_4_T[2]\n",
        "\n",
        "X_n = X_denoised[0]\n",
        "Y_n = X_denoised[1]\n",
        "Z_n = X_denoised[2]\n",
        "\n",
        "ax.scatter(X_org, Y_org, Z_org, c='b', marker=\"s\", label='original data')\n",
        "ax.scatter(X_n, Y_n, Z_n, c='r', marker=\"o\", label='denoised data')\n",
        "plt.legend(loc='upper left')\n",
        "plt.show();"
      ],
      "execution_count": 37,
      "outputs": [
        {
          "output_type": "display_data",
          "data": {
            "text/plain": [
              "<Figure size 432x288 with 1 Axes>"
            ],
            "image/png": "[encoded data removed]"
          },
          "metadata": {
            "needs_background": "light"
          }
        }
      ]
    },
    {
      "cell_type": "markdown",
      "metadata": {
        "id": "1BD7hfzc2nkb"
      },
      "source": [
        "## 4.7"
      ]
    },
    {
      "cell_type": "code",
      "metadata": {
        "id": "kAl8fxcL2nkc",
        "colab": {
          "base_uri": "https://localhost:8080/",
          "height": 0
        },
        "outputId": "d54d9321-21f1-4882-a563-9cfb2b27ced4"
      },
      "source": [
        "### Your code for 4.7 goes here ###\n",
        "error_noisy = (np.linalg.norm(np.subtract(X_4, Y), 'fro') ** 2) / 100\n",
        "error_denoised = (np.linalg.norm(np.subtract(X_4, np.transpose(X_denoised)), 'fro') ** 2) / 100\n",
        "\n",
        "print(f'average error per noisy sample = {error_noisy}')\n",
        "print(f'average error per denoised sample = {error_denoised}')"
      ],
      "execution_count": 38,
      "outputs": [
        {
          "output_type": "stream",
          "name": "stdout",
          "text": [
            "average error per noisy sample = 0.10623236966801221\n",
            "average error per denoised sample = 0.06287342913904287\n"
          ]
        }
      ]
    },
    {
      "cell_type": "markdown",
      "metadata": {
        "id": "gqq4nR-S2nkh"
      },
      "source": [
        "## 4.8"
      ]
    },
    {
      "cell_type": "markdown",
      "metadata": {
        "id": "jf3Y580D2nki"
      },
      "source": [
        "_[Your answer for 4.8 goes here]_\n",
        "\n",
        "This section of the exercise shows how PCA can be used to denoise data. Problem 4.7 shows that average error per sample is considerably less for the denoised data, i.e. it is possible to recover original data from added noise by using PCA. That said, it is also evident that PCA is not a perfect technique as there is still >0 error in the denoised data."
      ]
    }
  ]
}