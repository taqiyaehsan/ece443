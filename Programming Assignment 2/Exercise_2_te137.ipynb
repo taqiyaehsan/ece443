{
  "cells": [
    {
      "cell_type": "markdown",
      "source": [
        "# Taqiya Ehsan\n",
        "# Programming Exercise \\# 2\n",
        "---"
      ],
      "metadata": {
        "id": "DAO8AZsc266y"
      }
    },
    {
      "cell_type": "markdown",
      "source": [
        "# Preamble"
      ],
      "metadata": {
        "id": "rJOtXeNg38_u"
      }
    },
    {
      "cell_type": "code",
      "source": [
        "# optional code cell when using Google Colab with Google Drive\n",
        "\n",
        "# remove the docstring comment block below in order to mount Google Drive\n",
        "\n",
        "# mount Google Drive in Google Colab\n",
        "from google.colab import drive\n",
        "drive.mount('/content/drive')\n",
        "\n",
        "# change directory using the magic command %cd\n",
        "### replace [MY PATH] below with your own path in Google Drive ###\n",
        "%cd /content/drive/My\\ Drive/ML/ProgrammingAssignment2 ###\n"
      ],
      "metadata": {
        "id": "Ldu0WSDK4IjA",
        "colab": {
          "base_uri": "https://localhost:8080/"
        },
        "outputId": "19687438-f122-46a8-deb1-4ff0349299ff"
      },
      "execution_count": 1,
      "outputs": [
        {
          "output_type": "stream",
          "name": "stdout",
          "text": [
            "Mounted at /content/drive\n",
            "[Errno 2] No such file or directory: '/content/drive/My Drive/ML/ProgrammingAssignment2 ###'\n",
            "/content\n"
          ]
        }
      ]
    },
    {
      "cell_type": "code",
      "source": [
        "# import relevant Python libraries\n",
        "\n",
        "### Your import commands go here ###\n",
        "import numpy as np\n",
        "import pandas as pd\n",
        "from scipy import stats as sps\n",
        "from matplotlib import pyplot as plt\n",
        "from mpl_toolkits.mplot3d import Axes3D\n",
        "from IPython.display import display, Latex"
      ],
      "metadata": {
        "id": "rjUKWdVD_Eqh"
      },
      "execution_count": 2,
      "outputs": []
    },
    {
      "cell_type": "markdown",
      "metadata": {
        "id": "PeHo02TLz-hL"
      },
      "source": [
        "# **1. Feature Engineering for _Environmental Sensor Telemetry Data_**"
      ]
    },
    {
      "cell_type": "markdown",
      "metadata": {
        "id": "qmMHJttez-hM"
      },
      "source": [
        "## Problem 1.1"
      ]
    },
    {
      "cell_type": "code",
      "source": [
        "### Your code for loading the dataset goes here ###\n",
        "iot_df = pd.read_csv('/content/drive/MyDrive/ML/ProgrammingAssignment2/iot_telemetry_dataset.csv')\n",
        "iot_df.columns"
      ],
      "metadata": {
        "id": "IgKSHxewsRdP",
        "colab": {
          "base_uri": "https://localhost:8080/"
        },
        "outputId": "528cdc38-958e-42ae-9b3a-f59f2b4e330e"
      },
      "execution_count": 3,
      "outputs": [
        {
          "output_type": "execute_result",
          "data": {
            "text/plain": [
              "Index(['ts', 'device', 'co', 'humidity', 'light', 'lpg', 'motion', 'smoke',\n",
              "       'temp'],\n",
              "      dtype='object')"
            ]
          },
          "metadata": {},
          "execution_count": 3
        }
      ]
    },
    {
      "cell_type": "markdown",
      "metadata": {
        "id": "EKQZRr9Dz-hN"
      },
      "source": [
        "### (a)"
      ]
    },
    {
      "cell_type": "markdown",
      "metadata": {
        "id": "9eH6uWf4z-hN"
      },
      "source": [
        "_[Your answer for 1.1(a) goes here]_\n",
        "\n",
        "This is an **unsupervised learning task.** The dataset in a supervised learning task would have been annotated with labels corresponding to the prediction for each sample. In the case of this dataset, the collected data is meant to be used to gauge human presence -- however the dataset itself does not consist of information of whether human beings are near the sensors or not. That is to say, it is an unlabeled dataset. So this would be an unsupervised learning task."
      ]
    },
    {
      "cell_type": "markdown",
      "metadata": {
        "id": "77c-6U-_z-hO"
      },
      "source": [
        "### (b)"
      ]
    },
    {
      "cell_type": "code",
      "execution_count": 4,
      "metadata": {
        "id": "530SUQVjz-hP",
        "colab": {
          "base_uri": "https://localhost:8080/"
        },
        "outputId": "875a2c57-4ff9-4c12-a2a8-80527eb82ca5"
      },
      "outputs": [
        {
          "output_type": "execute_result",
          "data": {
            "text/plain": [
              "(405184, 9)"
            ]
          },
          "metadata": {},
          "execution_count": 4
        }
      ],
      "source": [
        "### Your code for 1.1(b) goes here ###\n",
        "iot_df.shape"
      ]
    },
    {
      "cell_type": "markdown",
      "source": [
        "There are **405184** data samples"
      ],
      "metadata": {
        "id": "YtJS6mZzRzrM"
      }
    },
    {
      "cell_type": "markdown",
      "metadata": {
        "id": "_tMu1LVSz-hQ"
      },
      "source": [
        "### (c)\n",
        "\n"
      ]
    },
    {
      "cell_type": "code",
      "execution_count": 5,
      "metadata": {
        "id": "1D7twXbHz-hR",
        "colab": {
          "base_uri": "https://localhost:8080/"
        },
        "outputId": "2f797c09-7235-4d42-afd5-25a877b30edb"
      },
      "outputs": [
        {
          "output_type": "execute_result",
          "data": {
            "text/plain": [
              "111815"
            ]
          },
          "metadata": {},
          "execution_count": 5
        }
      ],
      "source": [
        "### Your code for 1.1(c) goes here ###\n",
        "iot_df[\"device\"].value_counts()[\"00:0f:00:70:91:0a\"]"
      ]
    },
    {
      "cell_type": "markdown",
      "metadata": {
        "id": "kUKa9J6dz-hR"
      },
      "source": [
        "\n",
        "### (d)"
      ]
    },
    {
      "cell_type": "code",
      "execution_count": 6,
      "metadata": {
        "id": "2xNG_h3wz-hS",
        "colab": {
          "base_uri": "https://localhost:8080/"
        },
        "outputId": "02fcfb69-2d73-4fad-b0c1-7ca066da1ff8"
      },
      "outputs": [
        {
          "output_type": "execute_result",
          "data": {
            "text/plain": [
              "105918"
            ]
          },
          "metadata": {},
          "execution_count": 6
        }
      ],
      "source": [
        "### Your code for 1.1(d) goes here ###\n",
        "iot_df[\"device\"].value_counts()[\"1c:bf:ce:15:ec:4d\"]"
      ]
    },
    {
      "cell_type": "code",
      "source": [
        "### Your code for 1.1(e) goes here ###\n",
        "iot_df[\"device\"].value_counts()[\"b8:27:eb:bf:9d:51\"]"
      ],
      "metadata": {
        "id": "cvCXExa7TaTa",
        "colab": {
          "base_uri": "https://localhost:8080/"
        },
        "outputId": "c11ad64e-b2db-4263-dab1-81a0b2dca3a8"
      },
      "execution_count": 7,
      "outputs": [
        {
          "output_type": "execute_result",
          "data": {
            "text/plain": [
              "187451"
            ]
          },
          "metadata": {},
          "execution_count": 7
        }
      ]
    },
    {
      "cell_type": "markdown",
      "metadata": {
        "id": "Jy00M5wcz-hS"
      },
      "source": [
        "### (e)"
      ]
    },
    {
      "cell_type": "markdown",
      "metadata": {
        "id": "nOJPywDYz-hT"
      },
      "source": [
        "## Problem 1.2"
      ]
    },
    {
      "cell_type": "markdown",
      "metadata": {
        "id": "UTf6Yiqjz-hT"
      },
      "source": [
        "### (a)"
      ]
    },
    {
      "cell_type": "code",
      "execution_count": 8,
      "metadata": {
        "id": "qOPVMIawz-hU",
        "colab": {
          "base_uri": "https://localhost:8080/",
          "height": 281
        },
        "outputId": "da145e1f-7da1-480e-ce7f-dce9eea7c673"
      },
      "outputs": [
        {
          "output_type": "display_data",
          "data": {
            "text/plain": [
              "<Figure size 432x288 with 1 Axes>"
            ],
            "image/png": "[encoded data removed]"
          },
          "metadata": {
            "needs_background": "light"
          }
        }
      ],
      "source": [
        "### Your code for 1.2(a) goes here ###\n",
        "grouped_iot_df = iot_df.groupby(\"device\")\n",
        "\n",
        "# mean bar chart\n",
        "device_1_co_mean = grouped_iot_df.get_group(\"00:0f:00:70:91:0a\")[\"co\"].mean()\n",
        "device_1_humidity_mean = grouped_iot_df.get_group(\"00:0f:00:70:91:0a\")[\"humidity\"].mean()\n",
        "device_1_lpg_mean = grouped_iot_df.get_group(\"00:0f:00:70:91:0a\")[\"lpg\"].mean()\n",
        "device_1_smoke_mean = grouped_iot_df.get_group(\"00:0f:00:70:91:0a\")[\"smoke\"].mean()\n",
        "device_1_temp_mean = grouped_iot_df.get_group(\"00:0f:00:70:91:0a\")[\"temp\"].mean()\n",
        "\n",
        "device_2_co_mean = grouped_iot_df.get_group(\"1c:bf:ce:15:ec:4d\")[\"co\"].mean()\n",
        "device_2_humidity_mean = grouped_iot_df.get_group(\"1c:bf:ce:15:ec:4d\")[\"humidity\"].mean()\n",
        "device_2_lpg_mean = grouped_iot_df.get_group(\"1c:bf:ce:15:ec:4d\")[\"lpg\"].mean()\n",
        "device_2_smoke_mean = grouped_iot_df.get_group(\"1c:bf:ce:15:ec:4d\")[\"smoke\"].mean()\n",
        "device_2_temp_mean = grouped_iot_df.get_group(\"1c:bf:ce:15:ec:4d\")[\"temp\"].mean()\n",
        "\n",
        "device_3_co_mean = grouped_iot_df.get_group(\"b8:27:eb:bf:9d:51\")[\"co\"].mean()\n",
        "device_3_humidity_mean = grouped_iot_df.get_group(\"b8:27:eb:bf:9d:51\")[\"humidity\"].mean()\n",
        "device_3_lpg_mean = grouped_iot_df.get_group(\"b8:27:eb:bf:9d:51\")[\"lpg\"].mean()\n",
        "device_3_smoke_mean = grouped_iot_df.get_group(\"b8:27:eb:bf:9d:51\")[\"smoke\"].mean()\n",
        "device_3_temp_mean = grouped_iot_df.get_group(\"b8:27:eb:bf:9d:51\")[\"temp\"].mean()\n",
        "\n",
        "device_1_means = [device_1_co_mean, device_1_humidity_mean, device_1_lpg_mean, device_1_smoke_mean, device_1_temp_mean]\n",
        "device_2_means = [device_2_co_mean, device_2_humidity_mean, device_2_lpg_mean, device_2_smoke_mean, device_2_temp_mean]\n",
        "device_3_means = [device_3_co_mean, device_3_humidity_mean, device_3_lpg_mean, device_3_smoke_mean, device_3_temp_mean]\n",
        "\n",
        "# print(device_1_means)\n",
        "# print(device_2_means)\n",
        "# print(device_3_means)\n",
        "\n",
        "width = 0.35  # the width of the bars\n",
        "x = np.arange(5)\n",
        "\n",
        "plt.bar(x-0.35, device_1_means, width, color='cyan', label=\"device 1\")\n",
        "plt.bar(x, device_2_means, width, color='orange', label=\"device 2\")\n",
        "plt.bar(x+0.35, device_3_means, width, width, color='green', label=\"device 3\")\n",
        "\n",
        "# Add some text for labels, title and custom x-axis tick labels, etc.\n",
        "plt.ylabel('Means')\n",
        "plt.title('Means by device and features')\n",
        "plt.xticks(x, ['co', 'humidity', 'lpg', 'smoke', 'temp'])\n",
        "plt.legend()\n",
        "\n",
        "plt.show()"
      ]
    },
    {
      "cell_type": "code",
      "source": [
        "#co bar chart for means\n",
        "\n",
        "objects = ('Device 1', 'Device 2', 'Device 3')\n",
        "y_pos = np.arange(len(objects))\n",
        "performance = [device_1_co_mean, device_2_co_mean, device_3_co_mean]\n",
        "\n",
        "plt.bar(y_pos, performance, align='center', alpha=0.5)\n",
        "plt.xticks(y_pos, objects)\n",
        "plt.ylabel('mean')\n",
        "plt.title('Means of co for the 3 devices');"
      ],
      "metadata": {
        "colab": {
          "base_uri": "https://localhost:8080/",
          "height": 281
        },
        "id": "lETNsSEwtTPp",
        "outputId": "0ec893dd-41da-4ab3-a8ef-3f161bd7f29f"
      },
      "execution_count": 11,
      "outputs": [
        {
          "output_type": "display_data",
          "data": {
            "text/plain": [
              "<Figure size 432x288 with 1 Axes>"
            ],
            "image/png": "[encoded data removed]"
          },
          "metadata": {
            "needs_background": "light"
          }
        }
      ]
    },
    {
      "cell_type": "code",
      "source": [
        "# humidity bar chart for means\n",
        "\n",
        "objects = ('Device 1', 'Device 2', 'Device 3')\n",
        "y_pos = np.arange(len(objects))\n",
        "performance = [device_1_humidity_mean, device_2_humidity_mean, device_3_humidity_mean]\n",
        "\n",
        "plt.bar(y_pos, performance, align='center', alpha=0.5)\n",
        "plt.xticks(y_pos, objects)\n",
        "plt.ylabel('mean')\n",
        "plt.title('Means of humidity for the 3 devices');"
      ],
      "metadata": {
        "colab": {
          "base_uri": "https://localhost:8080/",
          "height": 281
        },
        "id": "knuM1FcAtmED",
        "outputId": "6d4c1e9c-d7f0-41d0-a786-4c9970eaf907"
      },
      "execution_count": 13,
      "outputs": [
        {
          "output_type": "display_data",
          "data": {
            "text/plain": [
              "<Figure size 432x288 with 1 Axes>"
            ],
            "image/png": "[encoded data removed]"
          },
          "metadata": {
            "needs_background": "light"
          }
        }
      ]
    },
    {
      "cell_type": "code",
      "source": [
        "# lpg bar chart for means\n",
        "\n",
        "objects = ('Device 1', 'Device 2', 'Device 3')\n",
        "y_pos = np.arange(len(objects))\n",
        "performance = [device_1_lpg_mean, device_2_lpg_mean, device_3_lpg_mean]\n",
        "\n",
        "plt.bar(y_pos, performance, align='center', alpha=0.5)\n",
        "plt.xticks(y_pos, objects)\n",
        "plt.ylabel('mean')\n",
        "plt.title('Means of lpg for the 3 devices');"
      ],
      "metadata": {
        "colab": {
          "base_uri": "https://localhost:8080/",
          "height": 281
        },
        "id": "IYcWlcshtq-G",
        "outputId": "2dd82b55-d65b-45c5-d94a-f86a77637f33"
      },
      "execution_count": 15,
      "outputs": [
        {
          "output_type": "display_data",
          "data": {
            "text/plain": [
              "<Figure size 432x288 with 1 Axes>"
            ],
            "image/png": "[encoded data removed]"
          },
          "metadata": {
            "needs_background": "light"
          }
        }
      ]
    },
    {
      "cell_type": "code",
      "source": [
        "# smoke bar chart for means\n",
        "\n",
        "objects = ('Device 1', 'Device 2', 'Device 3')\n",
        "y_pos = np.arange(len(objects))\n",
        "performance = [device_1_smoke_mean, device_2_smoke_mean, device_3_smoke_mean]\n",
        "\n",
        "plt.bar(y_pos, performance, align='center', alpha=0.5)\n",
        "plt.xticks(y_pos, objects)\n",
        "plt.ylabel('mean')\n",
        "plt.title('Means of smoke for the 3 devices');"
      ],
      "metadata": {
        "colab": {
          "base_uri": "https://localhost:8080/",
          "height": 281
        },
        "id": "tyqHRP1Et0kc",
        "outputId": "b2ce3068-5862-44a6-a220-cdd49ccc7942"
      },
      "execution_count": 16,
      "outputs": [
        {
          "output_type": "display_data",
          "data": {
            "text/plain": [
              "<Figure size 432x288 with 1 Axes>"
            ],
            "image/png": "[encoded data removed]"
          },
          "metadata": {
            "needs_background": "light"
          }
        }
      ]
    },
    {
      "cell_type": "code",
      "source": [
        "# temp bar chart for means\n",
        "\n",
        "objects = ('Device 1', 'Device 2', 'Device 3')\n",
        "y_pos = np.arange(len(objects))\n",
        "performance = [device_1_temp_mean, device_2_temp_mean, device_3_temp_mean]\n",
        "\n",
        "plt.bar(y_pos, performance, align='center', alpha=0.5)\n",
        "plt.xticks(y_pos, objects)\n",
        "plt.ylabel('mean')\n",
        "plt.title('Means of temp for the 3 devices');"
      ],
      "metadata": {
        "colab": {
          "base_uri": "https://localhost:8080/",
          "height": 281
        },
        "id": "S_uWWb6jt7sK",
        "outputId": "16ffe1a1-c00f-499c-d5e5-7ccf4a60a315"
      },
      "execution_count": 17,
      "outputs": [
        {
          "output_type": "display_data",
          "data": {
            "text/plain": [
              "<Figure size 432x288 with 1 Axes>"
            ],
            "image/png": "[encoded data removed]"
          },
          "metadata": {
            "needs_background": "light"
          }
        }
      ]
    },
    {
      "cell_type": "code",
      "source": [
        "# variance bar chart\n",
        "device_1_co_var = grouped_iot_df.get_group(\"00:0f:00:70:91:0a\")[\"co\"].var()\n",
        "device_1_humidity_var = grouped_iot_df.get_group(\"00:0f:00:70:91:0a\")[\"humidity\"].var()\n",
        "device_1_lpg_var = grouped_iot_df.get_group(\"00:0f:00:70:91:0a\")[\"lpg\"].var()\n",
        "device_1_smoke_var = grouped_iot_df.get_group(\"00:0f:00:70:91:0a\")[\"smoke\"].var()\n",
        "device_1_temp_var = grouped_iot_df.get_group(\"00:0f:00:70:91:0a\")[\"temp\"].var()\n",
        "\n",
        "device_2_co_var = grouped_iot_df.get_group(\"1c:bf:ce:15:ec:4d\")[\"co\"].var()\n",
        "device_2_humidity_var = grouped_iot_df.get_group(\"1c:bf:ce:15:ec:4d\")[\"humidity\"].var()\n",
        "device_2_lpg_var = grouped_iot_df.get_group(\"1c:bf:ce:15:ec:4d\")[\"lpg\"].var()\n",
        "device_2_smoke_var = grouped_iot_df.get_group(\"1c:bf:ce:15:ec:4d\")[\"smoke\"].var()\n",
        "device_2_temp_var = grouped_iot_df.get_group(\"1c:bf:ce:15:ec:4d\")[\"temp\"].var()\n",
        "\n",
        "device_3_co_var = grouped_iot_df.get_group(\"b8:27:eb:bf:9d:51\")[\"co\"].var()\n",
        "device_3_humidity_var = grouped_iot_df.get_group(\"b8:27:eb:bf:9d:51\")[\"humidity\"].var()\n",
        "device_3_lpg_var = grouped_iot_df.get_group(\"b8:27:eb:bf:9d:51\")[\"lpg\"].var()\n",
        "device_3_smoke_var = grouped_iot_df.get_group(\"b8:27:eb:bf:9d:51\")[\"smoke\"].var()\n",
        "device_3_temp_var = grouped_iot_df.get_group(\"b8:27:eb:bf:9d:51\")[\"temp\"].var()\n",
        "\n",
        "device_1_vars = [device_1_co_var, device_1_humidity_var, device_1_lpg_var, device_1_smoke_var, device_1_temp_var]\n",
        "device_2_vars = [device_2_co_var, device_2_humidity_var, device_2_lpg_var, device_2_smoke_var, device_2_temp_var]\n",
        "device_3_vars = [device_3_co_var, device_3_humidity_var, device_3_lpg_var, device_3_smoke_var, device_3_temp_var]\n",
        "\n",
        "width = 0.35  # the width of the bars\n",
        "x = np.arange(5)\n",
        "\n",
        "plt.bar(x-0.35, device_1_vars, width, color='cyan', label=\"device 1\")\n",
        "plt.bar(x, device_2_vars, width, color='orange', label=\"device 2\")\n",
        "plt.bar(x+0.35, device_3_vars, width, width, color='green', label=\"device 3\")\n",
        "\n",
        "# Add some text for labels, title and custom x-axis tick labels, etc.\n",
        "plt.ylabel('Variance')\n",
        "plt.title('Variance by device and features')\n",
        "plt.xticks(x, ['co', 'humidity', 'lpg', 'smoke', 'temp'])\n",
        "plt.legend()\n",
        "\n",
        "plt.show()"
      ],
      "metadata": {
        "id": "8x7xIc7cwInJ",
        "colab": {
          "base_uri": "https://localhost:8080/",
          "height": 281
        },
        "outputId": "1609629a-63c5-4a62-cb82-6c03c628a962"
      },
      "execution_count": 9,
      "outputs": [
        {
          "output_type": "display_data",
          "data": {
            "text/plain": [
              "<Figure size 432x288 with 1 Axes>"
            ],
            "image/png": "[encoded data removed]"
          },
          "metadata": {
            "needs_background": "light"
          }
        }
      ]
    },
    {
      "cell_type": "code",
      "source": [
        "# co bar chart for vars\n",
        "\n",
        "objects = ('Device 1', 'Device 2', 'Device 3')\n",
        "y_pos = np.arange(len(objects))\n",
        "performance = [device_1_co_var, device_2_co_var, device_3_co_var]\n",
        "\n",
        "plt.bar(y_pos, performance, align='center', alpha=0.5)\n",
        "plt.xticks(y_pos, objects)\n",
        "plt.ylabel('variance')\n",
        "plt.title('Variances of co for the 3 devices');"
      ],
      "metadata": {
        "colab": {
          "base_uri": "https://localhost:8080/",
          "height": 281
        },
        "id": "LLjJjgr5uGa3",
        "outputId": "5e1ec04b-f43f-4551-fd0f-3adf61c66e73"
      },
      "execution_count": 19,
      "outputs": [
        {
          "output_type": "display_data",
          "data": {
            "text/plain": [
              "<Figure size 432x288 with 1 Axes>"
            ],
            "image/png": "[encoded data removed]"
          },
          "metadata": {
            "needs_background": "light"
          }
        }
      ]
    },
    {
      "cell_type": "code",
      "source": [
        "# humidity bar chart for vars\n",
        "\n",
        "objects = ('Device 1', 'Device 2', 'Device 3')\n",
        "y_pos = np.arange(len(objects))\n",
        "performance = [device_1_humidity_var, device_2_humidity_var, device_3_humidity_var]\n",
        "\n",
        "plt.bar(y_pos, performance, align='center', alpha=0.5)\n",
        "plt.xticks(y_pos, objects)\n",
        "plt.ylabel('variance')\n",
        "plt.title('Variances of humidity for the 3 devices');"
      ],
      "metadata": {
        "colab": {
          "base_uri": "https://localhost:8080/",
          "height": 281
        },
        "id": "A1iNN0FEuGs2",
        "outputId": "05f895d1-3c3e-44a2-bc17-e468609f2b81"
      },
      "execution_count": 20,
      "outputs": [
        {
          "output_type": "display_data",
          "data": {
            "text/plain": [
              "<Figure size 432x288 with 1 Axes>"
            ],
            "image/png": "[encoded data removed]"
          },
          "metadata": {
            "needs_background": "light"
          }
        }
      ]
    },
    {
      "cell_type": "code",
      "source": [
        "# lpg bar chart for vars\n",
        "\n",
        "objects = ('Device 1', 'Device 2', 'Device 3')\n",
        "y_pos = np.arange(len(objects))\n",
        "performance = [device_1_lpg_var, device_2_lpg_var, device_3_lpg_var]\n",
        "\n",
        "plt.bar(y_pos, performance, align='center', alpha=0.5)\n",
        "plt.xticks(y_pos, objects)\n",
        "plt.ylabel('variance')\n",
        "plt.title('Variances of lpg for the 3 devices');"
      ],
      "metadata": {
        "colab": {
          "base_uri": "https://localhost:8080/",
          "height": 281
        },
        "id": "wBmftRlmuMWk",
        "outputId": "5644f6e9-5ac0-41ee-ae46-d74ae979e4b4"
      },
      "execution_count": 21,
      "outputs": [
        {
          "output_type": "display_data",
          "data": {
            "text/plain": [
              "<Figure size 432x288 with 1 Axes>"
            ],
            "image/png": "[encoded data removed]"
          },
          "metadata": {
            "needs_background": "light"
          }
        }
      ]
    },
    {
      "cell_type": "code",
      "source": [
        "# smoke bar chart for vars\n",
        "\n",
        "objects = ('Device 1', 'Device 2', 'Device 3')\n",
        "y_pos = np.arange(len(objects))\n",
        "performance = [device_1_smoke_var, device_2_smoke_var, device_3_smoke_var]\n",
        "\n",
        "plt.bar(y_pos, performance, align='center', alpha=0.5)\n",
        "plt.xticks(y_pos, objects)\n",
        "plt.ylabel('variance')\n",
        "plt.title('Variances of smoke for the 3 devices');"
      ],
      "metadata": {
        "colab": {
          "base_uri": "https://localhost:8080/",
          "height": 281
        },
        "id": "TcLfo1UDuPiN",
        "outputId": "969d6566-9518-4196-e9dc-9972721f26d4"
      },
      "execution_count": 22,
      "outputs": [
        {
          "output_type": "display_data",
          "data": {
            "text/plain": [
              "<Figure size 432x288 with 1 Axes>"
            ],
            "image/png": "[encoded data removed]"
          },
          "metadata": {
            "needs_background": "light"
          }
        }
      ]
    },
    {
      "cell_type": "code",
      "source": [
        "# temp bar chart for vars\n",
        "\n",
        "objects = ('Device 1', 'Device 2', 'Device 3')\n",
        "y_pos = np.arange(len(objects))\n",
        "performance = [device_1_temp_var, device_2_temp_var, device_3_temp_var]\n",
        "\n",
        "plt.bar(y_pos, performance, align='center', alpha=0.5)\n",
        "plt.xticks(y_pos, objects)\n",
        "plt.ylabel('variance')\n",
        "plt.title('Variances of temp for the 3 devices');"
      ],
      "metadata": {
        "colab": {
          "base_uri": "https://localhost:8080/",
          "height": 281
        },
        "id": "VO4e7S9FuSQ9",
        "outputId": "49256943-6123-4a6f-8c37-8682a8a6a720"
      },
      "execution_count": 23,
      "outputs": [
        {
          "output_type": "display_data",
          "data": {
            "text/plain": [
              "<Figure size 432x288 with 1 Axes>"
            ],
            "image/png": "[encoded data removed]"
          },
          "metadata": {
            "needs_background": "light"
          }
        }
      ]
    },
    {
      "cell_type": "markdown",
      "source": [
        "_[Your answer for 1.2(a) goes here]_\n",
        "\n",
        "In both the mean and variance charts, humidity and temperature features dominated in terms of value. The mean and variance for these two features were considerably higher than the others."
      ],
      "metadata": {
        "id": "baOjUglyTzY9"
      }
    },
    {
      "cell_type": "markdown",
      "metadata": {
        "id": "CrZQxH5hz-hU"
      },
      "source": [
        "### (b)"
      ]
    },
    {
      "cell_type": "code",
      "source": [
        "### Your code for 1.2(b) goes here ###\n",
        "norm_cols = ['co', 'humidity', 'lpg', 'smoke', 'temp'] \n",
        "preprocessed_iot_df = iot_df.copy()\n",
        "\n",
        "preprocessed_iot_df.update(preprocessed_iot_df[preprocessed_iot_df['device'] == '00:0f:00:70:91:0a'][norm_cols].apply(sps.zscore)) \n",
        "preprocessed_iot_df.update(preprocessed_iot_df[preprocessed_iot_df['device'] == '1c:bf:ce:15:ec:4d'][norm_cols].apply(sps.zscore)) \n",
        "preprocessed_iot_df.update(preprocessed_iot_df[preprocessed_iot_df['device'] == 'b8:27:eb:bf:9d:51'][norm_cols].apply(sps.zscore)) "
      ],
      "metadata": {
        "id": "JBXM5r2b831B"
      },
      "execution_count": 24,
      "outputs": []
    },
    {
      "cell_type": "code",
      "source": [
        "preprocessed_iot_df.head(21)"
      ],
      "metadata": {
        "id": "ymnhq9xiBH77",
        "colab": {
          "base_uri": "https://localhost:8080/",
          "height": 708
        },
        "outputId": "cc3f40f2-e6dd-4c67-d655-3a12d64209c2"
      },
      "execution_count": 25,
      "outputs": [
        {
          "output_type": "execute_result",
          "data": {
            "text/plain": [
              "              ts             device        co  humidity  light       lpg  \\\n",
              "0   1.594512e+09  b8:27:eb:bf:9d:51 -1.080796  0.098428  False -1.093494   \n",
              "1   1.594512e+09  00:0f:00:70:91:0a -0.464453  0.281223  False -0.458335   \n",
              "2   1.594512e+09  b8:27:eb:bf:9d:51 -1.044867  0.045488  False -1.056110   \n",
              "3   1.594512e+09  1c:bf:ce:15:ec:4d  0.687054  1.664636   True  0.696251   \n",
              "4   1.594512e+09  b8:27:eb:bf:9d:51 -1.060347  0.045488  False -1.072212   \n",
              "5   1.594512e+09  1c:bf:ce:15:ec:4d  0.649530  1.787613   True  0.659046   \n",
              "6   1.594512e+09  b8:27:eb:bf:9d:51 -1.044844  0.045488  False -1.056086   \n",
              "7   1.594512e+09  00:0f:00:70:91:0a -0.398158  0.281223  False -0.383563   \n",
              "8   1.594512e+09  1c:bf:ce:15:ec:4d  0.507422  1.787613   True  0.517890   \n",
              "9   1.594512e+09  b8:27:eb:bf:9d:51 -1.055170  0.045488  False -1.066827   \n",
              "10  1.594512e+09  b8:27:eb:bf:9d:51 -1.073153  0.045488  False -1.085539   \n",
              "11  1.594512e+09  1c:bf:ce:15:ec:4d  0.624687  1.798793   True  0.634398   \n",
              "12  1.594512e+09  b8:27:eb:bf:9d:51 -1.052684  0.045488  False -1.064240   \n",
              "13  1.594512e+09  1c:bf:ce:15:ec:4d  0.838333  1.798793   True  0.845959   \n",
              "14  1.594512e+09  b8:27:eb:bf:9d:51 -1.065357  0.045488  False -1.077425   \n",
              "15  1.594512e+09  00:0f:00:70:91:0a -0.420543  0.180000  False -0.408733   \n",
              "16  1.594512e+09  b8:27:eb:bf:9d:51 -1.044919  0.045488  False -1.056164   \n",
              "17  1.594512e+09  b8:27:eb:bf:9d:51 -1.073153  0.045488  False -1.085539   \n",
              "18  1.594512e+09  1c:bf:ce:15:ec:4d  0.800335  1.787613   True  0.808398   \n",
              "19  1.594512e+09  b8:27:eb:bf:9d:51 -1.080473  0.045488  False -1.093158   \n",
              "20  1.594512e+09  00:0f:00:70:91:0a -0.398158  0.180000  False -0.383563   \n",
              "\n",
              "    motion     smoke      temp  \n",
              "0    False -1.091262  0.871612  \n",
              "1    False -0.460394  0.524164  \n",
              "2    False -1.054139  0.664101  \n",
              "3    False  0.694636  0.480892  \n",
              "4    False -1.070130  0.664101  \n",
              "5    False  0.657373  0.480892  \n",
              "6    False -1.054116  0.664101  \n",
              "7    False -0.387060  0.524164  \n",
              "8    False  0.516041  0.480892  \n",
              "9    False -1.064782  0.664101  \n",
              "10   False -1.083363  0.664101  \n",
              "11   False  0.632689  0.480892  \n",
              "12   False -1.062213  0.664101  \n",
              "13   False  0.844630  0.480892  \n",
              "14   False -1.075306  0.664101  \n",
              "15   False -0.411760  0.524164  \n",
              "16   False -1.054193  0.664101  \n",
              "17   False -1.083363  0.664101  \n",
              "18   False  0.806990  0.480892  \n",
              "19   False -1.090928  0.664101  \n",
              "20   False -0.387060  0.524164  "
            ],
            "text/html": [
              "\n",
              "  <div id=\"df-6009df22-8a64-4c5e-95c6-d4bcf156398b\">\n",
              "    <div class=\"colab-df-container\">\n",
              "      <div>\n",
              "<style scoped>\n",
              "    .dataframe tbody tr th:only-of-type {\n",
              "        vertical-align: middle;\n",
              "    }\n",
              "\n",
              "    .dataframe tbody tr th {\n",
              "        vertical-align: top;\n",
              "    }\n",
              "\n",
              "    .dataframe thead th {\n",
              "        text-align: right;\n",
              "    }\n",
              "</style>\n",
              "<table border=\"1\" class=\"dataframe\">\n",
              "  <thead>\n",
              "    <tr style=\"text-align: right;\">\n",
              "      <th></th>\n",
              "      <th>ts</th>\n",
              "      <th>device</th>\n",
              "      <th>co</th>\n",
              "      <th>humidity</th>\n",
              "      <th>light</th>\n",
              "      <th>lpg</th>\n",
              "      <th>motion</th>\n",
              "      <th>smoke</th>\n",
              "      <th>temp</th>\n",
              "    </tr>\n",
              "  </thead>\n",
              "  <tbody>\n",
              "    <tr>\n",
              "      <th>0</th>\n",
              "      <td>1.594512e+09</td>\n",
              "      <td>b8:27:eb:bf:9d:51</td>\n",
              "      <td>-1.080796</td>\n",
              "      <td>0.098428</td>\n",
              "      <td>False</td>\n",
              "      <td>-1.093494</td>\n",
              "      <td>False</td>\n",
              "      <td>-1.091262</td>\n",
              "      <td>0.871612</td>\n",
              "    </tr>\n",
              "    <tr>\n",
              "      <th>1</th>\n",
              "      <td>1.594512e+09</td>\n",
              "      <td>00:0f:00:70:91:0a</td>\n",
              "      <td>-0.464453</td>\n",
              "      <td>0.281223</td>\n",
              "      <td>False</td>\n",
              "      <td>-0.458335</td>\n",
              "      <td>False</td>\n",
              "      <td>-0.460394</td>\n",
              "      <td>0.524164</td>\n",
              "    </tr>\n",
              "    <tr>\n",
              "      <th>2</th>\n",
              "      <td>1.594512e+09</td>\n",
              "      <td>b8:27:eb:bf:9d:51</td>\n",
              "      <td>-1.044867</td>\n",
              "      <td>0.045488</td>\n",
              "      <td>False</td>\n",
              "      <td>-1.056110</td>\n",
              "      <td>False</td>\n",
              "      <td>-1.054139</td>\n",
              "      <td>0.664101</td>\n",
              "    </tr>\n",
              "    <tr>\n",
              "      <th>3</th>\n",
              "      <td>1.594512e+09</td>\n",
              "      <td>1c:bf:ce:15:ec:4d</td>\n",
              "      <td>0.687054</td>\n",
              "      <td>1.664636</td>\n",
              "      <td>True</td>\n",
              "      <td>0.696251</td>\n",
              "      <td>False</td>\n",
              "      <td>0.694636</td>\n",
              "      <td>0.480892</td>\n",
              "    </tr>\n",
              "    <tr>\n",
              "      <th>4</th>\n",
              "      <td>1.594512e+09</td>\n",
              "      <td>b8:27:eb:bf:9d:51</td>\n",
              "      <td>-1.060347</td>\n",
              "      <td>0.045488</td>\n",
              "      <td>False</td>\n",
              "      <td>-1.072212</td>\n",
              "      <td>False</td>\n",
              "      <td>-1.070130</td>\n",
              "      <td>0.664101</td>\n",
              "    </tr>\n",
              "    <tr>\n",
              "      <th>5</th>\n",
              "      <td>1.594512e+09</td>\n",
              "      <td>1c:bf:ce:15:ec:4d</td>\n",
              "      <td>0.649530</td>\n",
              "      <td>1.787613</td>\n",
              "      <td>True</td>\n",
              "      <td>0.659046</td>\n",
              "      <td>False</td>\n",
              "      <td>0.657373</td>\n",
              "      <td>0.480892</td>\n",
              "    </tr>\n",
              "    <tr>\n",
              "      <th>6</th>\n",
              "      <td>1.594512e+09</td>\n",
              "      <td>b8:27:eb:bf:9d:51</td>\n",
              "      <td>-1.044844</td>\n",
              "      <td>0.045488</td>\n",
              "      <td>False</td>\n",
              "      <td>-1.056086</td>\n",
              "      <td>False</td>\n",
              "      <td>-1.054116</td>\n",
              "      <td>0.664101</td>\n",
              "    </tr>\n",
              "    <tr>\n",
              "      <th>7</th>\n",
              "      <td>1.594512e+09</td>\n",
              "      <td>00:0f:00:70:91:0a</td>\n",
              "      <td>-0.398158</td>\n",
              "      <td>0.281223</td>\n",
              "      <td>False</td>\n",
              "      <td>-0.383563</td>\n",
              "      <td>False</td>\n",
              "      <td>-0.387060</td>\n",
              "      <td>0.524164</td>\n",
              "    </tr>\n",
              "    <tr>\n",
              "      <th>8</th>\n",
              "      <td>1.594512e+09</td>\n",
              "      <td>1c:bf:ce:15:ec:4d</td>\n",
              "      <td>0.507422</td>\n",
              "      <td>1.787613</td>\n",
              "      <td>True</td>\n",
              "      <td>0.517890</td>\n",
              "      <td>False</td>\n",
              "      <td>0.516041</td>\n",
              "      <td>0.480892</td>\n",
              "    </tr>\n",
              "    <tr>\n",
              "      <th>9</th>\n",
              "      <td>1.594512e+09</td>\n",
              "      <td>b8:27:eb:bf:9d:51</td>\n",
              "      <td>-1.055170</td>\n",
              "      <td>0.045488</td>\n",
              "      <td>False</td>\n",
              "      <td>-1.066827</td>\n",
              "      <td>False</td>\n",
              "      <td>-1.064782</td>\n",
              "      <td>0.664101</td>\n",
              "    </tr>\n",
              "    <tr>\n",
              "      <th>10</th>\n",
              "      <td>1.594512e+09</td>\n",
              "      <td>b8:27:eb:bf:9d:51</td>\n",
              "      <td>-1.073153</td>\n",
              "      <td>0.045488</td>\n",
              "      <td>False</td>\n",
              "      <td>-1.085539</td>\n",
              "      <td>False</td>\n",
              "      <td>-1.083363</td>\n",
              "      <td>0.664101</td>\n",
              "    </tr>\n",
              "    <tr>\n",
              "      <th>11</th>\n",
              "      <td>1.594512e+09</td>\n",
              "      <td>1c:bf:ce:15:ec:4d</td>\n",
              "      <td>0.624687</td>\n",
              "      <td>1.798793</td>\n",
              "      <td>True</td>\n",
              "      <td>0.634398</td>\n",
              "      <td>False</td>\n",
              "      <td>0.632689</td>\n",
              "      <td>0.480892</td>\n",
              "    </tr>\n",
              "    <tr>\n",
              "      <th>12</th>\n",
              "      <td>1.594512e+09</td>\n",
              "      <td>b8:27:eb:bf:9d:51</td>\n",
              "      <td>-1.052684</td>\n",
              "      <td>0.045488</td>\n",
              "      <td>False</td>\n",
              "      <td>-1.064240</td>\n",
              "      <td>False</td>\n",
              "      <td>-1.062213</td>\n",
              "      <td>0.664101</td>\n",
              "    </tr>\n",
              "    <tr>\n",
              "      <th>13</th>\n",
              "      <td>1.594512e+09</td>\n",
              "      <td>1c:bf:ce:15:ec:4d</td>\n",
              "      <td>0.838333</td>\n",
              "      <td>1.798793</td>\n",
              "      <td>True</td>\n",
              "      <td>0.845959</td>\n",
              "      <td>False</td>\n",
              "      <td>0.844630</td>\n",
              "      <td>0.480892</td>\n",
              "    </tr>\n",
              "    <tr>\n",
              "      <th>14</th>\n",
              "      <td>1.594512e+09</td>\n",
              "      <td>b8:27:eb:bf:9d:51</td>\n",
              "      <td>-1.065357</td>\n",
              "      <td>0.045488</td>\n",
              "      <td>False</td>\n",
              "      <td>-1.077425</td>\n",
              "      <td>False</td>\n",
              "      <td>-1.075306</td>\n",
              "      <td>0.664101</td>\n",
              "    </tr>\n",
              "    <tr>\n",
              "      <th>15</th>\n",
              "      <td>1.594512e+09</td>\n",
              "      <td>00:0f:00:70:91:0a</td>\n",
              "      <td>-0.420543</td>\n",
              "      <td>0.180000</td>\n",
              "      <td>False</td>\n",
              "      <td>-0.408733</td>\n",
              "      <td>False</td>\n",
              "      <td>-0.411760</td>\n",
              "      <td>0.524164</td>\n",
              "    </tr>\n",
              "    <tr>\n",
              "      <th>16</th>\n",
              "      <td>1.594512e+09</td>\n",
              "      <td>b8:27:eb:bf:9d:51</td>\n",
              "      <td>-1.044919</td>\n",
              "      <td>0.045488</td>\n",
              "      <td>False</td>\n",
              "      <td>-1.056164</td>\n",
              "      <td>False</td>\n",
              "      <td>-1.054193</td>\n",
              "      <td>0.664101</td>\n",
              "    </tr>\n",
              "    <tr>\n",
              "      <th>17</th>\n",
              "      <td>1.594512e+09</td>\n",
              "      <td>b8:27:eb:bf:9d:51</td>\n",
              "      <td>-1.073153</td>\n",
              "      <td>0.045488</td>\n",
              "      <td>False</td>\n",
              "      <td>-1.085539</td>\n",
              "      <td>False</td>\n",
              "      <td>-1.083363</td>\n",
              "      <td>0.664101</td>\n",
              "    </tr>\n",
              "    <tr>\n",
              "      <th>18</th>\n",
              "      <td>1.594512e+09</td>\n",
              "      <td>1c:bf:ce:15:ec:4d</td>\n",
              "      <td>0.800335</td>\n",
              "      <td>1.787613</td>\n",
              "      <td>True</td>\n",
              "      <td>0.808398</td>\n",
              "      <td>False</td>\n",
              "      <td>0.806990</td>\n",
              "      <td>0.480892</td>\n",
              "    </tr>\n",
              "    <tr>\n",
              "      <th>19</th>\n",
              "      <td>1.594512e+09</td>\n",
              "      <td>b8:27:eb:bf:9d:51</td>\n",
              "      <td>-1.080473</td>\n",
              "      <td>0.045488</td>\n",
              "      <td>False</td>\n",
              "      <td>-1.093158</td>\n",
              "      <td>False</td>\n",
              "      <td>-1.090928</td>\n",
              "      <td>0.664101</td>\n",
              "    </tr>\n",
              "    <tr>\n",
              "      <th>20</th>\n",
              "      <td>1.594512e+09</td>\n",
              "      <td>00:0f:00:70:91:0a</td>\n",
              "      <td>-0.398158</td>\n",
              "      <td>0.180000</td>\n",
              "      <td>False</td>\n",
              "      <td>-0.383563</td>\n",
              "      <td>False</td>\n",
              "      <td>-0.387060</td>\n",
              "      <td>0.524164</td>\n",
              "    </tr>\n",
              "  </tbody>\n",
              "</table>\n",
              "</div>\n",
              "      <button class=\"colab-df-convert\" onclick=\"convertToInteractive('df-6009df22-8a64-4c5e-95c6-d4bcf156398b')\"\n",
              "              title=\"Convert this dataframe to an interactive table.\"\n",
              "              style=\"display:none;\">\n",
              "        \n",
              "  <svg xmlns=\"http://www.w3.org/2000/svg\" height=\"24px\"viewBox=\"0 0 24 24\"\n",
              "       width=\"24px\">\n",
              "    <path d=\"M0 0h24v24H0V0z\" fill=\"none\"/>\n",
              "    <path d=\"M18.56 5.44l.94 2.06.94-2.06 2.06-.94-2.06-.94-.94-2.06-.94 2.06-2.06.94zm-11 1L8.5 8.5l.94-2.06 2.06-.94-2.06-.94L8.5 2.5l-.94 2.06-2.06.94zm10 10l.94 2.06.94-2.06 2.06-.94-2.06-.94-.94-2.06-.94 2.06-2.06.94z\"/><path d=\"M17.41 7.96l-1.37-1.37c-.4-.4-.92-.59-1.43-.59-.52 0-1.04.2-1.43.59L10.3 9.45l-7.72 7.72c-.78.78-.78 2.05 0 2.83L4 21.41c.39.39.9.59 1.41.59.51 0 1.02-.2 1.41-.59l7.78-7.78 2.81-2.81c.8-.78.8-2.07 0-2.86zM5.41 20L4 18.59l7.72-7.72 1.47 1.35L5.41 20z\"/>\n",
              "  </svg>\n",
              "      </button>\n",
              "      \n",
              "  <style>\n",
              "    .colab-df-container {\n",
              "      display:flex;\n",
              "      flex-wrap:wrap;\n",
              "      gap: 12px;\n",
              "    }\n",
              "\n",
              "    .colab-df-convert {\n",
              "      background-color: #E8F0FE;\n",
              "      border: none;\n",
              "      border-radius: 50%;\n",
              "      cursor: pointer;\n",
              "      display: none;\n",
              "      fill: #1967D2;\n",
              "      height: 32px;\n",
              "      padding: 0 0 0 0;\n",
              "      width: 32px;\n",
              "    }\n",
              "\n",
              "    .colab-df-convert:hover {\n",
              "      background-color: #E2EBFA;\n",
              "      box-shadow: 0px 1px 2px rgba(60, 64, 67, 0.3), 0px 1px 3px 1px rgba(60, 64, 67, 0.15);\n",
              "      fill: #174EA6;\n",
              "    }\n",
              "\n",
              "    [theme=dark] .colab-df-convert {\n",
              "      background-color: #3B4455;\n",
              "      fill: #D2E3FC;\n",
              "    }\n",
              "\n",
              "    [theme=dark] .colab-df-convert:hover {\n",
              "      background-color: #434B5C;\n",
              "      box-shadow: 0px 1px 3px 1px rgba(0, 0, 0, 0.15);\n",
              "      filter: drop-shadow(0px 1px 2px rgba(0, 0, 0, 0.3));\n",
              "      fill: #FFFFFF;\n",
              "    }\n",
              "  </style>\n",
              "\n",
              "      <script>\n",
              "        const buttonEl =\n",
              "          document.querySelector('#df-6009df22-8a64-4c5e-95c6-d4bcf156398b button.colab-df-convert');\n",
              "        buttonEl.style.display =\n",
              "          google.colab.kernel.accessAllowed ? 'block' : 'none';\n",
              "\n",
              "        async function convertToInteractive(key) {\n",
              "          const element = document.querySelector('#df-6009df22-8a64-4c5e-95c6-d4bcf156398b');\n",
              "          const dataTable =\n",
              "            await google.colab.kernel.invokeFunction('convertToInteractive',\n",
              "                                                     [key], {});\n",
              "          if (!dataTable) return;\n",
              "\n",
              "          const docLinkHtml = 'Like what you see? Visit the ' +\n",
              "            '<a target=\"_blank\" href=https://colab.research.google.com/notebooks/data_table.ipynb>data table notebook</a>'\n",
              "            + ' to learn more about interactive tables.';\n",
              "          element.innerHTML = '';\n",
              "          dataTable['output_type'] = 'display_data';\n",
              "          await google.colab.output.renderOutput(dataTable, element);\n",
              "          const docLink = document.createElement('div');\n",
              "          docLink.innerHTML = docLinkHtml;\n",
              "          element.appendChild(docLink);\n",
              "        }\n",
              "      </script>\n",
              "    </div>\n",
              "  </div>\n",
              "  "
            ]
          },
          "metadata": {},
          "execution_count": 25
        }
      ]
    },
    {
      "cell_type": "markdown",
      "metadata": {
        "id": "gAjSMd6zElLw"
      },
      "source": [
        "### (c)"
      ]
    },
    {
      "cell_type": "code",
      "source": [
        "### Your code for 1.2(c) goes here ###\n",
        "\n",
        "# device\n",
        "preprocessed_iot_df.insert(2, \"D0\", pd.get_dummies(iot_df[\"device\"])['00:0f:00:70:91:0a'], False)\n",
        "preprocessed_iot_df.insert(3, \"D1\", pd.get_dummies(iot_df[\"device\"])['1c:bf:ce:15:ec:4d'], False)\n",
        "preprocessed_iot_df.insert(4, \"D2\", pd.get_dummies(iot_df[\"device\"])['b8:27:eb:bf:9d:51'], False)\n",
        "\n",
        "# light\n",
        "preprocessed_iot_df.insert(8, \"L0\", pd.get_dummies(iot_df[\"light\"])[False], False)\n",
        "preprocessed_iot_df.insert(9, \"L1\", pd.get_dummies(iot_df[\"light\"])[True], False)\n",
        "\n",
        "# motion\n",
        "preprocessed_iot_df.insert(12, \"M0\", pd.get_dummies(iot_df[\"motion\"])[False], False)\n",
        "preprocessed_iot_df.insert(13, \"M1\", pd.get_dummies(iot_df[\"motion\"])[True], False)\n",
        "\n",
        "preprocessed_iot_df = preprocessed_iot_df.drop(['device', 'light', 'motion'], axis=1)"
      ],
      "metadata": {
        "id": "GQt0WOUKEvZV"
      },
      "execution_count": 26,
      "outputs": []
    },
    {
      "cell_type": "markdown",
      "source": [
        "### (d)"
      ],
      "metadata": {
        "id": "3IuMCu6vUBgz"
      }
    },
    {
      "cell_type": "code",
      "source": [
        "### Your code for 1.2(d) goes here ###\n",
        "preprocessed_iot_df.head(21)"
      ],
      "metadata": {
        "id": "J-6Tc2KSGY6S",
        "colab": {
          "base_uri": "https://localhost:8080/",
          "height": 708
        },
        "outputId": "0371995d-04e6-4ca6-8998-86fc53bd7361"
      },
      "execution_count": 28,
      "outputs": [
        {
          "output_type": "execute_result",
          "data": {
            "text/plain": [
              "              ts  D0  D1  D2        co  humidity  L0  L1       lpg  M0  M1  \\\n",
              "0   1.594512e+09   0   0   1 -1.080796  0.098428   1   0 -1.093494   1   0   \n",
              "1   1.594512e+09   1   0   0 -0.464453  0.281223   1   0 -0.458335   1   0   \n",
              "2   1.594512e+09   0   0   1 -1.044867  0.045488   1   0 -1.056110   1   0   \n",
              "3   1.594512e+09   0   1   0  0.687054  1.664636   0   1  0.696251   1   0   \n",
              "4   1.594512e+09   0   0   1 -1.060347  0.045488   1   0 -1.072212   1   0   \n",
              "5   1.594512e+09   0   1   0  0.649530  1.787613   0   1  0.659046   1   0   \n",
              "6   1.594512e+09   0   0   1 -1.044844  0.045488   1   0 -1.056086   1   0   \n",
              "7   1.594512e+09   1   0   0 -0.398158  0.281223   1   0 -0.383563   1   0   \n",
              "8   1.594512e+09   0   1   0  0.507422  1.787613   0   1  0.517890   1   0   \n",
              "9   1.594512e+09   0   0   1 -1.055170  0.045488   1   0 -1.066827   1   0   \n",
              "10  1.594512e+09   0   0   1 -1.073153  0.045488   1   0 -1.085539   1   0   \n",
              "11  1.594512e+09   0   1   0  0.624687  1.798793   0   1  0.634398   1   0   \n",
              "12  1.594512e+09   0   0   1 -1.052684  0.045488   1   0 -1.064240   1   0   \n",
              "13  1.594512e+09   0   1   0  0.838333  1.798793   0   1  0.845959   1   0   \n",
              "14  1.594512e+09   0   0   1 -1.065357  0.045488   1   0 -1.077425   1   0   \n",
              "15  1.594512e+09   1   0   0 -0.420543  0.180000   1   0 -0.408733   1   0   \n",
              "16  1.594512e+09   0   0   1 -1.044919  0.045488   1   0 -1.056164   1   0   \n",
              "17  1.594512e+09   0   0   1 -1.073153  0.045488   1   0 -1.085539   1   0   \n",
              "18  1.594512e+09   0   1   0  0.800335  1.787613   0   1  0.808398   1   0   \n",
              "19  1.594512e+09   0   0   1 -1.080473  0.045488   1   0 -1.093158   1   0   \n",
              "20  1.594512e+09   1   0   0 -0.398158  0.180000   1   0 -0.383563   1   0   \n",
              "\n",
              "       smoke      temp  \n",
              "0  -1.091262  0.871612  \n",
              "1  -0.460394  0.524164  \n",
              "2  -1.054139  0.664101  \n",
              "3   0.694636  0.480892  \n",
              "4  -1.070130  0.664101  \n",
              "5   0.657373  0.480892  \n",
              "6  -1.054116  0.664101  \n",
              "7  -0.387060  0.524164  \n",
              "8   0.516041  0.480892  \n",
              "9  -1.064782  0.664101  \n",
              "10 -1.083363  0.664101  \n",
              "11  0.632689  0.480892  \n",
              "12 -1.062213  0.664101  \n",
              "13  0.844630  0.480892  \n",
              "14 -1.075306  0.664101  \n",
              "15 -0.411760  0.524164  \n",
              "16 -1.054193  0.664101  \n",
              "17 -1.083363  0.664101  \n",
              "18  0.806990  0.480892  \n",
              "19 -1.090928  0.664101  \n",
              "20 -0.387060  0.524164  "
            ],
            "text/html": [
              "\n",
              "  <div id=\"df-c156ee2e-b553-49f6-961e-dbfae77b2933\">\n",
              "    <div class=\"colab-df-container\">\n",
              "      <div>\n",
              "<style scoped>\n",
              "    .dataframe tbody tr th:only-of-type {\n",
              "        vertical-align: middle;\n",
              "    }\n",
              "\n",
              "    .dataframe tbody tr th {\n",
              "        vertical-align: top;\n",
              "    }\n",
              "\n",
              "    .dataframe thead th {\n",
              "        text-align: right;\n",
              "    }\n",
              "</style>\n",
              "<table border=\"1\" class=\"dataframe\">\n",
              "  <thead>\n",
              "    <tr style=\"text-align: right;\">\n",
              "      <th></th>\n",
              "      <th>ts</th>\n",
              "      <th>D0</th>\n",
              "      <th>D1</th>\n",
              "      <th>D2</th>\n",
              "      <th>co</th>\n",
              "      <th>humidity</th>\n",
              "      <th>L0</th>\n",
              "      <th>L1</th>\n",
              "      <th>lpg</th>\n",
              "      <th>M0</th>\n",
              "      <th>M1</th>\n",
              "      <th>smoke</th>\n",
              "      <th>temp</th>\n",
              "    </tr>\n",
              "  </thead>\n",
              "  <tbody>\n",
              "    <tr>\n",
              "      <th>0</th>\n",
              "      <td>1.594512e+09</td>\n",
              "      <td>0</td>\n",
              "      <td>0</td>\n",
              "      <td>1</td>\n",
              "      <td>-1.080796</td>\n",
              "      <td>0.098428</td>\n",
              "      <td>1</td>\n",
              "      <td>0</td>\n",
              "      <td>-1.093494</td>\n",
              "      <td>1</td>\n",
              "      <td>0</td>\n",
              "      <td>-1.091262</td>\n",
              "      <td>0.871612</td>\n",
              "    </tr>\n",
              "    <tr>\n",
              "      <th>1</th>\n",
              "      <td>1.594512e+09</td>\n",
              "      <td>1</td>\n",
              "      <td>0</td>\n",
              "      <td>0</td>\n",
              "      <td>-0.464453</td>\n",
              "      <td>0.281223</td>\n",
              "      <td>1</td>\n",
              "      <td>0</td>\n",
              "      <td>-0.458335</td>\n",
              "      <td>1</td>\n",
              "      <td>0</td>\n",
              "      <td>-0.460394</td>\n",
              "      <td>0.524164</td>\n",
              "    </tr>\n",
              "    <tr>\n",
              "      <th>2</th>\n",
              "      <td>1.594512e+09</td>\n",
              "      <td>0</td>\n",
              "      <td>0</td>\n",
              "      <td>1</td>\n",
              "      <td>-1.044867</td>\n",
              "      <td>0.045488</td>\n",
              "      <td>1</td>\n",
              "      <td>0</td>\n",
              "      <td>-1.056110</td>\n",
              "      <td>1</td>\n",
              "      <td>0</td>\n",
              "      <td>-1.054139</td>\n",
              "      <td>0.664101</td>\n",
              "    </tr>\n",
              "    <tr>\n",
              "      <th>3</th>\n",
              "      <td>1.594512e+09</td>\n",
              "      <td>0</td>\n",
              "      <td>1</td>\n",
              "      <td>0</td>\n",
              "      <td>0.687054</td>\n",
              "      <td>1.664636</td>\n",
              "      <td>0</td>\n",
              "      <td>1</td>\n",
              "      <td>0.696251</td>\n",
              "      <td>1</td>\n",
              "      <td>0</td>\n",
              "      <td>0.694636</td>\n",
              "      <td>0.480892</td>\n",
              "    </tr>\n",
              "    <tr>\n",
              "      <th>4</th>\n",
              "      <td>1.594512e+09</td>\n",
              "      <td>0</td>\n",
              "      <td>0</td>\n",
              "      <td>1</td>\n",
              "      <td>-1.060347</td>\n",
              "      <td>0.045488</td>\n",
              "      <td>1</td>\n",
              "      <td>0</td>\n",
              "      <td>-1.072212</td>\n",
              "      <td>1</td>\n",
              "      <td>0</td>\n",
              "      <td>-1.070130</td>\n",
              "      <td>0.664101</td>\n",
              "    </tr>\n",
              "    <tr>\n",
              "      <th>5</th>\n",
              "      <td>1.594512e+09</td>\n",
              "      <td>0</td>\n",
              "      <td>1</td>\n",
              "      <td>0</td>\n",
              "      <td>0.649530</td>\n",
              "      <td>1.787613</td>\n",
              "      <td>0</td>\n",
              "      <td>1</td>\n",
              "      <td>0.659046</td>\n",
              "      <td>1</td>\n",
              "      <td>0</td>\n",
              "      <td>0.657373</td>\n",
              "      <td>0.480892</td>\n",
              "    </tr>\n",
              "    <tr>\n",
              "      <th>6</th>\n",
              "      <td>1.594512e+09</td>\n",
              "      <td>0</td>\n",
              "      <td>0</td>\n",
              "      <td>1</td>\n",
              "      <td>-1.044844</td>\n",
              "      <td>0.045488</td>\n",
              "      <td>1</td>\n",
              "      <td>0</td>\n",
              "      <td>-1.056086</td>\n",
              "      <td>1</td>\n",
              "      <td>0</td>\n",
              "      <td>-1.054116</td>\n",
              "      <td>0.664101</td>\n",
              "    </tr>\n",
              "    <tr>\n",
              "      <th>7</th>\n",
              "      <td>1.594512e+09</td>\n",
              "      <td>1</td>\n",
              "      <td>0</td>\n",
              "      <td>0</td>\n",
              "      <td>-0.398158</td>\n",
              "      <td>0.281223</td>\n",
              "      <td>1</td>\n",
              "      <td>0</td>\n",
              "      <td>-0.383563</td>\n",
              "      <td>1</td>\n",
              "      <td>0</td>\n",
              "      <td>-0.387060</td>\n",
              "      <td>0.524164</td>\n",
              "    </tr>\n",
              "    <tr>\n",
              "      <th>8</th>\n",
              "      <td>1.594512e+09</td>\n",
              "      <td>0</td>\n",
              "      <td>1</td>\n",
              "      <td>0</td>\n",
              "      <td>0.507422</td>\n",
              "      <td>1.787613</td>\n",
              "      <td>0</td>\n",
              "      <td>1</td>\n",
              "      <td>0.517890</td>\n",
              "      <td>1</td>\n",
              "      <td>0</td>\n",
              "      <td>0.516041</td>\n",
              "      <td>0.480892</td>\n",
              "    </tr>\n",
              "    <tr>\n",
              "      <th>9</th>\n",
              "      <td>1.594512e+09</td>\n",
              "      <td>0</td>\n",
              "      <td>0</td>\n",
              "      <td>1</td>\n",
              "      <td>-1.055170</td>\n",
              "      <td>0.045488</td>\n",
              "      <td>1</td>\n",
              "      <td>0</td>\n",
              "      <td>-1.066827</td>\n",
              "      <td>1</td>\n",
              "      <td>0</td>\n",
              "      <td>-1.064782</td>\n",
              "      <td>0.664101</td>\n",
              "    </tr>\n",
              "    <tr>\n",
              "      <th>10</th>\n",
              "      <td>1.594512e+09</td>\n",
              "      <td>0</td>\n",
              "      <td>0</td>\n",
              "      <td>1</td>\n",
              "      <td>-1.073153</td>\n",
              "      <td>0.045488</td>\n",
              "      <td>1</td>\n",
              "      <td>0</td>\n",
              "      <td>-1.085539</td>\n",
              "      <td>1</td>\n",
              "      <td>0</td>\n",
              "      <td>-1.083363</td>\n",
              "      <td>0.664101</td>\n",
              "    </tr>\n",
              "    <tr>\n",
              "      <th>11</th>\n",
              "      <td>1.594512e+09</td>\n",
              "      <td>0</td>\n",
              "      <td>1</td>\n",
              "      <td>0</td>\n",
              "      <td>0.624687</td>\n",
              "      <td>1.798793</td>\n",
              "      <td>0</td>\n",
              "      <td>1</td>\n",
              "      <td>0.634398</td>\n",
              "      <td>1</td>\n",
              "      <td>0</td>\n",
              "      <td>0.632689</td>\n",
              "      <td>0.480892</td>\n",
              "    </tr>\n",
              "    <tr>\n",
              "      <th>12</th>\n",
              "      <td>1.594512e+09</td>\n",
              "      <td>0</td>\n",
              "      <td>0</td>\n",
              "      <td>1</td>\n",
              "      <td>-1.052684</td>\n",
              "      <td>0.045488</td>\n",
              "      <td>1</td>\n",
              "      <td>0</td>\n",
              "      <td>-1.064240</td>\n",
              "      <td>1</td>\n",
              "      <td>0</td>\n",
              "      <td>-1.062213</td>\n",
              "      <td>0.664101</td>\n",
              "    </tr>\n",
              "    <tr>\n",
              "      <th>13</th>\n",
              "      <td>1.594512e+09</td>\n",
              "      <td>0</td>\n",
              "      <td>1</td>\n",
              "      <td>0</td>\n",
              "      <td>0.838333</td>\n",
              "      <td>1.798793</td>\n",
              "      <td>0</td>\n",
              "      <td>1</td>\n",
              "      <td>0.845959</td>\n",
              "      <td>1</td>\n",
              "      <td>0</td>\n",
              "      <td>0.844630</td>\n",
              "      <td>0.480892</td>\n",
              "    </tr>\n",
              "    <tr>\n",
              "      <th>14</th>\n",
              "      <td>1.594512e+09</td>\n",
              "      <td>0</td>\n",
              "      <td>0</td>\n",
              "      <td>1</td>\n",
              "      <td>-1.065357</td>\n",
              "      <td>0.045488</td>\n",
              "      <td>1</td>\n",
              "      <td>0</td>\n",
              "      <td>-1.077425</td>\n",
              "      <td>1</td>\n",
              "      <td>0</td>\n",
              "      <td>-1.075306</td>\n",
              "      <td>0.664101</td>\n",
              "    </tr>\n",
              "    <tr>\n",
              "      <th>15</th>\n",
              "      <td>1.594512e+09</td>\n",
              "      <td>1</td>\n",
              "      <td>0</td>\n",
              "      <td>0</td>\n",
              "      <td>-0.420543</td>\n",
              "      <td>0.180000</td>\n",
              "      <td>1</td>\n",
              "      <td>0</td>\n",
              "      <td>-0.408733</td>\n",
              "      <td>1</td>\n",
              "      <td>0</td>\n",
              "      <td>-0.411760</td>\n",
              "      <td>0.524164</td>\n",
              "    </tr>\n",
              "    <tr>\n",
              "      <th>16</th>\n",
              "      <td>1.594512e+09</td>\n",
              "      <td>0</td>\n",
              "      <td>0</td>\n",
              "      <td>1</td>\n",
              "      <td>-1.044919</td>\n",
              "      <td>0.045488</td>\n",
              "      <td>1</td>\n",
              "      <td>0</td>\n",
              "      <td>-1.056164</td>\n",
              "      <td>1</td>\n",
              "      <td>0</td>\n",
              "      <td>-1.054193</td>\n",
              "      <td>0.664101</td>\n",
              "    </tr>\n",
              "    <tr>\n",
              "      <th>17</th>\n",
              "      <td>1.594512e+09</td>\n",
              "      <td>0</td>\n",
              "      <td>0</td>\n",
              "      <td>1</td>\n",
              "      <td>-1.073153</td>\n",
              "      <td>0.045488</td>\n",
              "      <td>1</td>\n",
              "      <td>0</td>\n",
              "      <td>-1.085539</td>\n",
              "      <td>1</td>\n",
              "      <td>0</td>\n",
              "      <td>-1.083363</td>\n",
              "      <td>0.664101</td>\n",
              "    </tr>\n",
              "    <tr>\n",
              "      <th>18</th>\n",
              "      <td>1.594512e+09</td>\n",
              "      <td>0</td>\n",
              "      <td>1</td>\n",
              "      <td>0</td>\n",
              "      <td>0.800335</td>\n",
              "      <td>1.787613</td>\n",
              "      <td>0</td>\n",
              "      <td>1</td>\n",
              "      <td>0.808398</td>\n",
              "      <td>1</td>\n",
              "      <td>0</td>\n",
              "      <td>0.806990</td>\n",
              "      <td>0.480892</td>\n",
              "    </tr>\n",
              "    <tr>\n",
              "      <th>19</th>\n",
              "      <td>1.594512e+09</td>\n",
              "      <td>0</td>\n",
              "      <td>0</td>\n",
              "      <td>1</td>\n",
              "      <td>-1.080473</td>\n",
              "      <td>0.045488</td>\n",
              "      <td>1</td>\n",
              "      <td>0</td>\n",
              "      <td>-1.093158</td>\n",
              "      <td>1</td>\n",
              "      <td>0</td>\n",
              "      <td>-1.090928</td>\n",
              "      <td>0.664101</td>\n",
              "    </tr>\n",
              "    <tr>\n",
              "      <th>20</th>\n",
              "      <td>1.594512e+09</td>\n",
              "      <td>1</td>\n",
              "      <td>0</td>\n",
              "      <td>0</td>\n",
              "      <td>-0.398158</td>\n",
              "      <td>0.180000</td>\n",
              "      <td>1</td>\n",
              "      <td>0</td>\n",
              "      <td>-0.383563</td>\n",
              "      <td>1</td>\n",
              "      <td>0</td>\n",
              "      <td>-0.387060</td>\n",
              "      <td>0.524164</td>\n",
              "    </tr>\n",
              "  </tbody>\n",
              "</table>\n",
              "</div>\n",
              "      <button class=\"colab-df-convert\" onclick=\"convertToInteractive('df-c156ee2e-b553-49f6-961e-dbfae77b2933')\"\n",
              "              title=\"Convert this dataframe to an interactive table.\"\n",
              "              style=\"display:none;\">\n",
              "        \n",
              "  <svg xmlns=\"http://www.w3.org/2000/svg\" height=\"24px\"viewBox=\"0 0 24 24\"\n",
              "       width=\"24px\">\n",
              "    <path d=\"M0 0h24v24H0V0z\" fill=\"none\"/>\n",
              "    <path d=\"M18.56 5.44l.94 2.06.94-2.06 2.06-.94-2.06-.94-.94-2.06-.94 2.06-2.06.94zm-11 1L8.5 8.5l.94-2.06 2.06-.94-2.06-.94L8.5 2.5l-.94 2.06-2.06.94zm10 10l.94 2.06.94-2.06 2.06-.94-2.06-.94-.94-2.06-.94 2.06-2.06.94z\"/><path d=\"M17.41 7.96l-1.37-1.37c-.4-.4-.92-.59-1.43-.59-.52 0-1.04.2-1.43.59L10.3 9.45l-7.72 7.72c-.78.78-.78 2.05 0 2.83L4 21.41c.39.39.9.59 1.41.59.51 0 1.02-.2 1.41-.59l7.78-7.78 2.81-2.81c.8-.78.8-2.07 0-2.86zM5.41 20L4 18.59l7.72-7.72 1.47 1.35L5.41 20z\"/>\n",
              "  </svg>\n",
              "      </button>\n",
              "      \n",
              "  <style>\n",
              "    .colab-df-container {\n",
              "      display:flex;\n",
              "      flex-wrap:wrap;\n",
              "      gap: 12px;\n",
              "    }\n",
              "\n",
              "    .colab-df-convert {\n",
              "      background-color: #E8F0FE;\n",
              "      border: none;\n",
              "      border-radius: 50%;\n",
              "      cursor: pointer;\n",
              "      display: none;\n",
              "      fill: #1967D2;\n",
              "      height: 32px;\n",
              "      padding: 0 0 0 0;\n",
              "      width: 32px;\n",
              "    }\n",
              "\n",
              "    .colab-df-convert:hover {\n",
              "      background-color: #E2EBFA;\n",
              "      box-shadow: 0px 1px 2px rgba(60, 64, 67, 0.3), 0px 1px 3px 1px rgba(60, 64, 67, 0.15);\n",
              "      fill: #174EA6;\n",
              "    }\n",
              "\n",
              "    [theme=dark] .colab-df-convert {\n",
              "      background-color: #3B4455;\n",
              "      fill: #D2E3FC;\n",
              "    }\n",
              "\n",
              "    [theme=dark] .colab-df-convert:hover {\n",
              "      background-color: #434B5C;\n",
              "      box-shadow: 0px 1px 3px 1px rgba(0, 0, 0, 0.15);\n",
              "      filter: drop-shadow(0px 1px 2px rgba(0, 0, 0, 0.3));\n",
              "      fill: #FFFFFF;\n",
              "    }\n",
              "  </style>\n",
              "\n",
              "      <script>\n",
              "        const buttonEl =\n",
              "          document.querySelector('#df-c156ee2e-b553-49f6-961e-dbfae77b2933 button.colab-df-convert');\n",
              "        buttonEl.style.display =\n",
              "          google.colab.kernel.accessAllowed ? 'block' : 'none';\n",
              "\n",
              "        async function convertToInteractive(key) {\n",
              "          const element = document.querySelector('#df-c156ee2e-b553-49f6-961e-dbfae77b2933');\n",
              "          const dataTable =\n",
              "            await google.colab.kernel.invokeFunction('convertToInteractive',\n",
              "                                                     [key], {});\n",
              "          if (!dataTable) return;\n",
              "\n",
              "          const docLinkHtml = 'Like what you see? Visit the ' +\n",
              "            '<a target=\"_blank\" href=https://colab.research.google.com/notebooks/data_table.ipynb>data table notebook</a>'\n",
              "            + ' to learn more about interactive tables.';\n",
              "          element.innerHTML = '';\n",
              "          dataTable['output_type'] = 'display_data';\n",
              "          await google.colab.output.renderOutput(dataTable, element);\n",
              "          const docLink = document.createElement('div');\n",
              "          docLink.innerHTML = docLinkHtml;\n",
              "          element.appendChild(docLink);\n",
              "        }\n",
              "      </script>\n",
              "    </div>\n",
              "  </div>\n",
              "  "
            ]
          },
          "metadata": {},
          "execution_count": 28
        }
      ]
    },
    {
      "cell_type": "markdown",
      "source": [
        "### (e)"
      ],
      "metadata": {
        "id": "zsOtgiVCUEfc"
      }
    },
    {
      "cell_type": "markdown",
      "source": [
        "_[Your answer for 1.2(e) goes here]_\n",
        "\n",
        "The **ts** variable is the timestamp for each data sample collected. This remains intact even in the pre-processed data because this is the unique identifier of each sample. The timestamp is how we distinguish between data samples. If it is changed in any way, we will not be able to map data sample to time of day and consequently won't be able to identify at what time of the day human beings are most present around the sensors. This will hamper the training process of the model resulting in skewed predictions."
      ],
      "metadata": {
        "id": "DR3FGIldUEPN"
      }
    },
    {
      "cell_type": "markdown",
      "source": [
        "## Problem 1.3"
      ],
      "metadata": {
        "id": "OYDjQvfFxnQw"
      }
    },
    {
      "cell_type": "code",
      "source": [
        "### Your code for 1.3 goes here ###\n",
        "preprocessed_iot_df[\"mean\"] = iot_df[['co', 'humidity', 'lpg', 'smoke', 'temp']].mean(axis=1)\n",
        "preprocessed_iot_df[\"gmean\"] = sps.gmean(iot_df[['co', 'humidity', 'lpg', 'smoke', 'temp']], axis=1)\n",
        "preprocessed_iot_df[\"hmean\"] = sps.mstats.hmean(iot_df[['co', 'humidity', 'lpg', 'smoke', 'temp']], axis=1)\n",
        "preprocessed_iot_df[\"var\"] = iot_df[['co', 'humidity', 'lpg', 'smoke', 'temp']].var(axis=1)\n",
        "preprocessed_iot_df[\"kurtosis\"] = sps.kurtosis(iot_df[['co', 'humidity', 'lpg', 'smoke', 'temp']], axis = 1)\n",
        "preprocessed_iot_df[\"skew\"] = sps.skew(iot_df[['co', 'humidity', 'lpg', 'smoke', 'temp']], axis = 1)"
      ],
      "metadata": {
        "id": "5YCLwVJuxrXG",
        "colab": {
          "base_uri": "https://localhost:8080/"
        },
        "outputId": "bde043da-fd3e-4b4d-a3f9-d737c0e63bb6"
      },
      "execution_count": 32,
      "outputs": [
        {
          "output_type": "stream",
          "name": "stderr",
          "text": [
            "/usr/local/lib/python3.7/dist-packages/scipy/stats/stats.py:275: RuntimeWarning: divide by zero encountered in log\n",
            "  log_a = np.log(np.array(a, dtype=dtype))\n"
          ]
        }
      ]
    },
    {
      "cell_type": "code",
      "source": [
        "preprocessed_iot_df.head(41)"
      ],
      "metadata": {
        "id": "IioxCkeyoOs0",
        "colab": {
          "base_uri": "https://localhost:8080/",
          "height": 1000
        },
        "outputId": "2bd6361f-759a-492a-beb3-f5ea0631680b"
      },
      "execution_count": 33,
      "outputs": [
        {
          "output_type": "execute_result",
          "data": {
            "text/plain": [
              "              ts  D0  D1  D2        co  humidity  L0  L1       lpg  M0  M1  \\\n",
              "0   1.594512e+09   0   0   1 -1.080796  0.098428   1   0 -1.093494   1   0   \n",
              "1   1.594512e+09   1   0   0 -0.464453  0.281223   1   0 -0.458335   1   0   \n",
              "2   1.594512e+09   0   0   1 -1.044867  0.045488   1   0 -1.056110   1   0   \n",
              "3   1.594512e+09   0   1   0  0.687054  1.664636   0   1  0.696251   1   0   \n",
              "4   1.594512e+09   0   0   1 -1.060347  0.045488   1   0 -1.072212   1   0   \n",
              "5   1.594512e+09   0   1   0  0.649530  1.787613   0   1  0.659046   1   0   \n",
              "6   1.594512e+09   0   0   1 -1.044844  0.045488   1   0 -1.056086   1   0   \n",
              "7   1.594512e+09   1   0   0 -0.398158  0.281223   1   0 -0.383563   1   0   \n",
              "8   1.594512e+09   0   1   0  0.507422  1.787613   0   1  0.517890   1   0   \n",
              "9   1.594512e+09   0   0   1 -1.055170  0.045488   1   0 -1.066827   1   0   \n",
              "10  1.594512e+09   0   0   1 -1.073153  0.045488   1   0 -1.085539   1   0   \n",
              "11  1.594512e+09   0   1   0  0.624687  1.798793   0   1  0.634398   1   0   \n",
              "12  1.594512e+09   0   0   1 -1.052684  0.045488   1   0 -1.064240   1   0   \n",
              "13  1.594512e+09   0   1   0  0.838333  1.798793   0   1  0.845959   1   0   \n",
              "14  1.594512e+09   0   0   1 -1.065357  0.045488   1   0 -1.077425   1   0   \n",
              "15  1.594512e+09   1   0   0 -0.420543  0.180000   1   0 -0.408733   1   0   \n",
              "16  1.594512e+09   0   0   1 -1.044919  0.045488   1   0 -1.056164   1   0   \n",
              "17  1.594512e+09   0   0   1 -1.073153  0.045488   1   0 -1.085539   1   0   \n",
              "18  1.594512e+09   0   1   0  0.800335  1.787613   0   1  0.808398   1   0   \n",
              "19  1.594512e+09   0   0   1 -1.080473  0.045488   1   0 -1.093158   1   0   \n",
              "20  1.594512e+09   1   0   0 -0.398158  0.180000   1   0 -0.383563   1   0   \n",
              "21  1.594512e+09   0   1   0  0.649530  1.787613   0   1  0.659046   1   0   \n",
              "22  1.594512e+09   0   0   1 -1.088328 -0.007452   1   0 -1.101337   1   0   \n",
              "23  1.594512e+09   1   0   0 -0.464453  0.281223   1   0 -0.458335   1   0   \n",
              "24  1.594512e+09   0   0   1 -1.070578  0.045488   1   0 -1.082858   1   0   \n",
              "25  1.594512e+09   1   0   0 -0.464453  0.281223   1   0 -0.458335   1   0   \n",
              "26  1.594512e+09   0   1   0  0.618497  1.787613   0   1  0.628255   1   0   \n",
              "27  1.594512e+09   0   0   1 -1.134007  0.045488   1   0 -1.148938   1   0   \n",
              "28  1.594512e+09   0   1   0  0.501293  1.832333   0   1  0.511793   1   0   \n",
              "29  1.594512e+09   0   0   1 -1.106191  0.045488   1   0 -1.119944   1   0   \n",
              "30  1.594512e+09   1   0   0 -0.420543  0.230612   1   0 -0.408733   1   0   \n",
              "31  1.594512e+09   0   0   1 -1.073153  0.045488   1   0 -1.085539   1   0   \n",
              "32  1.594512e+09   0   1   0  0.649530  1.865871   0   1  0.659046   1   0   \n",
              "33  1.594512e+09   1   0   0 -0.464453  0.281223   1   0 -0.458335   1   0   \n",
              "34  1.594512e+09   0   0   1 -1.156547  0.045488   1   0 -1.172452   1   0   \n",
              "35  1.594512e+09   0   0   1 -1.047502  0.045488   1   0 -1.058851   1   0   \n",
              "36  1.594512e+09   0   1   0  0.649530  1.832333   0   1  0.659046   1   0   \n",
              "37  1.594512e+09   1   0   0 -0.442640  0.281223   1   0 -0.433656   1   0   \n",
              "38  1.594512e+09   0   0   1 -1.055119  0.045488   1   0 -1.066773   1   0   \n",
              "39  1.594512e+09   0   1   0  0.649530  1.821152   0   1  0.659046   1   0   \n",
              "40  1.594512e+09   0   0   1 -1.044919  0.045488   1   0 -1.056164   1   0   \n",
              "\n",
              "       smoke      temp       mean     gmean     hmean          var  kurtosis  \\\n",
              "0  -1.091262  0.871612  14.746604  0.245731  0.013105   507.244728 -0.725326   \n",
              "1  -0.460394  0.524164  19.144246  0.195924  0.008025  1082.894866 -0.108093   \n",
              "2  -1.054139  0.664101  14.706625  0.245914  0.013151   505.036607 -0.721394   \n",
              "3   0.694636  0.480892  20.766012  0.260278  0.011814  1117.776178 -0.394623   \n",
              "4  -1.070130  0.664101  14.706616  0.245700  0.013131   505.036943 -0.721394   \n",
              "5   0.657373  0.480892  20.985998  0.260664  0.011786  1148.837513 -0.377846   \n",
              "6  -1.054116  0.664101  14.706625  0.245914  0.013151   505.036606 -0.721394   \n",
              "7  -0.387060  0.524164  19.144362  0.199271  0.008270  1082.889338 -0.108088   \n",
              "8   0.516041  0.480892  20.985949  0.259311  0.011678  1148.840107 -0.377849   \n",
              "9  -1.064782  0.664101  14.706619  0.245771  0.013138   505.036831 -0.721394   \n",
              "10 -1.083363  0.664101  14.706608  0.245523  0.013115   505.037222 -0.721395   \n",
              "11  0.632689  0.480892  21.005989  0.260495  0.011767  1151.685624 -0.376351   \n",
              "12 -1.062213  0.664101  14.706620  0.245806  0.013141   505.036777 -0.721394   \n",
              "13  0.844630  0.480892  21.006063  0.262518  0.011928  1151.681729 -0.376348   \n",
              "14 -1.075306  0.664101  14.706613  0.245631  0.013125   505.037052 -0.721394   \n",
              "15 -0.411760  0.524164  19.104323  0.198043  0.008188  1077.213719 -0.109972   \n",
              "16 -1.054193  0.664101  14.706625  0.245913  0.013151   505.036608 -0.721394   \n",
              "17 -1.083363  0.664101  14.706608  0.245523  0.013115   505.037222 -0.721395   \n",
              "18  0.806990  0.480892  20.986051  0.262092  0.011899  1148.834767 -0.377844   \n",
              "19 -1.090928  0.664101  14.706604  0.245422  0.013105   505.037381 -0.721395   \n",
              "20 -0.387060  0.524164  19.104362  0.199166  0.008270  1077.211860 -0.109970   \n",
              "21  0.657373  0.480892  20.985998  0.260664  0.011786  1148.837513 -0.377846   \n",
              "22 -1.099049  0.664101  14.686599  0.245217  0.013095   503.229882 -0.724545   \n",
              "23 -0.460394  0.524164  19.144246  0.195924  0.008025  1082.894866 -0.108093   \n",
              "24 -1.080702  0.664101  14.706610  0.245559  0.013118   505.037166 -0.721395   \n",
              "25 -0.460394  0.679494  19.164246  0.196122  0.008025  1082.924653 -0.111719   \n",
              "26  0.626538  0.480892  20.985987  0.260369  0.011762  1148.838079 -0.377847   \n",
              "27 -1.146305  0.664101  14.706572  0.244682  0.013036   505.038546 -0.721397   \n",
              "28  0.509938  0.480892  21.065947  0.259518  0.011674  1160.255073 -0.371894   \n",
              "29 -1.117523  0.664101  14.706589  0.245067  0.013072   505.037940 -0.721396   \n",
              "30 -0.411760  0.524164  19.124323  0.198095  0.008188  1080.050460 -0.109029   \n",
              "31 -1.083363  0.664101  14.706608  0.245523  0.013115   505.037222 -0.721395   \n",
              "32  0.657373  0.480892  21.125998  0.261131  0.011786  1168.855327 -0.367476   \n",
              "33 -0.460394  0.679494  19.164246  0.196122  0.008025  1082.924653 -0.111719   \n",
              "34 -1.169644  0.664101  14.706559  0.244369  0.013007   505.039037 -0.721398   \n",
              "35 -1.056861  0.871612  14.726623  0.246094  0.013148   505.433333 -0.728476   \n",
              "36  0.657373  0.480892  21.065998  0.260931  0.011786  1160.252358 -0.371892   \n",
              "37 -0.436203  0.679494  19.164284  0.197231  0.008106  1082.922828 -0.111717   \n",
              "38 -1.064728  0.871612  14.726619  0.245989  0.013138   505.433499 -0.728476   \n",
              "39  0.657373  0.480892  21.045997  0.260864  0.011786  1157.392483 -0.373373   \n",
              "40 -1.054193  0.664101  14.706625  0.245913  0.013151   505.036608 -0.721394   \n",
              "\n",
              "        skew  \n",
              "0   0.943233  \n",
              "1   1.276663  \n",
              "2   0.945249  \n",
              "3   1.117057  \n",
              "4   0.945249  \n",
              "5   1.126135  \n",
              "6   0.945249  \n",
              "7   1.276666  \n",
              "8   1.126134  \n",
              "9   0.945249  \n",
              "10  0.945248  \n",
              "11  1.126946  \n",
              "12  0.945249  \n",
              "13  1.126948  \n",
              "14  0.945249  \n",
              "15  1.275580  \n",
              "16  0.945249  \n",
              "17  0.945248  \n",
              "18  1.126136  \n",
              "19  0.945248  \n",
              "20  1.275581  \n",
              "21  1.126135  \n",
              "22  0.943633  \n",
              "23  1.276663  \n",
              "24  0.945249  \n",
              "25  1.274573  \n",
              "26  1.126135  \n",
              "27  0.945247  \n",
              "28  1.129363  \n",
              "29  0.945248  \n",
              "30  1.276123  \n",
              "31  0.945248  \n",
              "32  1.131761  \n",
              "33  1.274573  \n",
              "34  0.945247  \n",
              "35  0.941618  \n",
              "36  1.129364  \n",
              "37  1.274574  \n",
              "38  0.941618  \n",
              "39  1.128560  \n",
              "40  0.945249  "
            ],
            "text/html": [
              "\n",
              "  <div id=\"df-93b1e24c-8de4-40c9-9476-747280de8a54\">\n",
              "    <div class=\"colab-df-container\">\n",
              "      <div>\n",
              "<style scoped>\n",
              "    .dataframe tbody tr th:only-of-type {\n",
              "        vertical-align: middle;\n",
              "    }\n",
              "\n",
              "    .dataframe tbody tr th {\n",
              "        vertical-align: top;\n",
              "    }\n",
              "\n",
              "    .dataframe thead th {\n",
              "        text-align: right;\n",
              "    }\n",
              "</style>\n",
              "<table border=\"1\" class=\"dataframe\">\n",
              "  <thead>\n",
              "    <tr style=\"text-align: right;\">\n",
              "      <th></th>\n",
              "      <th>ts</th>\n",
              "      <th>D0</th>\n",
              "      <th>D1</th>\n",
              "      <th>D2</th>\n",
              "      <th>co</th>\n",
              "      <th>humidity</th>\n",
              "      <th>L0</th>\n",
              "      <th>L1</th>\n",
              "      <th>lpg</th>\n",
              "      <th>M0</th>\n",
              "      <th>M1</th>\n",
              "      <th>smoke</th>\n",
              "      <th>temp</th>\n",
              "      <th>mean</th>\n",
              "      <th>gmean</th>\n",
              "      <th>hmean</th>\n",
              "      <th>var</th>\n",
              "      <th>kurtosis</th>\n",
              "      <th>skew</th>\n",
              "    </tr>\n",
              "  </thead>\n",
              "  <tbody>\n",
              "    <tr>\n",
              "      <th>0</th>\n",
              "      <td>1.594512e+09</td>\n",
              "      <td>0</td>\n",
              "      <td>0</td>\n",
              "      <td>1</td>\n",
              "      <td>-1.080796</td>\n",
              "      <td>0.098428</td>\n",
              "      <td>1</td>\n",
              "      <td>0</td>\n",
              "      <td>-1.093494</td>\n",
              "      <td>1</td>\n",
              "      <td>0</td>\n",
              "      <td>-1.091262</td>\n",
              "      <td>0.871612</td>\n",
              "      <td>14.746604</td>\n",
              "      <td>0.245731</td>\n",
              "      <td>0.013105</td>\n",
              "      <td>507.244728</td>\n",
              "      <td>-0.725326</td>\n",
              "      <td>0.943233</td>\n",
              "    </tr>\n",
              "    <tr>\n",
              "      <th>1</th>\n",
              "      <td>1.594512e+09</td>\n",
              "      <td>1</td>\n",
              "      <td>0</td>\n",
              "      <td>0</td>\n",
              "      <td>-0.464453</td>\n",
              "      <td>0.281223</td>\n",
              "      <td>1</td>\n",
              "      <td>0</td>\n",
              "      <td>-0.458335</td>\n",
              "      <td>1</td>\n",
              "      <td>0</td>\n",
              "      <td>-0.460394</td>\n",
              "      <td>0.524164</td>\n",
              "      <td>19.144246</td>\n",
              "      <td>0.195924</td>\n",
              "      <td>0.008025</td>\n",
              "      <td>1082.894866</td>\n",
              "      <td>-0.108093</td>\n",
              "      <td>1.276663</td>\n",
              "    </tr>\n",
              "    <tr>\n",
              "      <th>2</th>\n",
              "      <td>1.594512e+09</td>\n",
              "      <td>0</td>\n",
              "      <td>0</td>\n",
              "      <td>1</td>\n",
              "      <td>-1.044867</td>\n",
              "      <td>0.045488</td>\n",
              "      <td>1</td>\n",
              "      <td>0</td>\n",
              "      <td>-1.056110</td>\n",
              "      <td>1</td>\n",
              "      <td>0</td>\n",
              "      <td>-1.054139</td>\n",
              "      <td>0.664101</td>\n",
              "      <td>14.706625</td>\n",
              "      <td>0.245914</td>\n",
              "      <td>0.013151</td>\n",
              "      <td>505.036607</td>\n",
              "      <td>-0.721394</td>\n",
              "      <td>0.945249</td>\n",
              "    </tr>\n",
              "    <tr>\n",
              "      <th>3</th>\n",
              "      <td>1.594512e+09</td>\n",
              "      <td>0</td>\n",
              "      <td>1</td>\n",
              "      <td>0</td>\n",
              "      <td>0.687054</td>\n",
              "      <td>1.664636</td>\n",
              "      <td>0</td>\n",
              "      <td>1</td>\n",
              "      <td>0.696251</td>\n",
              "      <td>1</td>\n",
              "      <td>0</td>\n",
              "      <td>0.694636</td>\n",
              "      <td>0.480892</td>\n",
              "      <td>20.766012</td>\n",
              "      <td>0.260278</td>\n",
              "      <td>0.011814</td>\n",
              "      <td>1117.776178</td>\n",
              "      <td>-0.394623</td>\n",
              "      <td>1.117057</td>\n",
              "    </tr>\n",
              "    <tr>\n",
              "      <th>4</th>\n",
              "      <td>1.594512e+09</td>\n",
              "      <td>0</td>\n",
              "      <td>0</td>\n",
              "      <td>1</td>\n",
              "      <td>-1.060347</td>\n",
              "      <td>0.045488</td>\n",
              "      <td>1</td>\n",
              "      <td>0</td>\n",
              "      <td>-1.072212</td>\n",
              "      <td>1</td>\n",
              "      <td>0</td>\n",
              "      <td>-1.070130</td>\n",
              "      <td>0.664101</td>\n",
              "      <td>14.706616</td>\n",
              "      <td>0.245700</td>\n",
              "      <td>0.013131</td>\n",
              "      <td>505.036943</td>\n",
              "      <td>-0.721394</td>\n",
              "      <td>0.945249</td>\n",
              "    </tr>\n",
              "    <tr>\n",
              "      <th>5</th>\n",
              "      <td>1.594512e+09</td>\n",
              "      <td>0</td>\n",
              "      <td>1</td>\n",
              "      <td>0</td>\n",
              "      <td>0.649530</td>\n",
              "      <td>1.787613</td>\n",
              "      <td>0</td>\n",
              "      <td>1</td>\n",
              "      <td>0.659046</td>\n",
              "      <td>1</td>\n",
              "      <td>0</td>\n",
              "      <td>0.657373</td>\n",
              "      <td>0.480892</td>\n",
              "      <td>20.985998</td>\n",
              "      <td>0.260664</td>\n",
              "      <td>0.011786</td>\n",
              "      <td>1148.837513</td>\n",
              "      <td>-0.377846</td>\n",
              "      <td>1.126135</td>\n",
              "    </tr>\n",
              "    <tr>\n",
              "      <th>6</th>\n",
              "      <td>1.594512e+09</td>\n",
              "      <td>0</td>\n",
              "      <td>0</td>\n",
              "      <td>1</td>\n",
              "      <td>-1.044844</td>\n",
              "      <td>0.045488</td>\n",
              "      <td>1</td>\n",
              "      <td>0</td>\n",
              "      <td>-1.056086</td>\n",
              "      <td>1</td>\n",
              "      <td>0</td>\n",
              "      <td>-1.054116</td>\n",
              "      <td>0.664101</td>\n",
              "      <td>14.706625</td>\n",
              "      <td>0.245914</td>\n",
              "      <td>0.013151</td>\n",
              "      <td>505.036606</td>\n",
              "      <td>-0.721394</td>\n",
              "      <td>0.945249</td>\n",
              "    </tr>\n",
              "    <tr>\n",
              "      <th>7</th>\n",
              "      <td>1.594512e+09</td>\n",
              "      <td>1</td>\n",
              "      <td>0</td>\n",
              "      <td>0</td>\n",
              "      <td>-0.398158</td>\n",
              "      <td>0.281223</td>\n",
              "      <td>1</td>\n",
              "      <td>0</td>\n",
              "      <td>-0.383563</td>\n",
              "      <td>1</td>\n",
              "      <td>0</td>\n",
              "      <td>-0.387060</td>\n",
              "      <td>0.524164</td>\n",
              "      <td>19.144362</td>\n",
              "      <td>0.199271</td>\n",
              "      <td>0.008270</td>\n",
              "      <td>1082.889338</td>\n",
              "      <td>-0.108088</td>\n",
              "      <td>1.276666</td>\n",
              "    </tr>\n",
              "    <tr>\n",
              "      <th>8</th>\n",
              "      <td>1.594512e+09</td>\n",
              "      <td>0</td>\n",
              "      <td>1</td>\n",
              "      <td>0</td>\n",
              "      <td>0.507422</td>\n",
              "      <td>1.787613</td>\n",
              "      <td>0</td>\n",
              "      <td>1</td>\n",
              "      <td>0.517890</td>\n",
              "      <td>1</td>\n",
              "      <td>0</td>\n",
              "      <td>0.516041</td>\n",
              "      <td>0.480892</td>\n",
              "      <td>20.985949</td>\n",
              "      <td>0.259311</td>\n",
              "      <td>0.011678</td>\n",
              "      <td>1148.840107</td>\n",
              "      <td>-0.377849</td>\n",
              "      <td>1.126134</td>\n",
              "    </tr>\n",
              "    <tr>\n",
              "      <th>9</th>\n",
              "      <td>1.594512e+09</td>\n",
              "      <td>0</td>\n",
              "      <td>0</td>\n",
              "      <td>1</td>\n",
              "      <td>-1.055170</td>\n",
              "      <td>0.045488</td>\n",
              "      <td>1</td>\n",
              "      <td>0</td>\n",
              "      <td>-1.066827</td>\n",
              "      <td>1</td>\n",
              "      <td>0</td>\n",
              "      <td>-1.064782</td>\n",
              "      <td>0.664101</td>\n",
              "      <td>14.706619</td>\n",
              "      <td>0.245771</td>\n",
              "      <td>0.013138</td>\n",
              "      <td>505.036831</td>\n",
              "      <td>-0.721394</td>\n",
              "      <td>0.945249</td>\n",
              "    </tr>\n",
              "    <tr>\n",
              "      <th>10</th>\n",
              "      <td>1.594512e+09</td>\n",
              "      <td>0</td>\n",
              "      <td>0</td>\n",
              "      <td>1</td>\n",
              "      <td>-1.073153</td>\n",
              "      <td>0.045488</td>\n",
              "      <td>1</td>\n",
              "      <td>0</td>\n",
              "      <td>-1.085539</td>\n",
              "      <td>1</td>\n",
              "      <td>0</td>\n",
              "      <td>-1.083363</td>\n",
              "      <td>0.664101</td>\n",
              "      <td>14.706608</td>\n",
              "      <td>0.245523</td>\n",
              "      <td>0.013115</td>\n",
              "      <td>505.037222</td>\n",
              "      <td>-0.721395</td>\n",
              "      <td>0.945248</td>\n",
              "    </tr>\n",
              "    <tr>\n",
              "      <th>11</th>\n",
              "      <td>1.594512e+09</td>\n",
              "      <td>0</td>\n",
              "      <td>1</td>\n",
              "      <td>0</td>\n",
              "      <td>0.624687</td>\n",
              "      <td>1.798793</td>\n",
              "      <td>0</td>\n",
              "      <td>1</td>\n",
              "      <td>0.634398</td>\n",
              "      <td>1</td>\n",
              "      <td>0</td>\n",
              "      <td>0.632689</td>\n",
              "      <td>0.480892</td>\n",
              "      <td>21.005989</td>\n",
              "      <td>0.260495</td>\n",
              "      <td>0.011767</td>\n",
              "      <td>1151.685624</td>\n",
              "      <td>-0.376351</td>\n",
              "      <td>1.126946</td>\n",
              "    </tr>\n",
              "    <tr>\n",
              "      <th>12</th>\n",
              "      <td>1.594512e+09</td>\n",
              "      <td>0</td>\n",
              "      <td>0</td>\n",
              "      <td>1</td>\n",
              "      <td>-1.052684</td>\n",
              "      <td>0.045488</td>\n",
              "      <td>1</td>\n",
              "      <td>0</td>\n",
              "      <td>-1.064240</td>\n",
              "      <td>1</td>\n",
              "      <td>0</td>\n",
              "      <td>-1.062213</td>\n",
              "      <td>0.664101</td>\n",
              "      <td>14.706620</td>\n",
              "      <td>0.245806</td>\n",
              "      <td>0.013141</td>\n",
              "      <td>505.036777</td>\n",
              "      <td>-0.721394</td>\n",
              "      <td>0.945249</td>\n",
              "    </tr>\n",
              "    <tr>\n",
              "      <th>13</th>\n",
              "      <td>1.594512e+09</td>\n",
              "      <td>0</td>\n",
              "      <td>1</td>\n",
              "      <td>0</td>\n",
              "      <td>0.838333</td>\n",
              "      <td>1.798793</td>\n",
              "      <td>0</td>\n",
              "      <td>1</td>\n",
              "      <td>0.845959</td>\n",
              "      <td>1</td>\n",
              "      <td>0</td>\n",
              "      <td>0.844630</td>\n",
              "      <td>0.480892</td>\n",
              "      <td>21.006063</td>\n",
              "      <td>0.262518</td>\n",
              "      <td>0.011928</td>\n",
              "      <td>1151.681729</td>\n",
              "      <td>-0.376348</td>\n",
              "      <td>1.126948</td>\n",
              "    </tr>\n",
              "    <tr>\n",
              "      <th>14</th>\n",
              "      <td>1.594512e+09</td>\n",
              "      <td>0</td>\n",
              "      <td>0</td>\n",
              "      <td>1</td>\n",
              "      <td>-1.065357</td>\n",
              "      <td>0.045488</td>\n",
              "      <td>1</td>\n",
              "      <td>0</td>\n",
              "      <td>-1.077425</td>\n",
              "      <td>1</td>\n",
              "      <td>0</td>\n",
              "      <td>-1.075306</td>\n",
              "      <td>0.664101</td>\n",
              "      <td>14.706613</td>\n",
              "      <td>0.245631</td>\n",
              "      <td>0.013125</td>\n",
              "      <td>505.037052</td>\n",
              "      <td>-0.721394</td>\n",
              "      <td>0.945249</td>\n",
              "    </tr>\n",
              "    <tr>\n",
              "      <th>15</th>\n",
              "      <td>1.594512e+09</td>\n",
              "      <td>1</td>\n",
              "      <td>0</td>\n",
              "      <td>0</td>\n",
              "      <td>-0.420543</td>\n",
              "      <td>0.180000</td>\n",
              "      <td>1</td>\n",
              "      <td>0</td>\n",
              "      <td>-0.408733</td>\n",
              "      <td>1</td>\n",
              "      <td>0</td>\n",
              "      <td>-0.411760</td>\n",
              "      <td>0.524164</td>\n",
              "      <td>19.104323</td>\n",
              "      <td>0.198043</td>\n",
              "      <td>0.008188</td>\n",
              "      <td>1077.213719</td>\n",
              "      <td>-0.109972</td>\n",
              "      <td>1.275580</td>\n",
              "    </tr>\n",
              "    <tr>\n",
              "      <th>16</th>\n",
              "      <td>1.594512e+09</td>\n",
              "      <td>0</td>\n",
              "      <td>0</td>\n",
              "      <td>1</td>\n",
              "      <td>-1.044919</td>\n",
              "      <td>0.045488</td>\n",
              "      <td>1</td>\n",
              "      <td>0</td>\n",
              "      <td>-1.056164</td>\n",
              "      <td>1</td>\n",
              "      <td>0</td>\n",
              "      <td>-1.054193</td>\n",
              "      <td>0.664101</td>\n",
              "      <td>14.706625</td>\n",
              "      <td>0.245913</td>\n",
              "      <td>0.013151</td>\n",
              "      <td>505.036608</td>\n",
              "      <td>-0.721394</td>\n",
              "      <td>0.945249</td>\n",
              "    </tr>\n",
              "    <tr>\n",
              "      <th>17</th>\n",
              "      <td>1.594512e+09</td>\n",
              "      <td>0</td>\n",
              "      <td>0</td>\n",
              "      <td>1</td>\n",
              "      <td>-1.073153</td>\n",
              "      <td>0.045488</td>\n",
              "      <td>1</td>\n",
              "      <td>0</td>\n",
              "      <td>-1.085539</td>\n",
              "      <td>1</td>\n",
              "      <td>0</td>\n",
              "      <td>-1.083363</td>\n",
              "      <td>0.664101</td>\n",
              "      <td>14.706608</td>\n",
              "      <td>0.245523</td>\n",
              "      <td>0.013115</td>\n",
              "      <td>505.037222</td>\n",
              "      <td>-0.721395</td>\n",
              "      <td>0.945248</td>\n",
              "    </tr>\n",
              "    <tr>\n",
              "      <th>18</th>\n",
              "      <td>1.594512e+09</td>\n",
              "      <td>0</td>\n",
              "      <td>1</td>\n",
              "      <td>0</td>\n",
              "      <td>0.800335</td>\n",
              "      <td>1.787613</td>\n",
              "      <td>0</td>\n",
              "      <td>1</td>\n",
              "      <td>0.808398</td>\n",
              "      <td>1</td>\n",
              "      <td>0</td>\n",
              "      <td>0.806990</td>\n",
              "      <td>0.480892</td>\n",
              "      <td>20.986051</td>\n",
              "      <td>0.262092</td>\n",
              "      <td>0.011899</td>\n",
              "      <td>1148.834767</td>\n",
              "      <td>-0.377844</td>\n",
              "      <td>1.126136</td>\n",
              "    </tr>\n",
              "    <tr>\n",
              "      <th>19</th>\n",
              "      <td>1.594512e+09</td>\n",
              "      <td>0</td>\n",
              "      <td>0</td>\n",
              "      <td>1</td>\n",
              "      <td>-1.080473</td>\n",
              "      <td>0.045488</td>\n",
              "      <td>1</td>\n",
              "      <td>0</td>\n",
              "      <td>-1.093158</td>\n",
              "      <td>1</td>\n",
              "      <td>0</td>\n",
              "      <td>-1.090928</td>\n",
              "      <td>0.664101</td>\n",
              "      <td>14.706604</td>\n",
              "      <td>0.245422</td>\n",
              "      <td>0.013105</td>\n",
              "      <td>505.037381</td>\n",
              "      <td>-0.721395</td>\n",
              "      <td>0.945248</td>\n",
              "    </tr>\n",
              "    <tr>\n",
              "      <th>20</th>\n",
              "      <td>1.594512e+09</td>\n",
              "      <td>1</td>\n",
              "      <td>0</td>\n",
              "      <td>0</td>\n",
              "      <td>-0.398158</td>\n",
              "      <td>0.180000</td>\n",
              "      <td>1</td>\n",
              "      <td>0</td>\n",
              "      <td>-0.383563</td>\n",
              "      <td>1</td>\n",
              "      <td>0</td>\n",
              "      <td>-0.387060</td>\n",
              "      <td>0.524164</td>\n",
              "      <td>19.104362</td>\n",
              "      <td>0.199166</td>\n",
              "      <td>0.008270</td>\n",
              "      <td>1077.211860</td>\n",
              "      <td>-0.109970</td>\n",
              "      <td>1.275581</td>\n",
              "    </tr>\n",
              "    <tr>\n",
              "      <th>21</th>\n",
              "      <td>1.594512e+09</td>\n",
              "      <td>0</td>\n",
              "      <td>1</td>\n",
              "      <td>0</td>\n",
              "      <td>0.649530</td>\n",
              "      <td>1.787613</td>\n",
              "      <td>0</td>\n",
              "      <td>1</td>\n",
              "      <td>0.659046</td>\n",
              "      <td>1</td>\n",
              "      <td>0</td>\n",
              "      <td>0.657373</td>\n",
              "      <td>0.480892</td>\n",
              "      <td>20.985998</td>\n",
              "      <td>0.260664</td>\n",
              "      <td>0.011786</td>\n",
              "      <td>1148.837513</td>\n",
              "      <td>-0.377846</td>\n",
              "      <td>1.126135</td>\n",
              "    </tr>\n",
              "    <tr>\n",
              "      <th>22</th>\n",
              "      <td>1.594512e+09</td>\n",
              "      <td>0</td>\n",
              "      <td>0</td>\n",
              "      <td>1</td>\n",
              "      <td>-1.088328</td>\n",
              "      <td>-0.007452</td>\n",
              "      <td>1</td>\n",
              "      <td>0</td>\n",
              "      <td>-1.101337</td>\n",
              "      <td>1</td>\n",
              "      <td>0</td>\n",
              "      <td>-1.099049</td>\n",
              "      <td>0.664101</td>\n",
              "      <td>14.686599</td>\n",
              "      <td>0.245217</td>\n",
              "      <td>0.013095</td>\n",
              "      <td>503.229882</td>\n",
              "      <td>-0.724545</td>\n",
              "      <td>0.943633</td>\n",
              "    </tr>\n",
              "    <tr>\n",
              "      <th>23</th>\n",
              "      <td>1.594512e+09</td>\n",
              "      <td>1</td>\n",
              "      <td>0</td>\n",
              "      <td>0</td>\n",
              "      <td>-0.464453</td>\n",
              "      <td>0.281223</td>\n",
              "      <td>1</td>\n",
              "      <td>0</td>\n",
              "      <td>-0.458335</td>\n",
              "      <td>1</td>\n",
              "      <td>0</td>\n",
              "      <td>-0.460394</td>\n",
              "      <td>0.524164</td>\n",
              "      <td>19.144246</td>\n",
              "      <td>0.195924</td>\n",
              "      <td>0.008025</td>\n",
              "      <td>1082.894866</td>\n",
              "      <td>-0.108093</td>\n",
              "      <td>1.276663</td>\n",
              "    </tr>\n",
              "    <tr>\n",
              "      <th>24</th>\n",
              "      <td>1.594512e+09</td>\n",
              "      <td>0</td>\n",
              "      <td>0</td>\n",
              "      <td>1</td>\n",
              "      <td>-1.070578</td>\n",
              "      <td>0.045488</td>\n",
              "      <td>1</td>\n",
              "      <td>0</td>\n",
              "      <td>-1.082858</td>\n",
              "      <td>1</td>\n",
              "      <td>0</td>\n",
              "      <td>-1.080702</td>\n",
              "      <td>0.664101</td>\n",
              "      <td>14.706610</td>\n",
              "      <td>0.245559</td>\n",
              "      <td>0.013118</td>\n",
              "      <td>505.037166</td>\n",
              "      <td>-0.721395</td>\n",
              "      <td>0.945249</td>\n",
              "    </tr>\n",
              "    <tr>\n",
              "      <th>25</th>\n",
              "      <td>1.594512e+09</td>\n",
              "      <td>1</td>\n",
              "      <td>0</td>\n",
              "      <td>0</td>\n",
              "      <td>-0.464453</td>\n",
              "      <td>0.281223</td>\n",
              "      <td>1</td>\n",
              "      <td>0</td>\n",
              "      <td>-0.458335</td>\n",
              "      <td>1</td>\n",
              "      <td>0</td>\n",
              "      <td>-0.460394</td>\n",
              "      <td>0.679494</td>\n",
              "      <td>19.164246</td>\n",
              "      <td>0.196122</td>\n",
              "      <td>0.008025</td>\n",
              "      <td>1082.924653</td>\n",
              "      <td>-0.111719</td>\n",
              "      <td>1.274573</td>\n",
              "    </tr>\n",
              "    <tr>\n",
              "      <th>26</th>\n",
              "      <td>1.594512e+09</td>\n",
              "      <td>0</td>\n",
              "      <td>1</td>\n",
              "      <td>0</td>\n",
              "      <td>0.618497</td>\n",
              "      <td>1.787613</td>\n",
              "      <td>0</td>\n",
              "      <td>1</td>\n",
              "      <td>0.628255</td>\n",
              "      <td>1</td>\n",
              "      <td>0</td>\n",
              "      <td>0.626538</td>\n",
              "      <td>0.480892</td>\n",
              "      <td>20.985987</td>\n",
              "      <td>0.260369</td>\n",
              "      <td>0.011762</td>\n",
              "      <td>1148.838079</td>\n",
              "      <td>-0.377847</td>\n",
              "      <td>1.126135</td>\n",
              "    </tr>\n",
              "    <tr>\n",
              "      <th>27</th>\n",
              "      <td>1.594512e+09</td>\n",
              "      <td>0</td>\n",
              "      <td>0</td>\n",
              "      <td>1</td>\n",
              "      <td>-1.134007</td>\n",
              "      <td>0.045488</td>\n",
              "      <td>1</td>\n",
              "      <td>0</td>\n",
              "      <td>-1.148938</td>\n",
              "      <td>1</td>\n",
              "      <td>0</td>\n",
              "      <td>-1.146305</td>\n",
              "      <td>0.664101</td>\n",
              "      <td>14.706572</td>\n",
              "      <td>0.244682</td>\n",
              "      <td>0.013036</td>\n",
              "      <td>505.038546</td>\n",
              "      <td>-0.721397</td>\n",
              "      <td>0.945247</td>\n",
              "    </tr>\n",
              "    <tr>\n",
              "      <th>28</th>\n",
              "      <td>1.594512e+09</td>\n",
              "      <td>0</td>\n",
              "      <td>1</td>\n",
              "      <td>0</td>\n",
              "      <td>0.501293</td>\n",
              "      <td>1.832333</td>\n",
              "      <td>0</td>\n",
              "      <td>1</td>\n",
              "      <td>0.511793</td>\n",
              "      <td>1</td>\n",
              "      <td>0</td>\n",
              "      <td>0.509938</td>\n",
              "      <td>0.480892</td>\n",
              "      <td>21.065947</td>\n",
              "      <td>0.259518</td>\n",
              "      <td>0.011674</td>\n",
              "      <td>1160.255073</td>\n",
              "      <td>-0.371894</td>\n",
              "      <td>1.129363</td>\n",
              "    </tr>\n",
              "    <tr>\n",
              "      <th>29</th>\n",
              "      <td>1.594512e+09</td>\n",
              "      <td>0</td>\n",
              "      <td>0</td>\n",
              "      <td>1</td>\n",
              "      <td>-1.106191</td>\n",
              "      <td>0.045488</td>\n",
              "      <td>1</td>\n",
              "      <td>0</td>\n",
              "      <td>-1.119944</td>\n",
              "      <td>1</td>\n",
              "      <td>0</td>\n",
              "      <td>-1.117523</td>\n",
              "      <td>0.664101</td>\n",
              "      <td>14.706589</td>\n",
              "      <td>0.245067</td>\n",
              "      <td>0.013072</td>\n",
              "      <td>505.037940</td>\n",
              "      <td>-0.721396</td>\n",
              "      <td>0.945248</td>\n",
              "    </tr>\n",
              "    <tr>\n",
              "      <th>30</th>\n",
              "      <td>1.594512e+09</td>\n",
              "      <td>1</td>\n",
              "      <td>0</td>\n",
              "      <td>0</td>\n",
              "      <td>-0.420543</td>\n",
              "      <td>0.230612</td>\n",
              "      <td>1</td>\n",
              "      <td>0</td>\n",
              "      <td>-0.408733</td>\n",
              "      <td>1</td>\n",
              "      <td>0</td>\n",
              "      <td>-0.411760</td>\n",
              "      <td>0.524164</td>\n",
              "      <td>19.124323</td>\n",
              "      <td>0.198095</td>\n",
              "      <td>0.008188</td>\n",
              "      <td>1080.050460</td>\n",
              "      <td>-0.109029</td>\n",
              "      <td>1.276123</td>\n",
              "    </tr>\n",
              "    <tr>\n",
              "      <th>31</th>\n",
              "      <td>1.594512e+09</td>\n",
              "      <td>0</td>\n",
              "      <td>0</td>\n",
              "      <td>1</td>\n",
              "      <td>-1.073153</td>\n",
              "      <td>0.045488</td>\n",
              "      <td>1</td>\n",
              "      <td>0</td>\n",
              "      <td>-1.085539</td>\n",
              "      <td>1</td>\n",
              "      <td>0</td>\n",
              "      <td>-1.083363</td>\n",
              "      <td>0.664101</td>\n",
              "      <td>14.706608</td>\n",
              "      <td>0.245523</td>\n",
              "      <td>0.013115</td>\n",
              "      <td>505.037222</td>\n",
              "      <td>-0.721395</td>\n",
              "      <td>0.945248</td>\n",
              "    </tr>\n",
              "    <tr>\n",
              "      <th>32</th>\n",
              "      <td>1.594512e+09</td>\n",
              "      <td>0</td>\n",
              "      <td>1</td>\n",
              "      <td>0</td>\n",
              "      <td>0.649530</td>\n",
              "      <td>1.865871</td>\n",
              "      <td>0</td>\n",
              "      <td>1</td>\n",
              "      <td>0.659046</td>\n",
              "      <td>1</td>\n",
              "      <td>0</td>\n",
              "      <td>0.657373</td>\n",
              "      <td>0.480892</td>\n",
              "      <td>21.125998</td>\n",
              "      <td>0.261131</td>\n",
              "      <td>0.011786</td>\n",
              "      <td>1168.855327</td>\n",
              "      <td>-0.367476</td>\n",
              "      <td>1.131761</td>\n",
              "    </tr>\n",
              "    <tr>\n",
              "      <th>33</th>\n",
              "      <td>1.594512e+09</td>\n",
              "      <td>1</td>\n",
              "      <td>0</td>\n",
              "      <td>0</td>\n",
              "      <td>-0.464453</td>\n",
              "      <td>0.281223</td>\n",
              "      <td>1</td>\n",
              "      <td>0</td>\n",
              "      <td>-0.458335</td>\n",
              "      <td>1</td>\n",
              "      <td>0</td>\n",
              "      <td>-0.460394</td>\n",
              "      <td>0.679494</td>\n",
              "      <td>19.164246</td>\n",
              "      <td>0.196122</td>\n",
              "      <td>0.008025</td>\n",
              "      <td>1082.924653</td>\n",
              "      <td>-0.111719</td>\n",
              "      <td>1.274573</td>\n",
              "    </tr>\n",
              "    <tr>\n",
              "      <th>34</th>\n",
              "      <td>1.594512e+09</td>\n",
              "      <td>0</td>\n",
              "      <td>0</td>\n",
              "      <td>1</td>\n",
              "      <td>-1.156547</td>\n",
              "      <td>0.045488</td>\n",
              "      <td>1</td>\n",
              "      <td>0</td>\n",
              "      <td>-1.172452</td>\n",
              "      <td>1</td>\n",
              "      <td>0</td>\n",
              "      <td>-1.169644</td>\n",
              "      <td>0.664101</td>\n",
              "      <td>14.706559</td>\n",
              "      <td>0.244369</td>\n",
              "      <td>0.013007</td>\n",
              "      <td>505.039037</td>\n",
              "      <td>-0.721398</td>\n",
              "      <td>0.945247</td>\n",
              "    </tr>\n",
              "    <tr>\n",
              "      <th>35</th>\n",
              "      <td>1.594512e+09</td>\n",
              "      <td>0</td>\n",
              "      <td>0</td>\n",
              "      <td>1</td>\n",
              "      <td>-1.047502</td>\n",
              "      <td>0.045488</td>\n",
              "      <td>1</td>\n",
              "      <td>0</td>\n",
              "      <td>-1.058851</td>\n",
              "      <td>1</td>\n",
              "      <td>0</td>\n",
              "      <td>-1.056861</td>\n",
              "      <td>0.871612</td>\n",
              "      <td>14.726623</td>\n",
              "      <td>0.246094</td>\n",
              "      <td>0.013148</td>\n",
              "      <td>505.433333</td>\n",
              "      <td>-0.728476</td>\n",
              "      <td>0.941618</td>\n",
              "    </tr>\n",
              "    <tr>\n",
              "      <th>36</th>\n",
              "      <td>1.594512e+09</td>\n",
              "      <td>0</td>\n",
              "      <td>1</td>\n",
              "      <td>0</td>\n",
              "      <td>0.649530</td>\n",
              "      <td>1.832333</td>\n",
              "      <td>0</td>\n",
              "      <td>1</td>\n",
              "      <td>0.659046</td>\n",
              "      <td>1</td>\n",
              "      <td>0</td>\n",
              "      <td>0.657373</td>\n",
              "      <td>0.480892</td>\n",
              "      <td>21.065998</td>\n",
              "      <td>0.260931</td>\n",
              "      <td>0.011786</td>\n",
              "      <td>1160.252358</td>\n",
              "      <td>-0.371892</td>\n",
              "      <td>1.129364</td>\n",
              "    </tr>\n",
              "    <tr>\n",
              "      <th>37</th>\n",
              "      <td>1.594512e+09</td>\n",
              "      <td>1</td>\n",
              "      <td>0</td>\n",
              "      <td>0</td>\n",
              "      <td>-0.442640</td>\n",
              "      <td>0.281223</td>\n",
              "      <td>1</td>\n",
              "      <td>0</td>\n",
              "      <td>-0.433656</td>\n",
              "      <td>1</td>\n",
              "      <td>0</td>\n",
              "      <td>-0.436203</td>\n",
              "      <td>0.679494</td>\n",
              "      <td>19.164284</td>\n",
              "      <td>0.197231</td>\n",
              "      <td>0.008106</td>\n",
              "      <td>1082.922828</td>\n",
              "      <td>-0.111717</td>\n",
              "      <td>1.274574</td>\n",
              "    </tr>\n",
              "    <tr>\n",
              "      <th>38</th>\n",
              "      <td>1.594512e+09</td>\n",
              "      <td>0</td>\n",
              "      <td>0</td>\n",
              "      <td>1</td>\n",
              "      <td>-1.055119</td>\n",
              "      <td>0.045488</td>\n",
              "      <td>1</td>\n",
              "      <td>0</td>\n",
              "      <td>-1.066773</td>\n",
              "      <td>1</td>\n",
              "      <td>0</td>\n",
              "      <td>-1.064728</td>\n",
              "      <td>0.871612</td>\n",
              "      <td>14.726619</td>\n",
              "      <td>0.245989</td>\n",
              "      <td>0.013138</td>\n",
              "      <td>505.433499</td>\n",
              "      <td>-0.728476</td>\n",
              "      <td>0.941618</td>\n",
              "    </tr>\n",
              "    <tr>\n",
              "      <th>39</th>\n",
              "      <td>1.594512e+09</td>\n",
              "      <td>0</td>\n",
              "      <td>1</td>\n",
              "      <td>0</td>\n",
              "      <td>0.649530</td>\n",
              "      <td>1.821152</td>\n",
              "      <td>0</td>\n",
              "      <td>1</td>\n",
              "      <td>0.659046</td>\n",
              "      <td>1</td>\n",
              "      <td>0</td>\n",
              "      <td>0.657373</td>\n",
              "      <td>0.480892</td>\n",
              "      <td>21.045997</td>\n",
              "      <td>0.260864</td>\n",
              "      <td>0.011786</td>\n",
              "      <td>1157.392483</td>\n",
              "      <td>-0.373373</td>\n",
              "      <td>1.128560</td>\n",
              "    </tr>\n",
              "    <tr>\n",
              "      <th>40</th>\n",
              "      <td>1.594512e+09</td>\n",
              "      <td>0</td>\n",
              "      <td>0</td>\n",
              "      <td>1</td>\n",
              "      <td>-1.044919</td>\n",
              "      <td>0.045488</td>\n",
              "      <td>1</td>\n",
              "      <td>0</td>\n",
              "      <td>-1.056164</td>\n",
              "      <td>1</td>\n",
              "      <td>0</td>\n",
              "      <td>-1.054193</td>\n",
              "      <td>0.664101</td>\n",
              "      <td>14.706625</td>\n",
              "      <td>0.245913</td>\n",
              "      <td>0.013151</td>\n",
              "      <td>505.036608</td>\n",
              "      <td>-0.721394</td>\n",
              "      <td>0.945249</td>\n",
              "    </tr>\n",
              "  </tbody>\n",
              "</table>\n",
              "</div>\n",
              "      <button class=\"colab-df-convert\" onclick=\"convertToInteractive('df-93b1e24c-8de4-40c9-9476-747280de8a54')\"\n",
              "              title=\"Convert this dataframe to an interactive table.\"\n",
              "              style=\"display:none;\">\n",
              "        \n",
              "  <svg xmlns=\"http://www.w3.org/2000/svg\" height=\"24px\"viewBox=\"0 0 24 24\"\n",
              "       width=\"24px\">\n",
              "    <path d=\"M0 0h24v24H0V0z\" fill=\"none\"/>\n",
              "    <path d=\"M18.56 5.44l.94 2.06.94-2.06 2.06-.94-2.06-.94-.94-2.06-.94 2.06-2.06.94zm-11 1L8.5 8.5l.94-2.06 2.06-.94-2.06-.94L8.5 2.5l-.94 2.06-2.06.94zm10 10l.94 2.06.94-2.06 2.06-.94-2.06-.94-.94-2.06-.94 2.06-2.06.94z\"/><path d=\"M17.41 7.96l-1.37-1.37c-.4-.4-.92-.59-1.43-.59-.52 0-1.04.2-1.43.59L10.3 9.45l-7.72 7.72c-.78.78-.78 2.05 0 2.83L4 21.41c.39.39.9.59 1.41.59.51 0 1.02-.2 1.41-.59l7.78-7.78 2.81-2.81c.8-.78.8-2.07 0-2.86zM5.41 20L4 18.59l7.72-7.72 1.47 1.35L5.41 20z\"/>\n",
              "  </svg>\n",
              "      </button>\n",
              "      \n",
              "  <style>\n",
              "    .colab-df-container {\n",
              "      display:flex;\n",
              "      flex-wrap:wrap;\n",
              "      gap: 12px;\n",
              "    }\n",
              "\n",
              "    .colab-df-convert {\n",
              "      background-color: #E8F0FE;\n",
              "      border: none;\n",
              "      border-radius: 50%;\n",
              "      cursor: pointer;\n",
              "      display: none;\n",
              "      fill: #1967D2;\n",
              "      height: 32px;\n",
              "      padding: 0 0 0 0;\n",
              "      width: 32px;\n",
              "    }\n",
              "\n",
              "    .colab-df-convert:hover {\n",
              "      background-color: #E2EBFA;\n",
              "      box-shadow: 0px 1px 2px rgba(60, 64, 67, 0.3), 0px 1px 3px 1px rgba(60, 64, 67, 0.15);\n",
              "      fill: #174EA6;\n",
              "    }\n",
              "\n",
              "    [theme=dark] .colab-df-convert {\n",
              "      background-color: #3B4455;\n",
              "      fill: #D2E3FC;\n",
              "    }\n",
              "\n",
              "    [theme=dark] .colab-df-convert:hover {\n",
              "      background-color: #434B5C;\n",
              "      box-shadow: 0px 1px 3px 1px rgba(0, 0, 0, 0.15);\n",
              "      filter: drop-shadow(0px 1px 2px rgba(0, 0, 0, 0.3));\n",
              "      fill: #FFFFFF;\n",
              "    }\n",
              "  </style>\n",
              "\n",
              "      <script>\n",
              "        const buttonEl =\n",
              "          document.querySelector('#df-93b1e24c-8de4-40c9-9476-747280de8a54 button.colab-df-convert');\n",
              "        buttonEl.style.display =\n",
              "          google.colab.kernel.accessAllowed ? 'block' : 'none';\n",
              "\n",
              "        async function convertToInteractive(key) {\n",
              "          const element = document.querySelector('#df-93b1e24c-8de4-40c9-9476-747280de8a54');\n",
              "          const dataTable =\n",
              "            await google.colab.kernel.invokeFunction('convertToInteractive',\n",
              "                                                     [key], {});\n",
              "          if (!dataTable) return;\n",
              "\n",
              "          const docLinkHtml = 'Like what you see? Visit the ' +\n",
              "            '<a target=\"_blank\" href=https://colab.research.google.com/notebooks/data_table.ipynb>data table notebook</a>'\n",
              "            + ' to learn more about interactive tables.';\n",
              "          element.innerHTML = '';\n",
              "          dataTable['output_type'] = 'display_data';\n",
              "          await google.colab.output.renderOutput(dataTable, element);\n",
              "          const docLink = document.createElement('div');\n",
              "          docLink.innerHTML = docLinkHtml;\n",
              "          element.appendChild(docLink);\n",
              "        }\n",
              "      </script>\n",
              "    </div>\n",
              "  </div>\n",
              "  "
            ]
          },
          "metadata": {},
          "execution_count": 33
        }
      ]
    },
    {
      "cell_type": "markdown",
      "metadata": {
        "id": "E8hZzOSvymHL"
      },
      "source": [
        "# **2. Feature Learning for _Synthetically Generated Data_**"
      ]
    },
    {
      "cell_type": "markdown",
      "metadata": {
        "id": "5YpfhDVMymHM"
      },
      "source": [
        "## Problem 2.1"
      ]
    },
    {
      "cell_type": "markdown",
      "metadata": {
        "id": "1EQWwLbvymHN"
      },
      "source": [
        "### (a)"
      ]
    },
    {
      "cell_type": "code",
      "source": [
        "### Your code for 2.1(a) goes here ###\n",
        "B = np.random.randn(3, 2)\n",
        "B"
      ],
      "metadata": {
        "id": "2Me2gtgRUxAi",
        "colab": {
          "base_uri": "https://localhost:8080/"
        },
        "outputId": "0e3c6bb1-572d-44a0-95e3-b1e1a3137f44"
      },
      "execution_count": null,
      "outputs": [
        {
          "output_type": "execute_result",
          "data": {
            "text/plain": [
              "array([[ 0.61128953,  0.26630075],\n",
              "       [-1.63633897,  0.20665564],\n",
              "       [-1.35848219,  0.77803926]])"
            ]
          },
          "metadata": {},
          "execution_count": 19
        }
      ]
    },
    {
      "cell_type": "markdown",
      "metadata": {
        "id": "T5HoKdioymHN"
      },
      "source": [
        "### (b)"
      ]
    },
    {
      "cell_type": "code",
      "source": [
        "from numpy import linalg\n",
        "### Your code for 2.1(b) goes here ###\n",
        "linalg.matrix_rank(B)"
      ],
      "metadata": {
        "id": "-NOKmZfRqLNB",
        "colab": {
          "base_uri": "https://localhost:8080/"
        },
        "outputId": "79d94238-ebe3-49eb-b8cd-c01e705c83fd"
      },
      "execution_count": null,
      "outputs": [
        {
          "output_type": "execute_result",
          "data": {
            "text/plain": [
              "2"
            ]
          },
          "metadata": {},
          "execution_count": 20
        }
      ]
    },
    {
      "cell_type": "markdown",
      "metadata": {
        "id": "TGHAoXfMymHO"
      },
      "source": [
        "### (c)\n",
        "\n"
      ]
    },
    {
      "cell_type": "code",
      "execution_count": null,
      "metadata": {
        "id": "ItDMYWoFymHO",
        "colab": {
          "base_uri": "https://localhost:8080/"
        },
        "outputId": "dc90af90-666c-4c7e-aee6-9eafe55cdb3b"
      },
      "outputs": [
        {
          "output_type": "stream",
          "name": "stdout",
          "text": [
            "norm of col 1 = 2.212861037333528\n",
            "norm of col 2 = 0.8479196478626962\n",
            "inner dot product of col 1 and col 2 = -1.2323242901618312\n"
          ]
        }
      ],
      "source": [
        "### Your code for 2.1(c) goes here ###\n",
        "print(f'norm of col 1 = {linalg.norm(B[:, 0])}')\n",
        "print(f'norm of col 2 = {linalg.norm(B[:, 1])}')\n",
        "print(f'inner dot product of col 1 and col 2 = {np.inner(B[:, 0], B[:, 1])}')"
      ]
    },
    {
      "cell_type": "markdown",
      "metadata": {
        "id": "7kNl2WpSymHO"
      },
      "source": [
        "### (d)"
      ]
    },
    {
      "cell_type": "code",
      "execution_count": null,
      "metadata": {
        "id": "AblNbsncymHO",
        "colab": {
          "base_uri": "https://localhost:8080/"
        },
        "outputId": "248e780b-6c08-4fd9-f5a3-8ea7f8850892"
      },
      "outputs": [
        {
          "output_type": "execute_result",
          "data": {
            "text/plain": [
              "array([[-0.22712778, -0.67562885, -0.70138337],\n",
              "       [ 0.71384471,  0.37440266, -0.59181786],\n",
              "       [ 0.66244902, -0.63509708,  0.39725683]])"
            ]
          },
          "metadata": {},
          "execution_count": 22
        }
      ],
      "source": [
        "### Your code for 2.1(d) goes here ###\n",
        "# The column vectors of u are an orthonormal span of column space of B\n",
        "u, e, v = linalg.svd(B)\n",
        "u"
      ]
    },
    {
      "cell_type": "markdown",
      "metadata": {
        "id": "FpQWnOOpymHT"
      },
      "source": [
        "## Problem 2.2"
      ]
    },
    {
      "cell_type": "markdown",
      "source": [
        "### (a)"
      ],
      "metadata": {
        "id": "eo0-9wXTVIKh"
      }
    },
    {
      "cell_type": "code",
      "execution_count": null,
      "metadata": {
        "id": "QmAtpjMiymHU"
      },
      "outputs": [],
      "source": [
        "### Your code for 2.2(a) goes here ###\n",
        "X_rand = np.zeros([3, 200])\n",
        "\n",
        "for ctr in range(199):\n",
        "  v = np.random.randn(2, 1)\n",
        "  X_rand[:, [ctr]] = np.matmul(B, v)"
      ]
    },
    {
      "cell_type": "code",
      "source": [
        "X_rand.shape # 3 features are in the rows"
      ],
      "metadata": {
        "colab": {
          "base_uri": "https://localhost:8080/"
        },
        "id": "0mJoiaXJB8fj",
        "outputId": "1ef9e332-65f3-448e-accc-36c45d245a72"
      },
      "execution_count": null,
      "outputs": [
        {
          "output_type": "execute_result",
          "data": {
            "text/plain": [
              "(3, 200)"
            ]
          },
          "metadata": {},
          "execution_count": 24
        }
      ]
    },
    {
      "cell_type": "markdown",
      "source": [
        "### (b)"
      ],
      "metadata": {
        "id": "6nTycRr4V8GJ"
      }
    },
    {
      "cell_type": "markdown",
      "source": [
        "_[Your answer for 2.2(b) goes here]_\n",
        "\n",
        "Yes, **x$_{i}$** lies in S, which is the subspace of **B**. The vector **x$_{i}$** is obtained by multiplying **B** with a random vector **v**. By definition, a vector lies in a subspace if it is some linear combination of the basis vectors spanning that subspace. Since fixed matrix **B** has 2 linearly independent columns (rank(**B**) = 2), the column space of **B** forms a basis of **S**, and **x_i** therefore becomes a linear combination of the basis vectors of **S**. Hence, **x$_{i}$** lies in **S**. "
      ],
      "metadata": {
        "id": "qs8F-Aw2V731"
      }
    },
    {
      "cell_type": "markdown",
      "source": [
        "### (c)"
      ],
      "metadata": {
        "id": "Pw5kjI4GWLsL"
      }
    },
    {
      "cell_type": "code",
      "source": [
        "### Your code for 2.2(c) goes here ###\n",
        "X = np.transpose(X_rand)\n",
        "X.shape"
      ],
      "metadata": {
        "id": "riHIp_QVWSh4",
        "colab": {
          "base_uri": "https://localhost:8080/"
        },
        "outputId": "6c467275-9821-408d-e6ab-c821068946a9"
      },
      "execution_count": null,
      "outputs": [
        {
          "output_type": "execute_result",
          "data": {
            "text/plain": [
              "(200, 3)"
            ]
          },
          "metadata": {},
          "execution_count": 25
        }
      ]
    },
    {
      "cell_type": "markdown",
      "source": [
        "_[Your answer for 2.2(c) goes here]_\n",
        "\n",
        "Here, *n* is the number of samples = 200, and *p* is the number of features = 3. So the dimension of **X** is (200, 3)."
      ],
      "metadata": {
        "id": "zRXfaZTiWS9K"
      }
    },
    {
      "cell_type": "markdown",
      "source": [
        "### (d)"
      ],
      "metadata": {
        "id": "6ACrqDnpWkJu"
      }
    },
    {
      "cell_type": "code",
      "source": [
        "### Your code for 2.2(d) goes here ###\n",
        "linalg.matrix_rank(X)"
      ],
      "metadata": {
        "id": "GhlnUavVWkgc",
        "colab": {
          "base_uri": "https://localhost:8080/"
        },
        "outputId": "8f81a1b0-c927-46bd-957c-e93aa53a0f3f"
      },
      "execution_count": null,
      "outputs": [
        {
          "output_type": "execute_result",
          "data": {
            "text/plain": [
              "2"
            ]
          },
          "metadata": {},
          "execution_count": 26
        }
      ]
    },
    {
      "cell_type": "markdown",
      "source": [
        "## Problem 2.3"
      ],
      "metadata": {
        "id": "6fqh4x4FymHV"
      }
    },
    {
      "cell_type": "markdown",
      "source": [
        "  ### (a)"
      ],
      "metadata": {
        "id": "4qpGIfbIWzp9"
      }
    },
    {
      "cell_type": "code",
      "source": [
        "### Your code for 2.3(a) goes here ###\n",
        "X_T = np.transpose(X)\n",
        "C = np.matmul(X_T, X)\n",
        "# print(C.shape)\n",
        "\n",
        "#i\n",
        "e, v = linalg.eig(C)\n",
        "print(f'eigenvectors of C = {v}')\n",
        "\n",
        "U, E, V_T = linalg.svd(X)\n",
        "V = np.transpose(V_T)\n",
        "print(f'right singular vectors of X = {V}')"
      ],
      "metadata": {
        "id": "PhjPz5leXHOr",
        "colab": {
          "base_uri": "https://localhost:8080/"
        },
        "outputId": "a6d1d68d-8733-472c-d917-d186660db099"
      },
      "execution_count": null,
      "outputs": [
        {
          "output_type": "stream",
          "name": "stdout",
          "text": [
            "eigenvectors of C = [[-0.21660432  0.70138337  0.6790758 ]\n",
            " [ 0.70794212  0.59181786 -0.38544723]\n",
            " [ 0.67223546 -0.39725683  0.62472913]]\n",
            "right singular vectors of X = [[-0.21660432  0.6790758  -0.70138337]\n",
            " [ 0.70794212 -0.38544723 -0.59181786]\n",
            " [ 0.67223546  0.62472913  0.39725683]]\n"
          ]
        }
      ]
    },
    {
      "cell_type": "code",
      "source": [
        "#ii\n",
        "eigenvals = []\n",
        "singvals = []\n",
        "\n",
        "for idx in range(0, len(E)): \n",
        "  singvals.append(E[idx] ** 2)\n",
        "  eigenvals.append(e[idx])\n",
        "\n",
        "print(f'singular values = {singvals}')\n",
        "print(f'eigenvalues = {eigenvals}')"
      ],
      "metadata": {
        "colab": {
          "base_uri": "https://localhost:8080/"
        },
        "id": "VQwGW_cq_k3J",
        "outputId": "bb5b1f3b-e444-4547-e76c-ca88986ed00d"
      },
      "execution_count": null,
      "outputs": [
        {
          "output_type": "stream",
          "name": "stdout",
          "text": [
            "singular values = [1053.6713208393885, 79.16404108290271, 7.04455682430458e-30]\n",
            "eigenvalues = [1053.6713208393887, 3.944251963371861e-15, 79.16404108290263]\n"
          ]
        }
      ]
    },
    {
      "cell_type": "code",
      "source": [
        "#iii\n",
        "energy = linalg.norm(X, 'fro')\n",
        "print(f'Frobenius norm squared = {energy ** 2}')\n",
        "\n",
        "sum = 0\n",
        "for sgval in E:\n",
        "  sum = sum + (sgval ** 2)\n",
        "print(f'Sum of squares of singular values = {sum}')"
      ],
      "metadata": {
        "colab": {
          "base_uri": "https://localhost:8080/"
        },
        "id": "xGCTJOdyEihM",
        "outputId": "008cc67d-24b5-4964-8b13-48c4007df689"
      },
      "execution_count": null,
      "outputs": [
        {
          "output_type": "stream",
          "name": "stdout",
          "text": [
            "Frobenius norm squared = 1132.8353619222908\n",
            "Sum of squares of singular values = 1132.8353619222912\n"
          ]
        }
      ]
    },
    {
      "cell_type": "markdown",
      "source": [
        "_[Any additional comments/discussion for 2.3(a) go here]_\n",
        "\n",
        "* Some eigenvectors and right singular vectors are opposite signs -- we know that singular vectors and eigenvectors are identical, up to an algebraic sign.\n",
        "\n",
        "* The last eigenvalue is negative -- **C** is a symmetric matrix, but not positive semidefinite."
      ],
      "metadata": {
        "id": "F5lqb1M0XISi"
      }
    },
    {
      "cell_type": "markdown",
      "source": [
        "### (b)"
      ],
      "metadata": {
        "id": "8iH_5uF8Xl3N"
      }
    },
    {
      "cell_type": "markdown",
      "source": [
        "_[Your answer for 2.3(b) goes here]_\n",
        "\n",
        "(i) There are 2 singluar values that capture the most energy of the data matrix, the third singular value is very small (approx. 0). However, there exists a third singular value which is not exactly 0 --  this happens because dim(null(**X**)) = 0 i.e. the null space of **X** does not exist. In other words, there is no linear combination among the features of **X**. \n",
        "\n",
        "(ii) The right singular vectors correspond to the largest singular values of the matrix. They signify the spatial distribution of the singular values. The data matrix **X** is essentially the projection of random vector matrix **V** onto the subspace *S* of matrix **B**. So, the right singular vetors represent which singular values capture the most features from **V**. \n",
        "\n",
        "In dimensionality reduction, we want to capture the maximum possible information of the higher dimensional data matrix projected onto the lower dimension space [subspace of **B** in this case]. The captured high dimensional information here are the singular values, and the right singular vectors indicate which singular values project maximum information onto the lower dimensional subspace *S*."
      ],
      "metadata": {
        "id": "lPAPKaXJXlj9"
      }
    },
    {
      "cell_type": "markdown",
      "metadata": {
        "id": "E98vhjP2ymHV"
      },
      "source": [
        "## Problem 2.4"
      ]
    },
    {
      "cell_type": "markdown",
      "source": [
        "### (a)"
      ],
      "metadata": {
        "id": "Tgq23AVKYeIu"
      }
    },
    {
      "cell_type": "markdown",
      "source": [
        "_[Your answer for 2.4(a) goes here]_\n",
        "\n",
        "2 principal components should be enough as that captures maximum energy of the dataset. The energy captured by the signular values is = (295.59330511188915 + 109.02247717800115 + 1.7763218894107944e-30) = 404.6157822898903 and energy captured by the first 2 values is 404.61578. Here, 404.61578/404.6157822898903 ≈ 100% i.e. 2 principal components are sufficient to capture all variation of the given dataset. "
      ],
      "metadata": {
        "id": "Qckm7_AUYfue"
      }
    },
    {
      "cell_type": "markdown",
      "source": [
        "### (b)"
      ],
      "metadata": {
        "id": "mFEe1Ja-Yszo"
      }
    },
    {
      "cell_type": "markdown",
      "source": [
        "_[Your answer for 2.4(b) goes here]_"
      ],
      "metadata": {
        "id": "CAx7wVutYso4"
      }
    },
    {
      "cell_type": "code",
      "source": [
        "### Your code for 2.4(b) goes here ###\n",
        "means = []\n",
        "X_pc = np.matmul(V, X_T)\n",
        "\n",
        "for i in range(3):\n",
        "  means.append(X_T[i, :].mean())\n",
        "means"
      ],
      "metadata": {
        "id": "Kut6nt6JYt17",
        "colab": {
          "base_uri": "https://localhost:8080/"
        },
        "outputId": "dbcb57b0-63f7-4042-b843-086e70c20536"
      },
      "execution_count": null,
      "outputs": [
        {
          "output_type": "execute_result",
          "data": {
            "text/plain": [
              "[2.9116322487041656e-05, 0.018907157964684534, 0.028218559546997132]"
            ]
          },
          "metadata": {},
          "execution_count": 30
        }
      ]
    },
    {
      "cell_type": "markdown",
      "source": [
        "[Any additional comments/discussion for 2.4(b) go here]\n",
        "\n",
        "i) For random variables **x$_{1}$, x$_{2}$, x$_{3}$** have mean 0 and variance 1 by definition because of the way we generated our data. So,\n",
        "\n",
        "**E[x$_{k}$] = (1/3)(E[x$_{1}$] + E[x$_{2}] + E[x$_{3}])** = (1/3)(0 + 0 + 0) = 0 \n",
        "\n",
        "ii) Running the code cell above prints the mean of each sample vector and each entry is very small."
      ],
      "metadata": {
        "id": "8OMAmDI0ZOhf"
      }
    },
    {
      "cell_type": "markdown",
      "source": [
        "### (c)"
      ],
      "metadata": {
        "id": "1a5MpUNAZT70"
      }
    },
    {
      "cell_type": "code",
      "source": [
        "### Your code for 2.4(c) goes here ###\n",
        "Vk = V[:, 0:2]\n",
        "Vk.shape"
      ],
      "metadata": {
        "id": "h__6c3KYZUUk",
        "colab": {
          "base_uri": "https://localhost:8080/"
        },
        "outputId": "015c8540-4f71-46f5-deb3-1dddd6f998f3"
      },
      "execution_count": null,
      "outputs": [
        {
          "output_type": "execute_result",
          "data": {
            "text/plain": [
              "(3, 2)"
            ]
          },
          "metadata": {},
          "execution_count": 31
        }
      ]
    },
    {
      "cell_type": "markdown",
      "source": [
        "### (d)"
      ],
      "metadata": {
        "id": "OV7VlYGuZdwP"
      }
    },
    {
      "cell_type": "code",
      "source": [
        "Vk_T = np.transpose(Vk)\n",
        "Vk_T.shape"
      ],
      "metadata": {
        "colab": {
          "base_uri": "https://localhost:8080/"
        },
        "id": "TYbd73ywEtj-",
        "outputId": "cb05f1e7-a966-4e9f-f241-f5ef3ce4b934"
      },
      "execution_count": null,
      "outputs": [
        {
          "output_type": "execute_result",
          "data": {
            "text/plain": [
              "(2, 3)"
            ]
          },
          "metadata": {},
          "execution_count": 32
        }
      ]
    },
    {
      "cell_type": "code",
      "source": [
        "### Your code for 2.4(d) goes here ###\n",
        "Xf = np.matmul(Vk_T, X_T) \n",
        "Xf.shape"
      ],
      "metadata": {
        "id": "x_eo6FwIZeMa",
        "colab": {
          "base_uri": "https://localhost:8080/"
        },
        "outputId": "795a5432-cad7-4e69-e840-7a3aeddbd5be"
      },
      "execution_count": null,
      "outputs": [
        {
          "output_type": "execute_result",
          "data": {
            "text/plain": [
              "(2, 200)"
            ]
          },
          "metadata": {},
          "execution_count": 33
        }
      ]
    },
    {
      "cell_type": "markdown",
      "source": [
        "### (e)"
      ],
      "metadata": {
        "id": "tYGW89DfZkhD"
      }
    },
    {
      "cell_type": "code",
      "source": [
        "### Your code for 2.4(e) goes here ###\n",
        "X_proj = np.matmul(Vk, Xf)\n",
        "X_proj.shape"
      ],
      "metadata": {
        "id": "2D_GjEgBZnAU",
        "colab": {
          "base_uri": "https://localhost:8080/"
        },
        "outputId": "c9148736-b932-4a54-bf8c-88343eb7f597"
      },
      "execution_count": null,
      "outputs": [
        {
          "output_type": "execute_result",
          "data": {
            "text/plain": [
              "(3, 200)"
            ]
          },
          "metadata": {},
          "execution_count": 34
        }
      ]
    },
    {
      "cell_type": "markdown",
      "source": [
        "### (f)"
      ],
      "metadata": {
        "id": "wcK_PAshZtQB"
      }
    },
    {
      "cell_type": "code",
      "source": [
        "### Your code for 2.4(f) goes here ###\n",
        "error = (linalg.norm(np.subtract(X_T, X_proj), 'fro')) \n",
        "error"
      ],
      "metadata": {
        "id": "KmImme9tZtyH",
        "colab": {
          "base_uri": "https://localhost:8080/"
        },
        "outputId": "240eadb8-8ed8-4370-d1f1-53ba5ae3243c"
      },
      "execution_count": null,
      "outputs": [
        {
          "output_type": "execute_result",
          "data": {
            "text/plain": [
              "6.825491120305621e-15"
            ]
          },
          "metadata": {},
          "execution_count": 35
        }
      ]
    },
    {
      "cell_type": "markdown",
      "source": [
        "### (g)"
      ],
      "metadata": {
        "id": "LeFns7FdZ08e"
      }
    },
    {
      "cell_type": "code",
      "source": [
        "### Your code for 2.4(g) goes here ###\n",
        "Vk1 = V[:, 0:1]\n",
        "Vk1_T = np.transpose(Vk1)\n",
        "# Vk1.shape\n",
        "\n",
        "Xf1 = np.matmul(Vk1_T, X_T) \n",
        "Xf1.shape"
      ],
      "metadata": {
        "id": "S7tYk1SBZ19B",
        "colab": {
          "base_uri": "https://localhost:8080/"
        },
        "outputId": "fe7e0252-3ce7-4af5-98e7-ce0c233956c0"
      },
      "execution_count": null,
      "outputs": [
        {
          "output_type": "execute_result",
          "data": {
            "text/plain": [
              "(1, 200)"
            ]
          },
          "metadata": {},
          "execution_count": 36
        }
      ]
    },
    {
      "cell_type": "markdown",
      "source": [
        "### (h)"
      ],
      "metadata": {
        "id": "d4tM7vzxaAnL"
      }
    },
    {
      "cell_type": "code",
      "source": [
        "### Your code for 2.4(h) goes here ###\n",
        "X_proj1 = np.matmul(Vk1, Xf1)\n",
        "X_proj1.shape"
      ],
      "metadata": {
        "id": "wxzLuA3saA6B",
        "colab": {
          "base_uri": "https://localhost:8080/"
        },
        "outputId": "95b5f813-7ab7-43e8-e35a-1ec1039ab0fe"
      },
      "execution_count": null,
      "outputs": [
        {
          "output_type": "execute_result",
          "data": {
            "text/plain": [
              "(3, 200)"
            ]
          },
          "metadata": {},
          "execution_count": 37
        }
      ]
    },
    {
      "cell_type": "markdown",
      "source": [
        "### (i)"
      ],
      "metadata": {
        "id": "7Hz7DqtcaBPN"
      }
    },
    {
      "cell_type": "code",
      "source": [
        "### Your code for 2.4(i) goes here ###\n",
        "error1 = (linalg.norm(np.subtract(X_T, X_proj1), 'fro')) ** 2 \n",
        "error1 "
      ],
      "metadata": {
        "id": "7AizSI1JaC7O",
        "colab": {
          "base_uri": "https://localhost:8080/"
        },
        "outputId": "d5877a23-7134-4500-c9e8-ac8124d7269c"
      },
      "execution_count": null,
      "outputs": [
        {
          "output_type": "execute_result",
          "data": {
            "text/plain": [
              "79.16404108290276"
            ]
          },
          "metadata": {},
          "execution_count": 38
        }
      ]
    },
    {
      "cell_type": "markdown",
      "source": [
        "### (j)"
      ],
      "metadata": {
        "id": "v6aRxM1faE_k"
      }
    },
    {
      "cell_type": "code",
      "source": [
        "### Your code for 2.4(j) goes here ###\n",
        "fig = plt.figure()\n",
        "\n",
        "# original data matrix\n",
        "ax = fig.add_subplot(1, 2, 1, projection='3d')\n",
        "\n",
        "X = X_T[0]\n",
        "Y = X_T[1]\n",
        "Z = X_T[2]\n",
        "\n",
        "surf1 = ax.scatter(X, Y, Z, c='blue', marker=\"s\", label='original datapoints')\n",
        "plt.title('original data matrix')\n",
        "\n",
        "ax.set_xlabel('feature 1')\n",
        "ax.set_ylabel('feature 2')\n",
        "ax.set_zlabel('feature 3')\n",
        "\n",
        "# reconstructed data matrix\n",
        "ax = fig.add_subplot(1, 2, 2, projection='3d')\n",
        "\n",
        "X_proj = X_proj1[0]\n",
        "Y_proj = X_proj1[1]\n",
        "Z_proj = X_proj1[2]\n",
        "\n",
        "surf2 = ax.scatter(X_proj, Y_proj, Z_proj, c='red', marker=\"o\", label='reconstructed datapoints')\n",
        "plt.title('reconstructed data matrix')\n",
        "\n",
        "ax.set_xlabel('feature 1')\n",
        "ax.set_ylabel('feature 2')\n",
        "ax.set_zlabel('feature 3')\n",
        "\n",
        "plt.show();"
      ],
      "metadata": {
        "colab": {
          "base_uri": "https://localhost:8080/",
          "height": 248
        },
        "id": "2WNJKE-HAgQn",
        "outputId": "93d3fd0f-bfba-4fad-90db-6f26844e0fc9"
      },
      "execution_count": null,
      "outputs": [
        {
          "output_type": "display_data",
          "data": {
            "text/plain": [
              "<Figure size 432x288 with 2 Axes>"
            ],
            "image/png": "[encoded data removed]"
          },
          "metadata": {
            "needs_background": "light"
          }
        }
      ]
    },
    {
      "cell_type": "markdown",
      "source": [
        "_[Your comments for 2.4(j) go here]_\n",
        "\n",
        "* The original data plot (on the left) captures and accurate representation of the variance and high correlation of the data matrix. The data points are scattered as would be intuitive for this type of dataset.\n",
        "\n",
        "* The reconstructed data plot (on the right) lies along a single straight line, showing no variation on any other side but that axis. This is where the projected data errors from the original data. This means that the reconstructed datapoints have a higher  correlation between the two features. "
      ],
      "metadata": {
        "id": "PLc7wJqsakVx"
      }
    }
  ],
  "metadata": {
    "kernelspec": {
      "display_name": "Python 3",
      "language": "python",
      "name": "python3"
    },
    "language_info": {
      "codemirror_mode": {
        "name": "ipython",
        "version": 3
      },
      "file_extension": ".py",
      "mimetype": "text/x-python",
      "name": "python",
      "nbconvert_exporter": "python",
      "pygments_lexer": "ipython3",
      "version": "3.7.9"
    },
    "colab": {
      "provenance": [],
      "collapsed_sections": []
    }
  },
  "nbformat": 4,
  "nbformat_minor": 0
}