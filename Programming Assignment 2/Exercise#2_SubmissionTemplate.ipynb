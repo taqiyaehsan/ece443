{
  "cells": [
    {
      "cell_type": "markdown",
      "source": [
        "# [Your full name goes here]\n",
        "# Programming Exercise \\#2\n",
        "---"
      ],
      "metadata": {
        "id": "DAO8AZsc266y"
      }
    },
    {
      "cell_type": "markdown",
      "source": [
        "# Preamble"
      ],
      "metadata": {
        "id": "rJOtXeNg38_u"
      }
    },
    {
      "cell_type": "code",
      "source": [
        "# optional code cell when using Google Colab with Google Drive\n",
        "\n",
        "# remove the docstring comment block below in order to mount Google Drive\n",
        "'''\n",
        "# mount Google Drive in Google Colab\n",
        "from google.colab import drive\n",
        "drive.mount('/content/drive')\n",
        "\n",
        "# change directory using the magic command %cd\n",
        "### replace [MY PATH] below with your own path in Google Drive ###\n",
        "### %cd /content/drive/My\\ Drive/[MY PATH] ###\n",
        "'''"
      ],
      "metadata": {
        "id": "Ldu0WSDK4IjA"
      },
      "execution_count": null,
      "outputs": []
    },
    {
      "cell_type": "code",
      "source": [
        "# import relevant Python libraries\n",
        "\n",
        "### Your import commands go here ###"
      ],
      "metadata": {
        "id": "rjUKWdVD_Eqh"
      },
      "execution_count": null,
      "outputs": []
    },
    {
      "cell_type": "markdown",
      "metadata": {
        "id": "PeHo02TLz-hL"
      },
      "source": [
        "# **1. Feature Engineering for _Environmental Sensor Telemetry Data_**"
      ]
    },
    {
      "cell_type": "markdown",
      "metadata": {
        "id": "qmMHJttez-hM"
      },
      "source": [
        "## Problem 1.1"
      ]
    },
    {
      "cell_type": "code",
      "source": [
        "### Your code for loading the dataset goes here ###"
      ],
      "metadata": {
        "id": "IgKSHxewsRdP"
      },
      "execution_count": null,
      "outputs": []
    },
    {
      "cell_type": "markdown",
      "metadata": {
        "id": "EKQZRr9Dz-hN"
      },
      "source": [
        "### (a)"
      ]
    },
    {
      "cell_type": "markdown",
      "metadata": {
        "id": "9eH6uWf4z-hN"
      },
      "source": [
        "_[Your answer for 1.1(a) goes here]_"
      ]
    },
    {
      "cell_type": "markdown",
      "metadata": {
        "id": "77c-6U-_z-hO"
      },
      "source": [
        "### (b)"
      ]
    },
    {
      "cell_type": "code",
      "execution_count": null,
      "metadata": {
        "id": "530SUQVjz-hP"
      },
      "outputs": [],
      "source": [
        "### Your code for 1.1(b) goes here ###"
      ]
    },
    {
      "cell_type": "markdown",
      "metadata": {
        "id": "_tMu1LVSz-hQ"
      },
      "source": [
        "### (c)\n",
        "\n"
      ]
    },
    {
      "cell_type": "code",
      "execution_count": null,
      "metadata": {
        "id": "1D7twXbHz-hR"
      },
      "outputs": [],
      "source": [
        "### Your code for 1.1(c) goes here ###"
      ]
    },
    {
      "cell_type": "markdown",
      "metadata": {
        "id": "kUKa9J6dz-hR"
      },
      "source": [
        "\n",
        "### (d)"
      ]
    },
    {
      "cell_type": "code",
      "execution_count": null,
      "metadata": {
        "id": "2xNG_h3wz-hS"
      },
      "outputs": [],
      "source": [
        "### Your code for 1.1(d) goes here ###"
      ]
    },
    {
      "cell_type": "markdown",
      "metadata": {
        "id": "Jy00M5wcz-hS"
      },
      "source": [
        "### (e)"
      ]
    },
    {
      "cell_type": "code",
      "source": [
        "### Your code for 1.1(e) goes here ###"
      ],
      "metadata": {
        "id": "cvCXExa7TaTa"
      },
      "execution_count": null,
      "outputs": []
    },
    {
      "cell_type": "markdown",
      "metadata": {
        "id": "nOJPywDYz-hT"
      },
      "source": [
        "## Problem 1.2"
      ]
    },
    {
      "cell_type": "markdown",
      "metadata": {
        "id": "UTf6Yiqjz-hT"
      },
      "source": [
        "### (a)"
      ]
    },
    {
      "cell_type": "code",
      "execution_count": null,
      "metadata": {
        "id": "qOPVMIawz-hU"
      },
      "outputs": [],
      "source": [
        "### Your code for 1.2(a) goes here ###"
      ]
    },
    {
      "cell_type": "markdown",
      "source": [
        "_[Your answer for 1.2(a) goes here]_"
      ],
      "metadata": {
        "id": "baOjUglyTzY9"
      }
    },
    {
      "cell_type": "markdown",
      "metadata": {
        "id": "CrZQxH5hz-hU"
      },
      "source": [
        "### (b)"
      ]
    },
    {
      "cell_type": "code",
      "execution_count": null,
      "metadata": {
        "id": "ESSjRnLCz-hU"
      },
      "outputs": [],
      "source": [
        "### Your code for 1.2(b) goes here ###"
      ]
    },
    {
      "cell_type": "markdown",
      "metadata": {
        "id": "hWh95Fiyz-hU"
      },
      "source": [
        "\n",
        "### (c)"
      ]
    },
    {
      "cell_type": "code",
      "execution_count": null,
      "metadata": {
        "id": "VZ9EtxC-z-hV"
      },
      "outputs": [],
      "source": [
        "### Your code for 1.2(c) goes here ###"
      ]
    },
    {
      "cell_type": "markdown",
      "source": [
        "### (d)"
      ],
      "metadata": {
        "id": "3IuMCu6vUBgz"
      }
    },
    {
      "cell_type": "code",
      "source": [
        "### Your code for 1.2(d) goes here ###"
      ],
      "metadata": {
        "id": "z8UHdRe1UCLr"
      },
      "execution_count": null,
      "outputs": []
    },
    {
      "cell_type": "markdown",
      "source": [
        "### (e)"
      ],
      "metadata": {
        "id": "zsOtgiVCUEfc"
      }
    },
    {
      "cell_type": "markdown",
      "source": [
        "_[Your answer for 1.2(e) goes here]_"
      ],
      "metadata": {
        "id": "DR3FGIldUEPN"
      }
    },
    {
      "cell_type": "markdown",
      "source": [
        "## Problem 1.3"
      ],
      "metadata": {
        "id": "OYDjQvfFxnQw"
      }
    },
    {
      "cell_type": "code",
      "source": [
        "### Your code for 1.3 goes here ###"
      ],
      "metadata": {
        "id": "5YCLwVJuxrXG"
      },
      "execution_count": null,
      "outputs": []
    },
    {
      "cell_type": "markdown",
      "metadata": {
        "id": "E8hZzOSvymHL"
      },
      "source": [
        "# **2. Feature Learning for _Synthetically Generated Data_**"
      ]
    },
    {
      "cell_type": "markdown",
      "metadata": {
        "id": "5YpfhDVMymHM"
      },
      "source": [
        "## Problem 2.1"
      ]
    },
    {
      "cell_type": "markdown",
      "metadata": {
        "id": "1EQWwLbvymHN"
      },
      "source": [
        "### (a)"
      ]
    },
    {
      "cell_type": "code",
      "source": [
        "### Your code for 2.1(a) goes here ###"
      ],
      "metadata": {
        "id": "2Me2gtgRUxAi"
      },
      "execution_count": null,
      "outputs": []
    },
    {
      "cell_type": "markdown",
      "metadata": {
        "id": "T5HoKdioymHN"
      },
      "source": [
        "### (b)"
      ]
    },
    {
      "cell_type": "code",
      "execution_count": null,
      "metadata": {
        "id": "xUGIEmzYymHN"
      },
      "outputs": [],
      "source": [
        "### Your code for 2.1(b) goes here ###"
      ]
    },
    {
      "cell_type": "markdown",
      "metadata": {
        "id": "TGHAoXfMymHO"
      },
      "source": [
        "### (c)\n",
        "\n"
      ]
    },
    {
      "cell_type": "code",
      "execution_count": null,
      "metadata": {
        "id": "ItDMYWoFymHO"
      },
      "outputs": [],
      "source": [
        "### Your code for 2.1(c) goes here ###"
      ]
    },
    {
      "cell_type": "markdown",
      "metadata": {
        "id": "7kNl2WpSymHO"
      },
      "source": [
        "### (d)"
      ]
    },
    {
      "cell_type": "code",
      "execution_count": null,
      "metadata": {
        "id": "AblNbsncymHO"
      },
      "outputs": [],
      "source": [
        "### Your code for 2.1(d) goes here ###"
      ]
    },
    {
      "cell_type": "markdown",
      "metadata": {
        "id": "FpQWnOOpymHT"
      },
      "source": [
        "## Problem 2.2"
      ]
    },
    {
      "cell_type": "markdown",
      "source": [
        "### (a)"
      ],
      "metadata": {
        "id": "eo0-9wXTVIKh"
      }
    },
    {
      "cell_type": "code",
      "execution_count": null,
      "metadata": {
        "id": "QmAtpjMiymHU"
      },
      "outputs": [],
      "source": [
        "### Your code for 2.2(a) goes here ###"
      ]
    },
    {
      "cell_type": "markdown",
      "source": [
        "### (b)"
      ],
      "metadata": {
        "id": "6nTycRr4V8GJ"
      }
    },
    {
      "cell_type": "markdown",
      "source": [
        "_[Your answer for 2.2(b) goes here]_"
      ],
      "metadata": {
        "id": "qs8F-Aw2V731"
      }
    },
    {
      "cell_type": "markdown",
      "source": [
        "### (c)"
      ],
      "metadata": {
        "id": "Pw5kjI4GWLsL"
      }
    },
    {
      "cell_type": "code",
      "source": [
        "### Your code for 2.2(c) goes here ###"
      ],
      "metadata": {
        "id": "riHIp_QVWSh4"
      },
      "execution_count": null,
      "outputs": []
    },
    {
      "cell_type": "markdown",
      "source": [
        "_[Your answer for 2.2(c) goes here]_"
      ],
      "metadata": {
        "id": "zRXfaZTiWS9K"
      }
    },
    {
      "cell_type": "markdown",
      "source": [
        "### (d)"
      ],
      "metadata": {
        "id": "6ACrqDnpWkJu"
      }
    },
    {
      "cell_type": "code",
      "source": [
        "### Your code for 2.2(d) goes here ###"
      ],
      "metadata": {
        "id": "GhlnUavVWkgc"
      },
      "execution_count": null,
      "outputs": []
    },
    {
      "cell_type": "markdown",
      "source": [
        "## Problem 2.3"
      ],
      "metadata": {
        "id": "6fqh4x4FymHV"
      }
    },
    {
      "cell_type": "markdown",
      "source": [
        "  ### (a)"
      ],
      "metadata": {
        "id": "4qpGIfbIWzp9"
      }
    },
    {
      "cell_type": "code",
      "source": [
        "### Your code for 2.3(a) goes here ###"
      ],
      "metadata": {
        "id": "PhjPz5leXHOr"
      },
      "execution_count": null,
      "outputs": []
    },
    {
      "cell_type": "markdown",
      "source": [
        "_[Any additional comments/discussion for 2.3(a) go here]_"
      ],
      "metadata": {
        "id": "F5lqb1M0XISi"
      }
    },
    {
      "cell_type": "markdown",
      "source": [
        "### (b)"
      ],
      "metadata": {
        "id": "8iH_5uF8Xl3N"
      }
    },
    {
      "cell_type": "markdown",
      "source": [
        "_[Your answer for 2.3(b) goes here]_"
      ],
      "metadata": {
        "id": "lPAPKaXJXlj9"
      }
    },
    {
      "cell_type": "markdown",
      "metadata": {
        "id": "E98vhjP2ymHV"
      },
      "source": [
        "## Problem 2.4"
      ]
    },
    {
      "cell_type": "markdown",
      "source": [
        "### (a)"
      ],
      "metadata": {
        "id": "Tgq23AVKYeIu"
      }
    },
    {
      "cell_type": "markdown",
      "source": [
        "_[Your answer for 2.4(a) goes here]_"
      ],
      "metadata": {
        "id": "Qckm7_AUYfue"
      }
    },
    {
      "cell_type": "markdown",
      "source": [
        "### (b)"
      ],
      "metadata": {
        "id": "mFEe1Ja-Yszo"
      }
    },
    {
      "cell_type": "markdown",
      "source": [
        "_[Your answer for 2.4(b) goes here]_"
      ],
      "metadata": {
        "id": "CAx7wVutYso4"
      }
    },
    {
      "cell_type": "code",
      "source": [
        "### Your code for 2.4(b) goes here ###"
      ],
      "metadata": {
        "id": "Kut6nt6JYt17"
      },
      "execution_count": null,
      "outputs": []
    },
    {
      "cell_type": "markdown",
      "source": [
        "_[Any additional comments/discussion for 2.4(b) go here]_"
      ],
      "metadata": {
        "id": "8OMAmDI0ZOhf"
      }
    },
    {
      "cell_type": "markdown",
      "source": [
        "### (c)"
      ],
      "metadata": {
        "id": "1a5MpUNAZT70"
      }
    },
    {
      "cell_type": "code",
      "source": [
        "### Your code for 2.4(c) goes here ###"
      ],
      "metadata": {
        "id": "h__6c3KYZUUk"
      },
      "execution_count": null,
      "outputs": []
    },
    {
      "cell_type": "markdown",
      "source": [
        "### (d)"
      ],
      "metadata": {
        "id": "OV7VlYGuZdwP"
      }
    },
    {
      "cell_type": "code",
      "source": [
        "### Your code for 2.4(d) goes here ###"
      ],
      "metadata": {
        "id": "x_eo6FwIZeMa"
      },
      "execution_count": null,
      "outputs": []
    },
    {
      "cell_type": "markdown",
      "source": [
        "### (e)"
      ],
      "metadata": {
        "id": "tYGW89DfZkhD"
      }
    },
    {
      "cell_type": "code",
      "source": [
        "### Your code for 2.4(e) goes here ###"
      ],
      "metadata": {
        "id": "2D_GjEgBZnAU"
      },
      "execution_count": null,
      "outputs": []
    },
    {
      "cell_type": "markdown",
      "source": [
        "### (f)"
      ],
      "metadata": {
        "id": "wcK_PAshZtQB"
      }
    },
    {
      "cell_type": "code",
      "source": [
        "### Your code for 2.4(f) goes here ###"
      ],
      "metadata": {
        "id": "KmImme9tZtyH"
      },
      "execution_count": null,
      "outputs": []
    },
    {
      "cell_type": "markdown",
      "source": [
        "### (g)"
      ],
      "metadata": {
        "id": "LeFns7FdZ08e"
      }
    },
    {
      "cell_type": "code",
      "source": [
        "### Your code for 2.4(g) goes here ###"
      ],
      "metadata": {
        "id": "S7tYk1SBZ19B"
      },
      "execution_count": null,
      "outputs": []
    },
    {
      "cell_type": "markdown",
      "source": [
        "### (h)"
      ],
      "metadata": {
        "id": "d4tM7vzxaAnL"
      }
    },
    {
      "cell_type": "code",
      "source": [
        "### Your code for 2.4(h) goes here ###"
      ],
      "metadata": {
        "id": "wxzLuA3saA6B"
      },
      "execution_count": null,
      "outputs": []
    },
    {
      "cell_type": "markdown",
      "source": [
        "### (i)"
      ],
      "metadata": {
        "id": "7Hz7DqtcaBPN"
      }
    },
    {
      "cell_type": "code",
      "source": [
        "### Your code for 2.4(i) goes here ###"
      ],
      "metadata": {
        "id": "7AizSI1JaC7O"
      },
      "execution_count": null,
      "outputs": []
    },
    {
      "cell_type": "markdown",
      "source": [
        "### (j)"
      ],
      "metadata": {
        "id": "v6aRxM1faE_k"
      }
    },
    {
      "cell_type": "code",
      "source": [
        "### Your code for 2.4(j) goes here ###"
      ],
      "metadata": {
        "id": "inzkv3ORaFYo"
      },
      "execution_count": null,
      "outputs": []
    },
    {
      "cell_type": "markdown",
      "source": [
        "_[Your comments for 2.4(j) go here]_"
      ],
      "metadata": {
        "id": "PLc7wJqsakVx"
      }
    }
  ],
  "metadata": {
    "kernelspec": {
      "display_name": "Python 3",
      "language": "python",
      "name": "python3"
    },
    "language_info": {
      "codemirror_mode": {
        "name": "ipython",
        "version": 3
      },
      "file_extension": ".py",
      "mimetype": "text/x-python",
      "name": "python",
      "nbconvert_exporter": "python",
      "pygments_lexer": "ipython3",
      "version": "3.7.9"
    },
    "colab": {
      "provenance": [],
      "collapsed_sections": [],
      "toc_visible": true
    }
  },
  "nbformat": 4,
  "nbformat_minor": 0
}