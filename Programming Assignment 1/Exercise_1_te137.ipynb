{
  "cells": [
    {
      "cell_type": "markdown",
      "metadata": {
        "id": "DAO8AZsc266y"
      },
      "source": [
        "# Taqiya Ehsan\n",
        "# Programming Exercise \\#1\n",
        "---"
      ]
    },
    {
      "cell_type": "markdown",
      "metadata": {
        "id": "rJOtXeNg38_u"
      },
      "source": [
        "# Preamble"
      ]
    },
    {
      "cell_type": "code",
      "execution_count": null,
      "metadata": {
        "colab": {
          "base_uri": "https://localhost:8080/"
        },
        "id": "Ldu0WSDK4IjA",
        "outputId": "30d3db1e-8b5c-40f5-be03-d5bd04636815"
      },
      "outputs": [
        {
          "output_type": "stream",
          "name": "stdout",
          "text": [
            "Mounted at /content/drive\n",
            "/content/drive/My Drive/ML/ProgrammingAssignment1\n"
          ]
        }
      ],
      "source": [
        "# optional code cell when using Google Colab with Google Drive\n",
        "# remove the docstring comment block below in order to mount Google Drive\n",
        "\n",
        "# mount Google Drive in Google Colab\n",
        "from google.colab import drive\n",
        "drive.mount('/content/drive')\n",
        "\n",
        "# change directory using the magic command %cd\n",
        "### replace [MY PATH] below with your own path in Google Drive ###\n",
        "%cd /content/drive/My\\ Drive/ML/ProgrammingAssignment1"
      ]
    },
    {
      "cell_type": "code",
      "execution_count": null,
      "metadata": {
        "id": "rjUKWdVD_Eqh"
      },
      "outputs": [],
      "source": [
        "# import relevant Python libraries\n",
        "import numpy as np\n",
        "import pandas as pd\n",
        "import matplotlib.pyplot as plt\n",
        "from scipy import stats as sps\n",
        "from IPython.display import display, Latex"
      ]
    },
    {
      "cell_type": "markdown",
      "metadata": {
        "id": "PeHo02TLz-hL"
      },
      "source": [
        "# **1. Fetal Health Classification Dataset**"
      ]
    },
    {
      "cell_type": "markdown",
      "metadata": {
        "id": "wnzH3Rd2vu-l"
      },
      "source": [
        "## **Clean Dataset**"
      ]
    },
    {
      "cell_type": "markdown",
      "metadata": {
        "id": "qmMHJttez-hM"
      },
      "source": [
        "### Problem 1.1"
      ]
    },
    {
      "cell_type": "code",
      "execution_count": null,
      "metadata": {
        "id": "IgKSHxewsRdP"
      },
      "outputs": [],
      "source": [
        "#@title\n",
        "# load the clean dataset csv file into a pandas dataframe\n",
        "fetal_clean_df = pd.read_csv('fetal_health_dataset_clean.csv')\n",
        "fetal_clean_df"
      ]
    },
    {
      "cell_type": "markdown",
      "metadata": {
        "id": "EKQZRr9Dz-hN"
      },
      "source": [
        "#### (a)"
      ]
    },
    {
      "cell_type": "markdown",
      "metadata": {
        "id": "9eH6uWf4z-hN"
      },
      "source": [
        "This is a **supervised machine learning task**. The provided dataset consists of different feature data that could potentially help infer the fetal health -- these are the independent variables. The dataframe also consists of the inferred fetal health based on the given independent variables -- i.e. each combination of Cardiotocogram exam features has been labeled with one of the three fetal health classifications. So, during training, the model will be fed with both the Cardiotocogram exam features as well as the fetal health labels making it supervised learning."
      ]
    },
    {
      "cell_type": "markdown",
      "metadata": {
        "id": "77c-6U-_z-hO"
      },
      "source": [
        "#### (b)"
      ]
    },
    {
      "cell_type": "code",
      "execution_count": null,
      "metadata": {
        "id": "530SUQVjz-hP"
      },
      "outputs": [],
      "source": [
        "#@title\n",
        "### Your code for 1.1(b) goes here ###\n",
        "print(f'dtypes: {fetal_clean_df.dtypes}')\n",
        "print(f'axes: {fetal_clean_df.axes}')"
      ]
    },
    {
      "cell_type": "markdown",
      "metadata": {
        "id": "_tMu1LVSz-hQ"
      },
      "source": [
        "#### (c)\n",
        "\n"
      ]
    },
    {
      "cell_type": "code",
      "execution_count": null,
      "metadata": {
        "id": "1D7twXbHz-hR"
      },
      "outputs": [],
      "source": [
        "#@title\n",
        "### Your code for 1.1(c) goes here ###\n",
        "fetal_clean_df.head(10)"
      ]
    },
    {
      "cell_type": "markdown",
      "metadata": {
        "id": "kUKa9J6dz-hR"
      },
      "source": [
        "#### (d)"
      ]
    },
    {
      "cell_type": "code",
      "execution_count": null,
      "metadata": {
        "id": "2xNG_h3wz-hS"
      },
      "outputs": [],
      "source": [
        "#@title\n",
        "### Your code for 1.1(d) goes here ###\n",
        "fetal_clean_df.shape # (row, column)"
      ]
    },
    {
      "cell_type": "markdown",
      "metadata": {
        "id": "Jy00M5wcz-hS"
      },
      "source": [
        "#### (e)"
      ]
    },
    {
      "cell_type": "markdown",
      "metadata": {
        "id": "TfEQY5rUt2fd"
      },
      "source": [
        "Each row is a sample"
      ]
    },
    {
      "cell_type": "markdown",
      "metadata": {
        "id": "sv2CGUT8uFX3"
      },
      "source": [
        "#### (f)"
      ]
    },
    {
      "cell_type": "markdown",
      "metadata": {
        "id": "tKhYMGeDuLax"
      },
      "source": [
        "2126 samples"
      ]
    },
    {
      "cell_type": "markdown",
      "metadata": {
        "id": "N0TPsxCauZJ6"
      },
      "source": [
        "#### (g)"
      ]
    },
    {
      "cell_type": "markdown",
      "metadata": {
        "id": "KXYePFTTubbg"
      },
      "source": [
        "21 independent variables:\n",
        "'baseline value', 'accelerations', 'fetal_movement', 'uterine_contractions', 'light_decelerations', 'severe_decelerations', 'prolongued_decelerations', 'abnormal_short_term_variability', 'mean_value_of_short_term_variability', 'percentage_of_time_with_abnormal_long_term_variability', 'mean_value_of_long_term_variability', 'histogram_width', 'histogram_min', 'histogram_max', 'histogram_number_of_peaks', 'histogram_number_of_zeroes', 'histogram_mode', 'histogram_mean', 'histogram_median', 'histogram_variance'"
      ]
    },
    {
      "cell_type": "markdown",
      "metadata": {
        "id": "hTwCZxwFuhZs"
      },
      "source": [
        "#### (h)"
      ]
    },
    {
      "cell_type": "markdown",
      "metadata": {
        "id": "URok105CuhHF"
      },
      "source": [
        "1 dependent variable: 'fetal_health'"
      ]
    },
    {
      "cell_type": "markdown",
      "metadata": {
        "id": "5XeG2MZFup3y"
      },
      "source": [
        "#### (i)"
      ]
    },
    {
      "cell_type": "markdown",
      "metadata": {
        "id": "5tt7ikfNupvv"
      },
      "source": [
        "(2126, 21)"
      ]
    },
    {
      "cell_type": "markdown",
      "metadata": {
        "id": "BOeDxdYOupk-"
      },
      "source": [
        "#### (j)"
      ]
    },
    {
      "cell_type": "markdown",
      "metadata": {
        "id": "A1IqEbduupbQ"
      },
      "source": [
        "(2126, 1)"
      ]
    },
    {
      "cell_type": "markdown",
      "metadata": {
        "id": "gLVO6JSHupOE"
      },
      "source": [
        "#### (k)"
      ]
    },
    {
      "cell_type": "markdown",
      "metadata": {
        "id": "AHbPBjDsuo6j"
      },
      "source": [
        "They have been pre-processed. The raw data would not have been as organized and concise as the data provided in the csv file. Moreover, there are no inconsistent or NaN data in it which would have been present if this were raw data. Everything has also been reviewed by expert obstertricians and a consensus classification label. Hence, this is a pre-processed data."
      ]
    },
    {
      "cell_type": "markdown",
      "metadata": {
        "id": "ps849tTTu74M"
      },
      "source": [
        "#### (l)"
      ]
    },
    {
      "cell_type": "code",
      "execution_count": null,
      "metadata": {
        "id": "XlIIQGYQz-hT"
      },
      "outputs": [],
      "source": [
        "#@title\n",
        "for col in fetal_clean_df.columns:\n",
        "  print(f'{col}')\n",
        "  print(fetal_clean_df[f'{col}'].unique())\n",
        "\n",
        "# fetal_clean_df['fetal_health'].unique()\n",
        "# fetal_clean_df['fetal_health'].hist()\n",
        "# plt.show()"
      ]
    },
    {
      "cell_type": "markdown",
      "metadata": {
        "id": "240_-4A5u8oB"
      },
      "source": [
        "**\"fetal_health\"** is the only categorical data in this dataset as it is the only one that can be grouped. All the other variables in the dataframe are numerical such that they are a measurement of some feature and we can perform further mathematical operations on them. However, although \"fetal_health\" is expressed as numbers in the dataframe, each of the numbers is actually a category -- we can group different samples within the different categories of \"fetal_health\" based on rest of the numeric/non-categorical variables."
      ]
    },
    {
      "cell_type": "markdown",
      "metadata": {
        "id": "avTEhBQLvMtw"
      },
      "source": [
        "#### (m)"
      ]
    },
    {
      "cell_type": "markdown",
      "metadata": {
        "id": "r1psH--XvMV8"
      },
      "source": [
        "The categorical variables in this dataset follows **label encoding** -- each category corresponds to an integer value representing that label. So the integer 1 in \"fetal_health\" represents the category \"normal,\" 2 represents \"suspect\" and 3 represents \"pathological.\"\n"
      ]
    },
    {
      "cell_type": "markdown",
      "metadata": {
        "id": "qVW9ov3kvMRj"
      },
      "source": [
        "#### (n)"
      ]
    },
    {
      "cell_type": "code",
      "execution_count": null,
      "metadata": {
        "id": "zV2P8n4pvUQT"
      },
      "outputs": [],
      "source": [
        "#@title\n",
        "fetal_clean_df.loc[:, \"fetal_health\"].value_counts()"
      ]
    },
    {
      "cell_type": "markdown",
      "metadata": {
        "id": "z8lTzSQFwqI1"
      },
      "source": [
        "## **Dirty Dataset**"
      ]
    },
    {
      "cell_type": "code",
      "execution_count": null,
      "metadata": {
        "id": "hAMx9uwbw8rV"
      },
      "outputs": [],
      "source": [
        "#@title\n",
        "# load the dirty dataset csv file into a pandas dataframe\n",
        "fetal_dirty_df = pd.read_csv('fetal_health_dataset_dirty.csv')\n",
        "fetal_dirty_df.columns"
      ]
    },
    {
      "cell_type": "markdown",
      "metadata": {
        "id": "nOJPywDYz-hT"
      },
      "source": [
        "### Problem 1.2"
      ]
    },
    {
      "cell_type": "markdown",
      "metadata": {
        "id": "UTf6Yiqjz-hT"
      },
      "source": [
        "#### (a)"
      ]
    },
    {
      "cell_type": "code",
      "execution_count": null,
      "metadata": {
        "id": "qOPVMIawz-hU"
      },
      "outputs": [],
      "source": [
        "#@title\n",
        "print(fetal_dirty_df.isna().any())\n",
        "print(f'Total NaN entries: {fetal_dirty_df.isna().sum().sum()}')"
      ]
    },
    {
      "cell_type": "markdown",
      "metadata": {
        "id": "CrZQxH5hz-hU"
      },
      "source": [
        "#### (b)"
      ]
    },
    {
      "cell_type": "code",
      "execution_count": null,
      "metadata": {
        "id": "ESSjRnLCz-hU",
        "colab": {
          "base_uri": "https://localhost:8080/"
        },
        "outputId": "8357103f-3a04-43ec-b27c-8a335e753dba"
      },
      "outputs": [
        {
          "output_type": "execute_result",
          "data": {
            "text/plain": [
              "Index(['baseline value',\n",
              "       'percentage_of_time_with_abnormal_long_term_variability',\n",
              "       'histogram_max', 'histogram_mode'],\n",
              "      dtype='object')"
            ]
          },
          "metadata": {},
          "execution_count": 14
        }
      ],
      "source": [
        "#@title\n",
        "fetal_dirty_df.columns[fetal_dirty_df.isna().any()]"
      ]
    },
    {
      "cell_type": "markdown",
      "metadata": {
        "id": "hWh95Fiyz-hU"
      },
      "source": [
        "#### (c)"
      ]
    },
    {
      "cell_type": "code",
      "execution_count": null,
      "metadata": {
        "id": "VZ9EtxC-z-hV",
        "colab": {
          "base_uri": "https://localhost:8080/"
        },
        "outputId": "4e1b928d-3f9e-4119-a6cb-b773beefb063"
      },
      "outputs": [
        {
          "output_type": "execute_result",
          "data": {
            "text/plain": [
              "86"
            ]
          },
          "metadata": {},
          "execution_count": 15
        }
      ],
      "source": [
        "#@title\n",
        "fetal_dirty_df.shape[0]-fetal_dirty_df.dropna().shape[0]"
      ]
    },
    {
      "cell_type": "markdown",
      "metadata": {
        "id": "OYDjQvfFxnQw"
      },
      "source": [
        "### Problem 1.3"
      ]
    },
    {
      "cell_type": "code",
      "execution_count": null,
      "metadata": {
        "id": "5YCLwVJuxrXG"
      },
      "outputs": [],
      "source": [
        "#@title\n",
        "# for col in fetal_dirty_df.columns:\n",
        "processed_fetal_dirty_df = fetal_dirty_df.copy()\n",
        "processed_fetal_dirty_df.loc[processed_fetal_dirty_df[\"baseline value\"] < 0, \"baseline value\"] = np.nan\n",
        "processed_fetal_dirty_df.loc[(processed_fetal_dirty_df[\"fetal_health\"] != 1) & (processed_fetal_dirty_df[\"fetal_health\"] != 2) & (processed_fetal_dirty_df[\"fetal_health\"] != 3), \"fetal_health\"] = np.nan\n",
        "processed_fetal_dirty_df.loc[(processed_fetal_dirty_df[\"fetal_movement\"] < 0) | (processed_fetal_dirty_df[\"fetal_movement\"] > 0.5), \"fetal_movement\"] = np.nan\n",
        "processed_fetal_dirty_df.loc[(processed_fetal_dirty_df[\"uterine_contractions\"] < 0) | (processed_fetal_dirty_df[\"uterine_contractions\"] > 0.5), \"uterine_contractions\"] = np.nan\n",
        "processed_fetal_dirty_df.loc[(processed_fetal_dirty_df[\"percentage_of_time_with_abnormal_long_term_variability\"] < 0) | (processed_fetal_dirty_df[\"percentage_of_time_with_abnormal_long_term_variability\"] > 100), \"percentage_of_time_with_abnormal_long_term_variability\"] = np.nan\n",
        "processed_fetal_dirty_df.loc[processed_fetal_dirty_df[\"mean_value_of_short_term_variability\"] < 0, \"mean_value_of_short_term_variability\"] = np.nan\n",
        "processed_fetal_dirty_df.loc[processed_fetal_dirty_df[\"mean_value_of_long_term_variability\"] < 0, \"mean_value_of_long_term_variability\"] = np.nan\n",
        "\n",
        "processed_fetal_dirty_df.iloc[91:101]"
      ]
    },
    {
      "cell_type": "markdown",
      "metadata": {
        "id": "zpP3WEH6xw9b"
      },
      "source": [
        "* The baseline value of fetal heart rate cannot be negative \n",
        "* The fetal health value cannot be anything other than 1, 2, 3\n",
        "* The average movement rate is 0.003/sec so any negative or very high value would be inconsistent\n",
        "* The range of general uterine contraction is between 0.007-0.008 contractions per second; so it cannot be high values like >1 or negative values\n",
        "* The mean short and long term variability values cannot be negative\n",
        "* The percentage of time with abnormal long term variability value cannot be greater than 100 or less than 0\n",
        "\n"
      ]
    },
    {
      "cell_type": "markdown",
      "metadata": {
        "id": "OqxjckzSz-hV"
      },
      "source": [
        "### Problem 1.4"
      ]
    },
    {
      "cell_type": "code",
      "execution_count": null,
      "metadata": {
        "id": "IPw21Smex-cV"
      },
      "outputs": [],
      "source": [
        "#@title\n",
        "non_cat_cols = list(processed_fetal_dirty_df.columns[0:21])\n",
        "processed_fetal_dirty_df.iloc[:, 0:21] = sps.zscore(processed_fetal_dirty_df[non_cat_cols], nan_policy='omit')\n",
        "processed_fetal_dirty_df.head(20)"
      ]
    },
    {
      "cell_type": "markdown",
      "metadata": {
        "id": "bgxDFuA3z-hW"
      },
      "source": [
        "### Problem 1.5"
      ]
    },
    {
      "cell_type": "code",
      "execution_count": null,
      "metadata": {
        "id": "-0v14ybDz-hW"
      },
      "outputs": [],
      "source": [
        "#@title\n",
        "for col in processed_fetal_dirty_df.columns:\n",
        "  med = processed_fetal_dirty_df[col].median()\n",
        "  processed_fetal_dirty_df[col].fillna(med, inplace=True)\n",
        "\n",
        "# processed_fetal_dirty_df.iloc[91:101]"
      ]
    },
    {
      "cell_type": "markdown",
      "metadata": {
        "id": "RRrpdSTJyGt1"
      },
      "source": [
        "### Problem 1.6"
      ]
    },
    {
      "cell_type": "code",
      "execution_count": null,
      "metadata": {
        "id": "Ctwd0h7XyG8k"
      },
      "outputs": [],
      "source": [
        "#@title\n",
        "fetal_dirty_df_onehot = processed_fetal_dirty_df.copy()\n",
        "fetal_dirty_df_onehot[\"f0\"]= pd.get_dummies(fetal_dirty_df[\"fetal_health\"])[1]  # Normal --> 001\n",
        "fetal_dirty_df_onehot[\"f1\"]= pd.get_dummies(fetal_dirty_df[\"fetal_health\"])[2]  # Suspect --> 010\n",
        "fetal_dirty_df_onehot[\"f2\"]= pd.get_dummies(fetal_dirty_df[\"fetal_health\"])[3]  # Pathological --> 100\n",
        "fetal_dirty_df_onehot.to_csv(\"fetal_health_dataset_processed.csv\")\n",
        "fetal_dirty_df_onehot.head(10)"
      ]
    },
    {
      "cell_type": "markdown",
      "metadata": {
        "id": "E8hZzOSvymHL"
      },
      "source": [
        "# **2. Heart Failure Prediction Dataset**"
      ]
    },
    {
      "cell_type": "markdown",
      "metadata": {
        "id": "5YpfhDVMymHM"
      },
      "source": [
        "## Problem 2.1"
      ]
    },
    {
      "cell_type": "code",
      "execution_count": null,
      "metadata": {
        "id": "xD1GcvD4ymHM",
        "colab": {
          "base_uri": "https://localhost:8080/"
        },
        "outputId": "566aab33-7ad2-4678-d25d-de1c271c7933"
      },
      "outputs": [
        {
          "output_type": "execute_result",
          "data": {
            "text/plain": [
              "(299, 13)"
            ]
          },
          "metadata": {},
          "execution_count": 22
        }
      ],
      "source": [
        "# load the dataset csv file into a pandas dataframe\n",
        "heart_df = pd.read_csv('heart_failure_dataset.csv')\n",
        "heart_df.shape"
      ]
    },
    {
      "cell_type": "markdown",
      "metadata": {
        "id": "1EQWwLbvymHN"
      },
      "source": [
        "### (a)"
      ]
    },
    {
      "cell_type": "markdown",
      "metadata": {
        "id": "6GkRt8w6ymHN"
      },
      "source": [
        "This is a **supervised machine learning task**. The provided dataset consists of different features that could potentially help infer the cardiovascular health of a person -- these are the independent variables. The dataset also consists of the death event based on the given independent variables -- i.e. each combination of cardiac health features has been labeled with either \"died\" or \"didn't die\". So, during training, the model will be fed with both the cardiac health features as well as the death event labels making it supervised learning.\n",
        "\n"
      ]
    },
    {
      "cell_type": "markdown",
      "metadata": {
        "id": "T5HoKdioymHN"
      },
      "source": [
        "### (b)"
      ]
    },
    {
      "cell_type": "code",
      "execution_count": null,
      "metadata": {
        "id": "xUGIEmzYymHN"
      },
      "outputs": [],
      "source": [
        "print(f'dtypes: {heart_df.dtypes}')\n",
        "print(f'axes: {heart_df.axes}')"
      ]
    },
    {
      "cell_type": "markdown",
      "metadata": {
        "id": "TGHAoXfMymHO"
      },
      "source": [
        "### (c)\n",
        "\n"
      ]
    },
    {
      "cell_type": "code",
      "execution_count": null,
      "metadata": {
        "id": "ItDMYWoFymHO"
      },
      "outputs": [],
      "source": [
        "heart_df.head(10)"
      ]
    },
    {
      "cell_type": "markdown",
      "metadata": {
        "id": "7kNl2WpSymHO"
      },
      "source": [
        "### (d)"
      ]
    },
    {
      "cell_type": "code",
      "execution_count": null,
      "metadata": {
        "id": "AblNbsncymHO"
      },
      "outputs": [],
      "source": [
        "heart_df.shape"
      ]
    },
    {
      "cell_type": "markdown",
      "metadata": {
        "id": "xuh9-lN7ymHP"
      },
      "source": [
        "### (e)"
      ]
    },
    {
      "cell_type": "markdown",
      "metadata": {
        "id": "tL9qHIJXymHP"
      },
      "source": [
        "299 samples"
      ]
    },
    {
      "cell_type": "markdown",
      "metadata": {
        "id": "csN1zEzLymHP"
      },
      "source": [
        "### (f)"
      ]
    },
    {
      "cell_type": "markdown",
      "metadata": {
        "id": "a0HNj-AyymHP"
      },
      "source": [
        "12 independent variables:\n",
        "'age', 'anaemia', 'creatinine_phosphokinase' 'diabetes', 'ejection_fraction' 'high_blood_pressure', 'platelets' 'serum_creatinine', 'serum_sodium', 'sex' 'smoking', 'time'"
      ]
    },
    {
      "cell_type": "markdown",
      "metadata": {
        "id": "Ayov9je2ymHQ"
      },
      "source": [
        "### (g)"
      ]
    },
    {
      "cell_type": "markdown",
      "metadata": {
        "id": "B4E676ygymHQ"
      },
      "source": [
        "1 dependent variable: DEATH_EVENT"
      ]
    },
    {
      "cell_type": "markdown",
      "metadata": {
        "id": "a8Bo-uKXymHQ"
      },
      "source": [
        "### (h)"
      ]
    },
    {
      "cell_type": "markdown",
      "metadata": {
        "id": "3gxnjWUgymHQ"
      },
      "source": [
        "299, 12"
      ]
    },
    {
      "cell_type": "markdown",
      "metadata": {
        "id": "G9BxqfsbymHQ"
      },
      "source": [
        "### (i)"
      ]
    },
    {
      "cell_type": "markdown",
      "metadata": {
        "id": "2bXh4Av6ymHR"
      },
      "source": [
        "299, 1"
      ]
    },
    {
      "cell_type": "markdown",
      "metadata": {
        "id": "OzpMBV2cymHR"
      },
      "source": [
        "### (j)"
      ]
    },
    {
      "cell_type": "code",
      "execution_count": null,
      "metadata": {
        "id": "CM0kJiNMzftk"
      },
      "outputs": [],
      "source": [
        "### Your code for 2.1(j) goes here ###\n",
        "print(heart_df.nunique())\n",
        "for col in heart_df.columns:\n",
        "  print(f'{col}')\n",
        "  print(heart_df[f'{col}'].unique())"
      ]
    },
    {
      "cell_type": "markdown",
      "metadata": {
        "id": "1tX1-uIgymHR"
      },
      "source": [
        "In this dataframe **anaemia, diabetes, high_blood_pressure, sex, smoking, DEATH_EVENT** are categorical variables. These variables group the samples into categories, like anaemic/non-anaemic, male/female, smoker/non-smoker, diabetic/non-diabetic, etc. All these variables put the samples into different categories so they are categorical variables."
      ]
    },
    {
      "cell_type": "markdown",
      "metadata": {
        "id": "2BBhe25UymHR"
      },
      "source": [
        "### (k)"
      ]
    },
    {
      "cell_type": "markdown",
      "metadata": {
        "id": "PNxn1zIzymHR"
      },
      "source": [
        "anaemia, diabetes, high_blood_pressure, sex, smoking, DEATH_EVENT are **binary encoded**."
      ]
    },
    {
      "cell_type": "markdown",
      "metadata": {
        "id": "e9TnxUb3ymHR"
      },
      "source": [
        "### (l)"
      ]
    },
    {
      "cell_type": "code",
      "execution_count": null,
      "metadata": {
        "id": "KUfiYo3lymHS",
        "colab": {
          "base_uri": "https://localhost:8080/"
        },
        "outputId": "29a06762-07b1-4a5f-cea1-e275856eb79b"
      },
      "outputs": [
        {
          "output_type": "execute_result",
          "data": {
            "text/plain": [
              "0    203\n",
              "1     96\n",
              "Name: DEATH_EVENT, dtype: int64"
            ]
          },
          "metadata": {},
          "execution_count": 28
        }
      ],
      "source": [
        "heart_df.loc[:,\"DEATH_EVENT\"].value_counts()"
      ]
    },
    {
      "cell_type": "markdown",
      "metadata": {
        "id": "VlxMlRziymHS"
      },
      "source": [
        "### (m)"
      ]
    },
    {
      "cell_type": "code",
      "execution_count": null,
      "metadata": {
        "id": "Kp2yCXJ-z3Gh",
        "colab": {
          "base_uri": "https://localhost:8080/"
        },
        "outputId": "0e30e53e-1205-4e39-ea67-3c63154fbf3f"
      },
      "outputs": [
        {
          "output_type": "execute_result",
          "data": {
            "text/plain": [
              "1    194\n",
              "0    105\n",
              "Name: sex, dtype: int64"
            ]
          },
          "metadata": {},
          "execution_count": 29
        }
      ],
      "source": [
        "heart_df.loc[:,\"sex\"].value_counts()"
      ]
    },
    {
      "cell_type": "markdown",
      "metadata": {
        "id": "S-53k2x3ymHS"
      },
      "source": [
        "### (n)"
      ]
    },
    {
      "cell_type": "code",
      "execution_count": null,
      "metadata": {
        "id": "emwfFgVAymHT",
        "colab": {
          "base_uri": "https://localhost:8080/"
        },
        "outputId": "99629eea-5e35-42f9-bd88-d5b71366eab0"
      },
      "outputs": [
        {
          "output_type": "execute_result",
          "data": {
            "text/plain": [
              "0    203\n",
              "1     96\n",
              "Name: smoking, dtype: int64"
            ]
          },
          "metadata": {},
          "execution_count": 30
        }
      ],
      "source": [
        "heart_df.loc[:,\"smoking\"].value_counts()"
      ]
    },
    {
      "cell_type": "markdown",
      "metadata": {
        "id": "FpQWnOOpymHT"
      },
      "source": [
        "## Problem 2.2"
      ]
    },
    {
      "cell_type": "code",
      "execution_count": null,
      "metadata": {
        "id": "QmAtpjMiymHU"
      },
      "outputs": [],
      "source": [
        "processed_heart_df = heart_df.copy()\n",
        "\n",
        "# non-categorical variables\n",
        "processed_heart_df.loc[(processed_heart_df[\"platelets\"] < 50000) & (processed_heart_df[\"platelets\"] > 1000000), \"platelets\"] = np.nan\n",
        "processed_heart_df.loc[(processed_heart_df[\"ejection_fraction\"] < 0) & (processed_heart_df[\"ejection_fraction\"] > 100), \"ejection_fraction\"] = np.nan\n",
        "processed_heart_df.loc[(processed_heart_df[\"serum_sodium\"] < 50) & (processed_heart_df[\"serum_sodium\"] > 500), \"serum_sodium\"] = np.nan\n",
        "processed_heart_df.loc[(processed_heart_df[\"creatinine_phosphokinase\"] < 0) & (processed_heart_df[\"creatinine_phosphokinase\"] > 200), \"creatinine_phosphokinase\"] = np.nan\n",
        "\n",
        "# categorical variables\n",
        "processed_heart_df[\"anaemia\"] = processed_heart_df[\"anaemia\"].apply(lambda x: x if x in [0,1] else np.nan)\n",
        "processed_heart_df[\"diabetes\"] = processed_heart_df[\"diabetes\"].apply(lambda x: x if x in [0,1] else np.nan)\n",
        "processed_heart_df[\"high_blood_pressure\"] = processed_heart_df[\"high_blood_pressure\"].apply(lambda x: x if x in [0,1] else np.nan)\n",
        "processed_heart_df[\"sex\"] = processed_heart_df[\"sex\"].apply(lambda x: x if x in [0,1] else np.nan)\n",
        "processed_heart_df[\"smoking\"] = processed_heart_df[\"smoking\"].apply(lambda x: x if x in [0,1] else np.nan)\n",
        "processed_heart_df[\"time\"] = processed_heart_df[\"time\"].apply(lambda x: x if x >= 0 else np.nan)\n",
        "processed_heart_df[\"DEATH_EVENT\"] = processed_heart_df[\"DEATH_EVENT\"].apply(lambda x: x if x in [0,1] else np.nan)\n",
        "\n",
        "processed_heart_df.head(20)"
      ]
    },
    {
      "cell_type": "markdown",
      "metadata": {
        "id": "it9WyiZiymHU"
      },
      "source": [
        "* All the categorical variables have to be either 0 or 1 \n",
        "* ejection_fraction cannot be less than 0 or more than 100 as it is a percentage\n",
        "* average platelet count is between 150,000 and 450,000 so it cannot be anything too low (50,000) or too high (1,000,000)\n",
        "* serum_sodium levels are 135 to 145 milliequivalents per liter, so anything too high (>500) or too low (<50) would be inconsistent\n",
        "* The average level of creatinine phosphokinase is 10 to 120 micrograms per liter of blood; so inconsistency would be negative or too high values (>500)"
      ]
    },
    {
      "cell_type": "markdown",
      "metadata": {
        "id": "6fqh4x4FymHV"
      },
      "source": [
        "## Problem 2.3"
      ]
    },
    {
      "cell_type": "code",
      "execution_count": null,
      "metadata": {
        "id": "gMs526ezymHV"
      },
      "outputs": [],
      "source": [
        "### Your code for 2.3 goes here ###\n",
        "non_cat_cols = ['age', 'creatinine_phosphokinase', 'ejection_fraction', 'platelets', 'serum_creatinine', 'serum_sodium', 'time']\n",
        "processed_heart_df.loc[:, non_cat_cols] = sps.zscore(processed_heart_df[non_cat_cols], nan_policy='omit')\n",
        "processed_heart_df.head(20)"
      ]
    },
    {
      "cell_type": "markdown",
      "metadata": {
        "id": "E98vhjP2ymHV"
      },
      "source": [
        "## Problem 2.4"
      ]
    },
    {
      "cell_type": "code",
      "execution_count": null,
      "metadata": {
        "id": "SPylR2kxymHW"
      },
      "outputs": [],
      "source": [
        "### Your code for 2.4 goes here ###\n",
        "heart_df_onehot= processed_heart_df.copy()\n",
        "heart_df_onehot[\"D0\"] = pd.get_dummies(heart_df[\"DEATH_EVENT\"])[0]                # 01 --> did not die\n",
        "heart_df_onehot[\"D1\"] = pd.get_dummies(heart_df[\"DEATH_EVENT\"])[1]                # 10 --> died\n",
        "heart_df_onehot.to_csv(\"heart_failure_dataset_processed.csv\")"
      ]
    },
    {
      "cell_type": "markdown",
      "metadata": {
        "id": "xfPMV5BEymHW"
      },
      "source": [
        "## Problem 2.5"
      ]
    },
    {
      "cell_type": "code",
      "source": [
        "heart_df.corr()[\"DEATH_EVENT\"]"
      ],
      "metadata": {
        "id": "lFXT6_QjV6w-",
        "colab": {
          "base_uri": "https://localhost:8080/"
        },
        "outputId": "c827eb1a-733e-47a1-b608-20810d1225c3"
      },
      "execution_count": null,
      "outputs": [
        {
          "output_type": "execute_result",
          "data": {
            "text/plain": [
              "age                         0.253729\n",
              "anaemia                     0.066270\n",
              "creatinine_phosphokinase   -0.039709\n",
              "diabetes                   -0.001943\n",
              "ejection_fraction          -0.268603\n",
              "high_blood_pressure         0.079351\n",
              "platelets                  -0.020900\n",
              "serum_creatinine            0.294278\n",
              "serum_sodium               -0.177677\n",
              "sex                        -0.004316\n",
              "smoking                    -0.012623\n",
              "time                       -0.526964\n",
              "DEATH_EVENT                 1.000000\n",
              "Name: DEATH_EVENT, dtype: float64"
            ]
          },
          "metadata": {},
          "execution_count": 52
        }
      ]
    },
    {
      "cell_type": "code",
      "execution_count": null,
      "metadata": {
        "id": "RgVpyMUmymHW"
      },
      "outputs": [],
      "source": [
        "plt.matshow(heart_df.corr())\n",
        "plt.show()"
      ]
    },
    {
      "cell_type": "markdown",
      "metadata": {
        "id": "ANRm2Vxh1Cda"
      },
      "source": [
        "### (a)"
      ]
    },
    {
      "cell_type": "markdown",
      "metadata": {
        "id": "2E0LfOKm1CVp"
      },
      "source": [
        "serum_creatinine (pairwise correlation: 0.294278) and age (pairwise correlation: 0.253729)"
      ]
    },
    {
      "cell_type": "markdown",
      "metadata": {
        "id": "HewpTMK61CI7"
      },
      "source": [
        "### (b)"
      ]
    },
    {
      "cell_type": "markdown",
      "metadata": {
        "id": "LRK015A91B-R"
      },
      "source": [
        "time (pairwise correlation: -0.526964) and ejection_fraction (pairwise correlation: -0.268603)"
      ]
    },
    {
      "cell_type": "markdown",
      "metadata": {
        "id": "jnGzZ9gO1BoX"
      },
      "source": [
        "### (c)"
      ]
    },
    {
      "cell_type": "markdown",
      "metadata": {
        "id": "zXc0HGwg1BlY"
      },
      "source": [
        "The second-most positively correlated variable with DEATH_EVENT is **age** (pairwise correlation: 0.253729). The logical reasoning behind this correlation could be that as people age, their heart condition tends to deteriorate, making death from heart-related causes more and more likely. "
      ]
    },
    {
      "cell_type": "markdown",
      "metadata": {
        "id": "fE1TPn3s1Xq9"
      },
      "source": [
        "### (d)"
      ]
    },
    {
      "cell_type": "markdown",
      "metadata": {
        "id": "1RXjXFH81XhL"
      },
      "source": [
        "The two most negatively correlated variables with DEATH_EVENT are **time** (pairwise correlation: -0.526964) and **ejection_fraction** (pairwise correlation: -0.268603). The logical reasoning behind this could be that the follow-up time between doctor's appointments and how much blood is pumped by the heart are precautionary steps for avoiding death from heart failure. If follow-ups are done more frequently and ejection fraction levels are monitored, the doctor can take actions against heart failure faster thus decreasing chances of death. However, if death event does occur then that could imply less frequent follow-ups as well as inconsistent monitoring of ejection fraction. "
      ]
    }
  ],
  "metadata": {
    "colab": {
      "collapsed_sections": [],
      "provenance": []
    },
    "kernelspec": {
      "display_name": "Python 3",
      "language": "python",
      "name": "python3"
    },
    "language_info": {
      "codemirror_mode": {
        "name": "ipython",
        "version": 3
      },
      "file_extension": ".py",
      "mimetype": "text/x-python",
      "name": "python",
      "nbconvert_exporter": "python",
      "pygments_lexer": "ipython3",
      "version": "3.7.9"
    }
  },
  "nbformat": 4,
  "nbformat_minor": 0
}