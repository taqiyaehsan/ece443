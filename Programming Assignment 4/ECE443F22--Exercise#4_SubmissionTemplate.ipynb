{
  "nbformat": 4,
  "nbformat_minor": 0,
  "metadata": {
    "kernelspec": {
      "display_name": "Python 3",
      "language": "python",
      "name": "python3"
    },
    "language_info": {
      "codemirror_mode": {
        "name": "ipython",
        "version": 3
      },
      "file_extension": ".py",
      "mimetype": "text/x-python",
      "name": "python",
      "nbconvert_exporter": "python",
      "pygments_lexer": "ipython3",
      "version": "3.7.9"
    },
    "colab": {
      "provenance": []
    }
  },
  "cells": [
    {
      "cell_type": "markdown",
      "source": [
        "# [Your full name goes here]\n",
        "# Programming Exercise \\#4\n",
        "---"
      ],
      "metadata": {
        "id": "DAO8AZsc266y"
      }
    },
    {
      "cell_type": "markdown",
      "source": [
        "# Preamble"
      ],
      "metadata": {
        "id": "rJOtXeNg38_u"
      }
    },
    {
      "cell_type": "code",
      "source": [
        "# optional code cell when using Google Colab with Google Drive\n",
        "\n",
        "# remove the docstring comment block below in order to mount Google Drive\n",
        "'''\n",
        "# mount Google Drive in Google Colab\n",
        "from google.colab import drive\n",
        "drive.mount('/content/drive')\n",
        "\n",
        "# change directory using the magic command %cd\n",
        "### replace [MY PATH] below with your own path in Google Drive ###\n",
        "### %cd /content/drive/My\\ Drive/[MY PATH] ###\n",
        "'''"
      ],
      "metadata": {
        "id": "Ldu0WSDK4IjA"
      },
      "execution_count": null,
      "outputs": []
    },
    {
      "cell_type": "code",
      "source": [
        "# import relevant Python libraries\n",
        "\n",
        "### Your import commands go here ###"
      ],
      "metadata": {
        "id": "rjUKWdVD_Eqh"
      },
      "execution_count": null,
      "outputs": []
    },
    {
      "cell_type": "markdown",
      "metadata": {
        "id": "zhwGhIEGBSr9"
      },
      "source": [
        "# **1. Machine Learning for Diagnosis of 'Senioritis'**"
      ]
    },
    {
      "cell_type": "markdown",
      "metadata": {
        "id": "2jXwcr_YBSr_"
      },
      "source": [
        "## Problem 1.1"
      ]
    },
    {
      "cell_type": "code",
      "metadata": {
        "id": "h6MdU0VkBSsA"
      },
      "source": [
        "### Your code for 1.1 goes here ###"
      ],
      "execution_count": 18,
      "outputs": []
    },
    {
      "cell_type": "markdown",
      "metadata": {
        "id": "OJLMW7BEBSsH"
      },
      "source": [
        "## Problem 1.2"
      ]
    },
    {
      "cell_type": "markdown",
      "metadata": {
        "id": "pJWD1hKHBSsJ"
      },
      "source": [
        "### (a)"
      ]
    },
    {
      "cell_type": "code",
      "metadata": {
        "id": "VkVd5puYBSsK"
      },
      "source": [
        "### Your code for 1.2(a) goes here ###"
      ],
      "execution_count": 2,
      "outputs": []
    },
    {
      "cell_type": "markdown",
      "metadata": {
        "id": "ZDUKceuEBSsS"
      },
      "source": [
        "### (b)"
      ]
    },
    {
      "cell_type": "code",
      "metadata": {
        "id": "AkzfJg3nBSsT"
      },
      "source": [
        "### Your code for 1.2(b) goes here ###"
      ],
      "execution_count": 3,
      "outputs": []
    },
    {
      "cell_type": "markdown",
      "metadata": {
        "id": "jLgbxIvtBSsZ"
      },
      "source": [
        "### (c)"
      ]
    },
    {
      "cell_type": "code",
      "metadata": {
        "id": "oNV4l0BRBSsa"
      },
      "source": [
        "### Your code for 1.2(c) goes here ###"
      ],
      "execution_count": 4,
      "outputs": []
    },
    {
      "cell_type": "markdown",
      "metadata": {
        "id": "uuSmWCmUBSsh"
      },
      "source": [
        "### (d)"
      ]
    },
    {
      "cell_type": "code",
      "metadata": {
        "id": "6yOHrU9GBSsi"
      },
      "source": [
        "### Your code for 1.2(d) goes here ###"
      ],
      "execution_count": 5,
      "outputs": []
    },
    {
      "cell_type": "markdown",
      "metadata": {
        "id": "0oTtgyZ2BSsp"
      },
      "source": [
        "## Problem 1.3"
      ]
    },
    {
      "cell_type": "markdown",
      "metadata": {
        "id": "VfNIbZRSBSsq"
      },
      "source": [
        "### (a)"
      ]
    },
    {
      "cell_type": "code",
      "metadata": {
        "id": "acY_lFHsBSss"
      },
      "source": [
        "### Your code for 1.3(a) goes here ###"
      ],
      "execution_count": 7,
      "outputs": []
    },
    {
      "cell_type": "markdown",
      "metadata": {
        "id": "3HUsn6EcBSsy"
      },
      "source": [
        "### (b)"
      ]
    },
    {
      "cell_type": "code",
      "metadata": {
        "id": "-qg78GX_BSsz"
      },
      "source": [
        "### Your code for 1.3(b) goes here ###"
      ],
      "execution_count": 8,
      "outputs": []
    },
    {
      "cell_type": "markdown",
      "metadata": {
        "id": "0Nk0XT-vBSs5"
      },
      "source": [
        "### (c)"
      ]
    },
    {
      "cell_type": "code",
      "metadata": {
        "id": "8Zu53VxqBSs6"
      },
      "source": [
        "### Your code for 1.3(c) goes here ###"
      ],
      "execution_count": 9,
      "outputs": []
    },
    {
      "cell_type": "markdown",
      "metadata": {
        "id": "GyQgS75hBSs_"
      },
      "source": [
        "### (d)"
      ]
    },
    {
      "cell_type": "code",
      "metadata": {
        "id": "jsAVs-_VBStA"
      },
      "source": [
        "### Your code for 1.3(d) goes here ###"
      ],
      "execution_count": 10,
      "outputs": []
    },
    {
      "cell_type": "markdown",
      "metadata": {
        "id": "1bwKNCDHBStE"
      },
      "source": [
        "### (e)"
      ]
    },
    {
      "cell_type": "code",
      "metadata": {
        "id": "8_6XcuzaBStF"
      },
      "source": [
        "### Your code for 1.3(e) goes here ###"
      ],
      "execution_count": 11,
      "outputs": []
    },
    {
      "cell_type": "markdown",
      "metadata": {
        "id": "OMSsgiP0BStK"
      },
      "source": [
        "## Problem 1.4"
      ]
    },
    {
      "cell_type": "markdown",
      "metadata": {
        "id": "RIIk5GjTBStM"
      },
      "source": [
        "_[Your answer for 1.4 goes here]_"
      ]
    },
    {
      "cell_type": "markdown",
      "metadata": {
        "id": "I6XjU1yWBStN"
      },
      "source": [
        "## Problem 1.5"
      ]
    },
    {
      "cell_type": "markdown",
      "metadata": {
        "id": "3Zof3VwWBStP"
      },
      "source": [
        "### (a)"
      ]
    },
    {
      "cell_type": "code",
      "metadata": {
        "id": "EKDFslOyBStQ"
      },
      "source": [
        "### Your code for 1.5(a) goes here ###"
      ],
      "execution_count": 12,
      "outputs": []
    },
    {
      "cell_type": "markdown",
      "metadata": {
        "id": "DLSOeZ0SBStW"
      },
      "source": [
        "### (b)"
      ]
    },
    {
      "cell_type": "code",
      "metadata": {
        "id": "i7Qu9msUBStY"
      },
      "source": [
        "### Your code for 1.5(b) goes here ###"
      ],
      "execution_count": 13,
      "outputs": []
    },
    {
      "cell_type": "markdown",
      "metadata": {
        "id": "lZrfvmWWBStd"
      },
      "source": [
        "### (c)"
      ]
    },
    {
      "cell_type": "code",
      "metadata": {
        "id": "7Q4Cn4gPBSte"
      },
      "source": [
        "### Your code for 1.5(c) goes here ###"
      ],
      "execution_count": 14,
      "outputs": []
    },
    {
      "cell_type": "markdown",
      "metadata": {
        "id": "7q6b-ZCeBStk"
      },
      "source": [
        "### (d)"
      ]
    },
    {
      "cell_type": "code",
      "metadata": {
        "id": "jbaaMPsUBStl"
      },
      "source": [
        "### Your code for 1.5(d) goes here ###"
      ],
      "execution_count": 15,
      "outputs": []
    },
    {
      "cell_type": "markdown",
      "metadata": {
        "id": "wYJ8uTySBStr"
      },
      "source": [
        "### (e)"
      ]
    },
    {
      "cell_type": "code",
      "metadata": {
        "id": "E6jxBuc3BSts"
      },
      "source": [
        "### Your code for 1.5(e) goes here ###"
      ],
      "execution_count": 16,
      "outputs": []
    },
    {
      "cell_type": "markdown",
      "metadata": {
        "id": "dS18Y07NBStx"
      },
      "source": [
        "## Problem 1.6\n"
      ]
    },
    {
      "cell_type": "markdown",
      "metadata": {
        "id": "D-h7vwBQBSty"
      },
      "source": [
        "### (a)"
      ]
    },
    {
      "cell_type": "code",
      "metadata": {
        "id": "890hJtGzBStz"
      },
      "source": [
        "### Your code for 1.6(a) goes here ###"
      ],
      "execution_count": 17,
      "outputs": []
    },
    {
      "cell_type": "markdown",
      "metadata": {
        "id": "BrzdK_9_BSt5"
      },
      "source": [
        "### (b)"
      ]
    },
    {
      "cell_type": "markdown",
      "metadata": {
        "id": "YMzZ-QsuBSt6"
      },
      "source": [
        "_[Your answer for 1.6(b) goes here]_"
      ]
    }
  ]
}